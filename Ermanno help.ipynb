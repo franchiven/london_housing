{
 "cells": [
  {
   "cell_type": "code",
   "execution_count": null,
   "metadata": {
    "ExecuteTime": {
     "end_time": "2020-06-12T08:42:21.041659Z",
     "start_time": "2020-06-12T08:42:19.877716Z"
    }
   },
   "outputs": [],
   "source": [
    "%matplotlib inline\n",
    "import numpy as np\n",
    "import pandas as pd\n",
    "import matplotlib.pyplot as plt\n"
   ]
  },
  {
   "cell_type": "code",
   "execution_count": null,
   "metadata": {
    "ExecuteTime": {
     "end_time": "2020-06-12T08:44:45.139726Z",
     "start_time": "2020-06-12T08:44:45.120939Z"
    }
   },
   "outputs": [],
   "source": [
    "df = pd.read_csv('/Users/francesco/Downloads/Popular_Baby_Names.csv')"
   ]
  },
  {
   "cell_type": "code",
   "execution_count": null,
   "metadata": {
    "ExecuteTime": {
     "end_time": "2020-06-12T08:44:36.119366Z",
     "start_time": "2020-06-12T08:44:36.115763Z"
    }
   },
   "outputs": [],
   "source": [
    "df.shape"
   ]
  },
  {
   "cell_type": "code",
   "execution_count": null,
   "metadata": {
    "ExecuteTime": {
     "end_time": "2020-06-12T08:44:47.869216Z",
     "start_time": "2020-06-12T08:44:47.859042Z"
    }
   },
   "outputs": [],
   "source": [
    "df.head(10)"
   ]
  },
  {
   "cell_type": "code",
   "execution_count": null,
   "metadata": {
    "ExecuteTime": {
     "end_time": "2020-06-12T08:44:02.125417Z",
     "start_time": "2020-06-12T08:44:02.120673Z"
    }
   },
   "outputs": [],
   "source": [
    "df.dtypes"
   ]
  },
  {
   "cell_type": "code",
   "execution_count": null,
   "metadata": {
    "ExecuteTime": {
     "end_time": "2020-06-12T08:44:05.244068Z",
     "start_time": "2020-06-12T08:44:05.225104Z"
    }
   },
   "outputs": [],
   "source": [
    "df.describe()"
   ]
  },
  {
   "cell_type": "code",
   "execution_count": null,
   "metadata": {
    "ExecuteTime": {
     "end_time": "2020-06-12T08:50:17.975088Z",
     "start_time": "2020-06-12T08:50:17.968131Z"
    }
   },
   "outputs": [],
   "source": [
    "df2 = df.rename(columns = {'Year of Birth':'YearOfBirth', 'Child\\'s First Name':'ChildsFirstName'})\n",
    "\n",
    "\n",
    "#Could also do like this below: inplace=True lets you set it to the current dataframe\n",
    "# df.rename(columns = {'Year of Birth':'YearOfBirth', 'Child\\'s First Name':'ChildsFirstName'}, inplace=True)"
   ]
  },
  {
   "cell_type": "code",
   "execution_count": null,
   "metadata": {
    "ExecuteTime": {
     "end_time": "2020-06-12T08:54:26.225981Z",
     "start_time": "2020-06-12T08:54:26.218411Z"
    }
   },
   "outputs": [],
   "source": [
    "#df.head() automatically shows the first 5 rows instead of printing the whole dataframe. \n",
    "#(df.head(10) will show the first 10 rows)\n",
    "df2.head()"
   ]
  },
  {
   "cell_type": "code",
   "execution_count": null,
   "metadata": {
    "ExecuteTime": {
     "end_time": "2020-06-12T09:32:42.210831Z",
     "start_time": "2020-06-12T09:32:42.199449Z"
    }
   },
   "outputs": [],
   "source": [
    "#Drop duplicates inplace=True to change the dataframe\n",
    "df2.drop_duplicates(inplace=True)\n",
    "df2.shape"
   ]
  },
  {
   "cell_type": "code",
   "execution_count": null,
   "metadata": {
    "ExecuteTime": {
     "end_time": "2020-06-12T09:32:28.718705Z",
     "start_time": "2020-06-12T09:32:28.714199Z"
    }
   },
   "outputs": [],
   "source": [
    "#Select the column of interest: df.ChildsFirstName use .unique() to find the unique values and len will give you the number\n",
    "len(df2.ChildsFirstName.unique())"
   ]
  },
  {
   "cell_type": "code",
   "execution_count": null,
   "metadata": {
    "ExecuteTime": {
     "end_time": "2020-06-12T09:32:30.668369Z",
     "start_time": "2020-06-12T09:32:30.645795Z"
    }
   },
   "outputs": [],
   "source": [
    "'''\n",
    "by is which columns you want to sort by. \n",
    "A column is written as either df['Rank'] or df.Rank\n",
    "\n",
    "Muliple columns can be written in the same set of square brackets.\n",
    "The order of columns is important depending on how you want to sort them. ['Rank', 'Gender'] != ['Gender', 'Rank'] try it\n",
    "\n",
    "[0:60] prints the first 60 rows \n",
    "'''\n",
    "df2.sort_values(by=['Rank', 'YearOfBirth', 'Gender', 'Ethnicity'])[0:60]"
   ]
  },
  {
   "cell_type": "code",
   "execution_count": null,
   "metadata": {
    "ExecuteTime": {
     "end_time": "2020-06-12T15:11:37.559000Z",
     "start_time": "2020-06-12T15:11:37.549626Z"
    }
   },
   "outputs": [],
   "source": [
    "'''\n",
    "groupby is kind of like .unique() it groups the data based on name.\n",
    "you then want to sort that data based on the sum of Count \n",
    "you then want to sort_values that data ascending = False so the highest counts appear at the top\n",
    "then print the top 10 names\n",
    "\n",
    "(try printing it out bit by bit to see what its doing)\n",
    "'''\n",
    "df2.groupby(['ChildsFirstName'])['Count'].sum().sort_values(ascending=False)[0:10]"
   ]
  },
  {
   "cell_type": "code",
   "execution_count": null,
   "metadata": {
    "ExecuteTime": {
     "end_time": "2020-06-12T15:22:40.080429Z",
     "start_time": "2020-06-12T15:22:40.062833Z"
    }
   },
   "outputs": [],
   "source": [
    "'''\n",
    "Use the groupby we did above as a new dataframe (most_common_names)\n",
    "Then groupby gender and take the largest 10 values of each gender\n",
    "'''\n",
    "most_common_names = df2.groupby(['ChildsFirstName', 'Gender'])['Count'].sum().sort_values(ascending=False)\n",
    "most_common_names.groupby('Gender').nlargest(10)"
   ]
  },
  {
   "cell_type": "code",
   "execution_count": null,
   "metadata": {
    "ExecuteTime": {
     "end_time": "2020-06-12T10:24:31.275828Z",
     "start_time": "2020-06-12T10:24:31.259967Z"
    }
   },
   "outputs": [],
   "source": [
    "'''\n",
    "Groupby the name and then count the sum as above\n",
    "Only select the values less or equal to 10\n",
    "sum them to find the total number\n",
    "'''\n",
    "(df2.groupby(['ChildsFirstName'])['Count'].sum().sort_values(ascending=False) <= 10).sum()"
   ]
  },
  {
   "cell_type": "code",
   "execution_count": null,
   "metadata": {},
   "outputs": [],
   "source": [
    "'''\n",
    "Go do one you mug\n",
    "8==D\n",
    "'''"
   ]
  }
 ],
 "metadata": {
  "kernelspec": {
   "display_name": "Python 3",
   "language": "python",
   "name": "python3"
  },
  "language_info": {
   "codemirror_mode": {
    "name": "ipython",
    "version": 3
   },
   "file_extension": ".py",
   "mimetype": "text/x-python",
   "name": "python",
   "nbconvert_exporter": "python",
   "pygments_lexer": "ipython3",
   "version": "3.7.4"
  },
  "toc": {
   "base_numbering": 1,
   "nav_menu": {},
   "number_sections": true,
   "sideBar": true,
   "skip_h1_title": false,
   "title_cell": "Table of Contents",
   "title_sidebar": "Contents",
   "toc_cell": false,
   "toc_position": {},
   "toc_section_display": true,
   "toc_window_display": false
  }
 },
 "nbformat": 4,
 "nbformat_minor": 2
}

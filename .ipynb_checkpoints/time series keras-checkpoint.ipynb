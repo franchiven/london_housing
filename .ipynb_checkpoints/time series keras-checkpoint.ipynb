{
 "cells": [
  {
   "cell_type": "code",
   "execution_count": 1,
   "metadata": {
    "ExecuteTime": {
     "end_time": "2020-06-09T13:46:15.370349Z",
     "start_time": "2020-06-09T13:46:14.016394Z"
    }
   },
   "outputs": [],
   "source": [
    "import pandas as pd\n",
    "from pandas import Timestamp\n",
    "import numpy as np\n",
    "from operator import itemgetter\n",
    "from datetime import datetime\n",
    "import re\n",
    "\n",
    "import matplotlib.pyplot as plt\n",
    "import seaborn as sns\n",
    "\n",
    "plt.style.use('ggplot')\n",
    "%config InlineBackend.figure_format = 'retina'\n",
    "%matplotlib inline"
   ]
  },
  {
   "cell_type": "code",
   "execution_count": 2,
   "metadata": {
    "ExecuteTime": {
     "end_time": "2020-06-09T13:47:13.385465Z",
     "start_time": "2020-06-09T13:46:15.371864Z"
    }
   },
   "outputs": [],
   "source": [
    "df = pd.read_excel('/Users/francesco/git/housing-in-london/Data Sets/lsoa.xlsx', \n",
    "                            sheet_name='median_house_price_updated')"
   ]
  },
  {
   "cell_type": "code",
   "execution_count": 3,
   "metadata": {
    "ExecuteTime": {
     "end_time": "2020-06-09T13:47:13.413086Z",
     "start_time": "2020-06-09T13:47:13.387968Z"
    }
   },
   "outputs": [
    {
     "data": {
      "text/html": [
       "<div>\n",
       "<style scoped>\n",
       "    .dataframe tbody tr th:only-of-type {\n",
       "        vertical-align: middle;\n",
       "    }\n",
       "\n",
       "    .dataframe tbody tr th {\n",
       "        vertical-align: top;\n",
       "    }\n",
       "\n",
       "    .dataframe thead th {\n",
       "        text-align: right;\n",
       "    }\n",
       "</style>\n",
       "<table border=\"1\" class=\"dataframe\">\n",
       "  <thead>\n",
       "    <tr style=\"text-align: right;\">\n",
       "      <th></th>\n",
       "      <th>LSOA code</th>\n",
       "      <th>Year ending Dec 1995</th>\n",
       "      <th>Year ending Mar 1996</th>\n",
       "      <th>Year ending Jun 1996</th>\n",
       "      <th>Year ending Sep 1996</th>\n",
       "      <th>Year ending Dec 1996</th>\n",
       "      <th>Year ending Mar 1997</th>\n",
       "      <th>Year ending Jun 1997</th>\n",
       "      <th>Year ending Sep 1997</th>\n",
       "      <th>Year ending Dec 1997</th>\n",
       "      <th>...</th>\n",
       "      <th>Year ending Sep 2018</th>\n",
       "      <th>Year ending Dec 2018</th>\n",
       "      <th>Year ending Mar 2019</th>\n",
       "      <th>Year ending Jun 2019</th>\n",
       "      <th>Year ending Sep 2019</th>\n",
       "      <th>Unnamed: 97</th>\n",
       "      <th>Unnamed: 98</th>\n",
       "      <th>Unnamed: 99</th>\n",
       "      <th>Unnamed: 100</th>\n",
       "      <th>Unnamed: 101</th>\n",
       "    </tr>\n",
       "  </thead>\n",
       "  <tbody>\n",
       "    <tr>\n",
       "      <th>0</th>\n",
       "      <td>E01011949</td>\n",
       "      <td>34750</td>\n",
       "      <td>34500</td>\n",
       "      <td>30500</td>\n",
       "      <td>30000</td>\n",
       "      <td>29950</td>\n",
       "      <td>29000</td>\n",
       "      <td>30000</td>\n",
       "      <td>33950</td>\n",
       "      <td>31975</td>\n",
       "      <td>...</td>\n",
       "      <td>77500</td>\n",
       "      <td>77500</td>\n",
       "      <td>73250</td>\n",
       "      <td>77500</td>\n",
       "      <td>77500</td>\n",
       "      <td>NaN</td>\n",
       "      <td>NaN</td>\n",
       "      <td>NaN</td>\n",
       "      <td>NaN</td>\n",
       "      <td>NaN</td>\n",
       "    </tr>\n",
       "    <tr>\n",
       "      <th>1</th>\n",
       "      <td>E01011950</td>\n",
       "      <td>25000</td>\n",
       "      <td>25000</td>\n",
       "      <td>25300</td>\n",
       "      <td>25625</td>\n",
       "      <td>25000</td>\n",
       "      <td>24800</td>\n",
       "      <td>20500</td>\n",
       "      <td>21250</td>\n",
       "      <td>21000</td>\n",
       "      <td>...</td>\n",
       "      <td>30000</td>\n",
       "      <td>28000</td>\n",
       "      <td>28000</td>\n",
       "      <td>29500</td>\n",
       "      <td>27000</td>\n",
       "      <td>NaN</td>\n",
       "      <td>NaN</td>\n",
       "      <td>NaN</td>\n",
       "      <td>NaN</td>\n",
       "      <td>NaN</td>\n",
       "    </tr>\n",
       "    <tr>\n",
       "      <th>2</th>\n",
       "      <td>E01011951</td>\n",
       "      <td>27000</td>\n",
       "      <td>27000</td>\n",
       "      <td>27250</td>\n",
       "      <td>28950</td>\n",
       "      <td>28500</td>\n",
       "      <td>28950</td>\n",
       "      <td>28000</td>\n",
       "      <td>26250</td>\n",
       "      <td>26625</td>\n",
       "      <td>...</td>\n",
       "      <td>49000</td>\n",
       "      <td>50000</td>\n",
       "      <td>50000</td>\n",
       "      <td>46250</td>\n",
       "      <td>42800</td>\n",
       "      <td>NaN</td>\n",
       "      <td>NaN</td>\n",
       "      <td>NaN</td>\n",
       "      <td>NaN</td>\n",
       "      <td>NaN</td>\n",
       "    </tr>\n",
       "    <tr>\n",
       "      <th>3</th>\n",
       "      <td>E01011952</td>\n",
       "      <td>44500</td>\n",
       "      <td>44500</td>\n",
       "      <td>30000</td>\n",
       "      <td>26675</td>\n",
       "      <td>26000</td>\n",
       "      <td>25500</td>\n",
       "      <td>25500</td>\n",
       "      <td>25000</td>\n",
       "      <td>23000</td>\n",
       "      <td>...</td>\n",
       "      <td>57000</td>\n",
       "      <td>58000</td>\n",
       "      <td>70000</td>\n",
       "      <td>70000</td>\n",
       "      <td>70000</td>\n",
       "      <td>NaN</td>\n",
       "      <td>NaN</td>\n",
       "      <td>NaN</td>\n",
       "      <td>NaN</td>\n",
       "      <td>NaN</td>\n",
       "    </tr>\n",
       "    <tr>\n",
       "      <th>4</th>\n",
       "      <td>E01011953</td>\n",
       "      <td>22000</td>\n",
       "      <td>27000</td>\n",
       "      <td>27000</td>\n",
       "      <td>20600</td>\n",
       "      <td>20000</td>\n",
       "      <td>19500</td>\n",
       "      <td>19500</td>\n",
       "      <td>18000</td>\n",
       "      <td>23000</td>\n",
       "      <td>...</td>\n",
       "      <td>50000</td>\n",
       "      <td>68000</td>\n",
       "      <td>66000</td>\n",
       "      <td>59000</td>\n",
       "      <td>62000</td>\n",
       "      <td>NaN</td>\n",
       "      <td>NaN</td>\n",
       "      <td>NaN</td>\n",
       "      <td>NaN</td>\n",
       "      <td>NaN</td>\n",
       "    </tr>\n",
       "  </tbody>\n",
       "</table>\n",
       "<p>5 rows × 102 columns</p>\n",
       "</div>"
      ],
      "text/plain": [
       "   LSOA code Year ending Dec 1995 Year ending Mar 1996 Year ending Jun 1996  \\\n",
       "0  E01011949                34750                34500                30500   \n",
       "1  E01011950                25000                25000                25300   \n",
       "2  E01011951                27000                27000                27250   \n",
       "3  E01011952                44500                44500                30000   \n",
       "4  E01011953                22000                27000                27000   \n",
       "\n",
       "  Year ending Sep 1996 Year ending Dec 1996 Year ending Mar 1997  \\\n",
       "0                30000                29950                29000   \n",
       "1                25625                25000                24800   \n",
       "2                28950                28500                28950   \n",
       "3                26675                26000                25500   \n",
       "4                20600                20000                19500   \n",
       "\n",
       "  Year ending Jun 1997 Year ending Sep 1997 Year ending Dec 1997  ...  \\\n",
       "0                30000                33950                31975  ...   \n",
       "1                20500                21250                21000  ...   \n",
       "2                28000                26250                26625  ...   \n",
       "3                25500                25000                23000  ...   \n",
       "4                19500                18000                23000  ...   \n",
       "\n",
       "  Year ending Sep 2018 Year ending Dec 2018 Year ending Mar 2019  \\\n",
       "0                77500                77500                73250   \n",
       "1                30000                28000                28000   \n",
       "2                49000                50000                50000   \n",
       "3                57000                58000                70000   \n",
       "4                50000                68000                66000   \n",
       "\n",
       "  Year ending Jun 2019 Year ending Sep 2019 Unnamed: 97 Unnamed: 98  \\\n",
       "0                77500                77500         NaN         NaN   \n",
       "1                29500                27000         NaN         NaN   \n",
       "2                46250                42800         NaN         NaN   \n",
       "3                70000                70000         NaN         NaN   \n",
       "4                59000                62000         NaN         NaN   \n",
       "\n",
       "  Unnamed: 99 Unnamed: 100 Unnamed: 101  \n",
       "0         NaN          NaN          NaN  \n",
       "1         NaN          NaN          NaN  \n",
       "2         NaN          NaN          NaN  \n",
       "3         NaN          NaN          NaN  \n",
       "4         NaN          NaN          NaN  \n",
       "\n",
       "[5 rows x 102 columns]"
      ]
     },
     "execution_count": 3,
     "metadata": {},
     "output_type": "execute_result"
    }
   ],
   "source": [
    "df.head()"
   ]
  },
  {
   "cell_type": "code",
   "execution_count": 4,
   "metadata": {
    "ExecuteTime": {
     "end_time": "2020-06-09T13:47:13.418651Z",
     "start_time": "2020-06-09T13:47:13.415160Z"
    }
   },
   "outputs": [
    {
     "data": {
      "text/plain": [
       "(34753, 102)"
      ]
     },
     "execution_count": 4,
     "metadata": {},
     "output_type": "execute_result"
    }
   ],
   "source": [
    "df.shape"
   ]
  },
  {
   "cell_type": "code",
   "execution_count": 5,
   "metadata": {
    "ExecuteTime": {
     "end_time": "2020-06-09T13:47:13.460120Z",
     "start_time": "2020-06-09T13:47:13.420270Z"
    }
   },
   "outputs": [],
   "source": [
    "df.drop(list(df.filter(regex = 'Unnamed')), axis = 1, inplace = True)"
   ]
  },
  {
   "cell_type": "code",
   "execution_count": 6,
   "metadata": {
    "ExecuteTime": {
     "end_time": "2020-06-09T13:47:13.466397Z",
     "start_time": "2020-06-09T13:47:13.462142Z"
    }
   },
   "outputs": [
    {
     "data": {
      "text/plain": [
       "(34753, 97)"
      ]
     },
     "execution_count": 6,
     "metadata": {},
     "output_type": "execute_result"
    }
   ],
   "source": [
    "df.shape"
   ]
  },
  {
   "cell_type": "code",
   "execution_count": 7,
   "metadata": {
    "ExecuteTime": {
     "end_time": "2020-06-09T13:47:13.472130Z",
     "start_time": "2020-06-09T13:47:13.468439Z"
    }
   },
   "outputs": [],
   "source": [
    "dates = []\n",
    "for i in range(1996, 2020):\n",
    "    for j in range(1, 5):\n",
    "        date = str(i) + '-' + 'Q' + str(j)\n",
    "        dates.append(date)"
   ]
  },
  {
   "cell_type": "code",
   "execution_count": 8,
   "metadata": {
    "ExecuteTime": {
     "end_time": "2020-06-09T13:47:13.479834Z",
     "start_time": "2020-06-09T13:47:13.476135Z"
    }
   },
   "outputs": [
    {
     "data": {
      "text/plain": [
       "'2019-Q4'"
      ]
     },
     "execution_count": 8,
     "metadata": {},
     "output_type": "execute_result"
    }
   ],
   "source": [
    "dates.insert(0, '1995-Q4')\n",
    "dates.pop()"
   ]
  },
  {
   "cell_type": "code",
   "execution_count": 9,
   "metadata": {
    "ExecuteTime": {
     "end_time": "2020-06-09T13:47:13.504972Z",
     "start_time": "2020-06-09T13:47:13.482669Z"
    }
   },
   "outputs": [
    {
     "data": {
      "text/html": [
       "<div>\n",
       "<style scoped>\n",
       "    .dataframe tbody tr th:only-of-type {\n",
       "        vertical-align: middle;\n",
       "    }\n",
       "\n",
       "    .dataframe tbody tr th {\n",
       "        vertical-align: top;\n",
       "    }\n",
       "\n",
       "    .dataframe thead th {\n",
       "        text-align: right;\n",
       "    }\n",
       "</style>\n",
       "<table border=\"1\" class=\"dataframe\">\n",
       "  <thead>\n",
       "    <tr style=\"text-align: right;\">\n",
       "      <th></th>\n",
       "      <th>LSOA code</th>\n",
       "      <th>Year ending Dec 1995</th>\n",
       "      <th>Year ending Mar 1996</th>\n",
       "      <th>Year ending Jun 1996</th>\n",
       "      <th>Year ending Sep 1996</th>\n",
       "      <th>Year ending Dec 1996</th>\n",
       "      <th>Year ending Mar 1997</th>\n",
       "      <th>Year ending Jun 1997</th>\n",
       "      <th>Year ending Sep 1997</th>\n",
       "      <th>Year ending Dec 1997</th>\n",
       "      <th>...</th>\n",
       "      <th>Year ending Jun 2017</th>\n",
       "      <th>Year ending Sep 2017</th>\n",
       "      <th>Year ending Dec 2017</th>\n",
       "      <th>Year ending Mar 2018</th>\n",
       "      <th>Year ending Jun 2018</th>\n",
       "      <th>Year ending Sep 2018</th>\n",
       "      <th>Year ending Dec 2018</th>\n",
       "      <th>Year ending Mar 2019</th>\n",
       "      <th>Year ending Jun 2019</th>\n",
       "      <th>Year ending Sep 2019</th>\n",
       "    </tr>\n",
       "  </thead>\n",
       "  <tbody>\n",
       "    <tr>\n",
       "      <th>0</th>\n",
       "      <td>E01011949</td>\n",
       "      <td>34750</td>\n",
       "      <td>34500</td>\n",
       "      <td>30500</td>\n",
       "      <td>30000</td>\n",
       "      <td>29950</td>\n",
       "      <td>29000</td>\n",
       "      <td>30000</td>\n",
       "      <td>33950</td>\n",
       "      <td>31975</td>\n",
       "      <td>...</td>\n",
       "      <td>99950</td>\n",
       "      <td>92000</td>\n",
       "      <td>88500</td>\n",
       "      <td>85000</td>\n",
       "      <td>88000</td>\n",
       "      <td>77500</td>\n",
       "      <td>77500</td>\n",
       "      <td>73250</td>\n",
       "      <td>77500</td>\n",
       "      <td>77500</td>\n",
       "    </tr>\n",
       "    <tr>\n",
       "      <th>1</th>\n",
       "      <td>E01011950</td>\n",
       "      <td>25000</td>\n",
       "      <td>25000</td>\n",
       "      <td>25300</td>\n",
       "      <td>25625</td>\n",
       "      <td>25000</td>\n",
       "      <td>24800</td>\n",
       "      <td>20500</td>\n",
       "      <td>21250</td>\n",
       "      <td>21000</td>\n",
       "      <td>...</td>\n",
       "      <td>35000</td>\n",
       "      <td>35000</td>\n",
       "      <td>31475</td>\n",
       "      <td>30475</td>\n",
       "      <td>30000</td>\n",
       "      <td>30000</td>\n",
       "      <td>28000</td>\n",
       "      <td>28000</td>\n",
       "      <td>29500</td>\n",
       "      <td>27000</td>\n",
       "    </tr>\n",
       "    <tr>\n",
       "      <th>2</th>\n",
       "      <td>E01011951</td>\n",
       "      <td>27000</td>\n",
       "      <td>27000</td>\n",
       "      <td>27250</td>\n",
       "      <td>28950</td>\n",
       "      <td>28500</td>\n",
       "      <td>28950</td>\n",
       "      <td>28000</td>\n",
       "      <td>26250</td>\n",
       "      <td>26625</td>\n",
       "      <td>...</td>\n",
       "      <td>55500</td>\n",
       "      <td>50000</td>\n",
       "      <td>48000</td>\n",
       "      <td>44499.5</td>\n",
       "      <td>44500</td>\n",
       "      <td>49000</td>\n",
       "      <td>50000</td>\n",
       "      <td>50000</td>\n",
       "      <td>46250</td>\n",
       "      <td>42800</td>\n",
       "    </tr>\n",
       "    <tr>\n",
       "      <th>3</th>\n",
       "      <td>E01011952</td>\n",
       "      <td>44500</td>\n",
       "      <td>44500</td>\n",
       "      <td>30000</td>\n",
       "      <td>26675</td>\n",
       "      <td>26000</td>\n",
       "      <td>25500</td>\n",
       "      <td>25500</td>\n",
       "      <td>25000</td>\n",
       "      <td>23000</td>\n",
       "      <td>...</td>\n",
       "      <td>68500</td>\n",
       "      <td>68500</td>\n",
       "      <td>74000</td>\n",
       "      <td>65750</td>\n",
       "      <td>63000</td>\n",
       "      <td>57000</td>\n",
       "      <td>58000</td>\n",
       "      <td>70000</td>\n",
       "      <td>70000</td>\n",
       "      <td>70000</td>\n",
       "    </tr>\n",
       "    <tr>\n",
       "      <th>4</th>\n",
       "      <td>E01011953</td>\n",
       "      <td>22000</td>\n",
       "      <td>27000</td>\n",
       "      <td>27000</td>\n",
       "      <td>20600</td>\n",
       "      <td>20000</td>\n",
       "      <td>19500</td>\n",
       "      <td>19500</td>\n",
       "      <td>18000</td>\n",
       "      <td>23000</td>\n",
       "      <td>...</td>\n",
       "      <td>55000</td>\n",
       "      <td>55000</td>\n",
       "      <td>47500</td>\n",
       "      <td>50000</td>\n",
       "      <td>62500</td>\n",
       "      <td>50000</td>\n",
       "      <td>68000</td>\n",
       "      <td>66000</td>\n",
       "      <td>59000</td>\n",
       "      <td>62000</td>\n",
       "    </tr>\n",
       "  </tbody>\n",
       "</table>\n",
       "<p>5 rows × 97 columns</p>\n",
       "</div>"
      ],
      "text/plain": [
       "   LSOA code Year ending Dec 1995 Year ending Mar 1996 Year ending Jun 1996  \\\n",
       "0  E01011949                34750                34500                30500   \n",
       "1  E01011950                25000                25000                25300   \n",
       "2  E01011951                27000                27000                27250   \n",
       "3  E01011952                44500                44500                30000   \n",
       "4  E01011953                22000                27000                27000   \n",
       "\n",
       "  Year ending Sep 1996 Year ending Dec 1996 Year ending Mar 1997  \\\n",
       "0                30000                29950                29000   \n",
       "1                25625                25000                24800   \n",
       "2                28950                28500                28950   \n",
       "3                26675                26000                25500   \n",
       "4                20600                20000                19500   \n",
       "\n",
       "  Year ending Jun 1997 Year ending Sep 1997 Year ending Dec 1997  ...  \\\n",
       "0                30000                33950                31975  ...   \n",
       "1                20500                21250                21000  ...   \n",
       "2                28000                26250                26625  ...   \n",
       "3                25500                25000                23000  ...   \n",
       "4                19500                18000                23000  ...   \n",
       "\n",
       "  Year ending Jun 2017 Year ending Sep 2017 Year ending Dec 2017  \\\n",
       "0                99950                92000                88500   \n",
       "1                35000                35000                31475   \n",
       "2                55500                50000                48000   \n",
       "3                68500                68500                74000   \n",
       "4                55000                55000                47500   \n",
       "\n",
       "  Year ending Mar 2018 Year ending Jun 2018 Year ending Sep 2018  \\\n",
       "0                85000                88000                77500   \n",
       "1                30475                30000                30000   \n",
       "2              44499.5                44500                49000   \n",
       "3                65750                63000                57000   \n",
       "4                50000                62500                50000   \n",
       "\n",
       "  Year ending Dec 2018 Year ending Mar 2019 Year ending Jun 2019  \\\n",
       "0                77500                73250                77500   \n",
       "1                28000                28000                29500   \n",
       "2                50000                50000                46250   \n",
       "3                58000                70000                70000   \n",
       "4                68000                66000                59000   \n",
       "\n",
       "  Year ending Sep 2019  \n",
       "0                77500  \n",
       "1                27000  \n",
       "2                42800  \n",
       "3                70000  \n",
       "4                62000  \n",
       "\n",
       "[5 rows x 97 columns]"
      ]
     },
     "execution_count": 9,
     "metadata": {},
     "output_type": "execute_result"
    }
   ],
   "source": [
    "df.head()"
   ]
  },
  {
   "cell_type": "code",
   "execution_count": 10,
   "metadata": {
    "ExecuteTime": {
     "end_time": "2020-06-09T13:47:13.571725Z",
     "start_time": "2020-06-09T13:47:13.506709Z"
    }
   },
   "outputs": [
    {
     "data": {
      "text/html": [
       "<div>\n",
       "<style scoped>\n",
       "    .dataframe tbody tr th:only-of-type {\n",
       "        vertical-align: middle;\n",
       "    }\n",
       "\n",
       "    .dataframe tbody tr th {\n",
       "        vertical-align: top;\n",
       "    }\n",
       "\n",
       "    .dataframe thead th {\n",
       "        text-align: right;\n",
       "    }\n",
       "</style>\n",
       "<table border=\"1\" class=\"dataframe\">\n",
       "  <thead>\n",
       "    <tr style=\"text-align: right;\">\n",
       "      <th></th>\n",
       "      <th>Year ending Dec 1995</th>\n",
       "      <th>Year ending Mar 1996</th>\n",
       "      <th>Year ending Jun 1996</th>\n",
       "      <th>Year ending Sep 1996</th>\n",
       "      <th>Year ending Dec 1996</th>\n",
       "      <th>Year ending Mar 1997</th>\n",
       "      <th>Year ending Jun 1997</th>\n",
       "      <th>Year ending Sep 1997</th>\n",
       "      <th>Year ending Dec 1997</th>\n",
       "      <th>Year ending Mar 1998</th>\n",
       "      <th>...</th>\n",
       "      <th>Year ending Jun 2017</th>\n",
       "      <th>Year ending Sep 2017</th>\n",
       "      <th>Year ending Dec 2017</th>\n",
       "      <th>Year ending Mar 2018</th>\n",
       "      <th>Year ending Jun 2018</th>\n",
       "      <th>Year ending Sep 2018</th>\n",
       "      <th>Year ending Dec 2018</th>\n",
       "      <th>Year ending Mar 2019</th>\n",
       "      <th>Year ending Jun 2019</th>\n",
       "      <th>Year ending Sep 2019</th>\n",
       "    </tr>\n",
       "  </thead>\n",
       "  <tbody>\n",
       "    <tr>\n",
       "      <th>E01011949</th>\n",
       "      <td>34750</td>\n",
       "      <td>34500</td>\n",
       "      <td>30500</td>\n",
       "      <td>30000</td>\n",
       "      <td>29950</td>\n",
       "      <td>29000</td>\n",
       "      <td>30000</td>\n",
       "      <td>33950</td>\n",
       "      <td>31975</td>\n",
       "      <td>33950</td>\n",
       "      <td>...</td>\n",
       "      <td>99950</td>\n",
       "      <td>92000</td>\n",
       "      <td>88500</td>\n",
       "      <td>85000</td>\n",
       "      <td>88000</td>\n",
       "      <td>77500</td>\n",
       "      <td>77500</td>\n",
       "      <td>73250</td>\n",
       "      <td>77500</td>\n",
       "      <td>77500</td>\n",
       "    </tr>\n",
       "    <tr>\n",
       "      <th>E01011950</th>\n",
       "      <td>25000</td>\n",
       "      <td>25000</td>\n",
       "      <td>25300</td>\n",
       "      <td>25625</td>\n",
       "      <td>25000</td>\n",
       "      <td>24800</td>\n",
       "      <td>20500</td>\n",
       "      <td>21250</td>\n",
       "      <td>21000</td>\n",
       "      <td>22000</td>\n",
       "      <td>...</td>\n",
       "      <td>35000</td>\n",
       "      <td>35000</td>\n",
       "      <td>31475</td>\n",
       "      <td>30475</td>\n",
       "      <td>30000</td>\n",
       "      <td>30000</td>\n",
       "      <td>28000</td>\n",
       "      <td>28000</td>\n",
       "      <td>29500</td>\n",
       "      <td>27000</td>\n",
       "    </tr>\n",
       "    <tr>\n",
       "      <th>E01011951</th>\n",
       "      <td>27000</td>\n",
       "      <td>27000</td>\n",
       "      <td>27250</td>\n",
       "      <td>28950</td>\n",
       "      <td>28500</td>\n",
       "      <td>28950</td>\n",
       "      <td>28000</td>\n",
       "      <td>26250</td>\n",
       "      <td>26625</td>\n",
       "      <td>27500</td>\n",
       "      <td>...</td>\n",
       "      <td>55500</td>\n",
       "      <td>50000</td>\n",
       "      <td>48000</td>\n",
       "      <td>44499.5</td>\n",
       "      <td>44500</td>\n",
       "      <td>49000</td>\n",
       "      <td>50000</td>\n",
       "      <td>50000</td>\n",
       "      <td>46250</td>\n",
       "      <td>42800</td>\n",
       "    </tr>\n",
       "    <tr>\n",
       "      <th>E01011952</th>\n",
       "      <td>44500</td>\n",
       "      <td>44500</td>\n",
       "      <td>30000</td>\n",
       "      <td>26675</td>\n",
       "      <td>26000</td>\n",
       "      <td>25500</td>\n",
       "      <td>25500</td>\n",
       "      <td>25000</td>\n",
       "      <td>23000</td>\n",
       "      <td>23000</td>\n",
       "      <td>...</td>\n",
       "      <td>68500</td>\n",
       "      <td>68500</td>\n",
       "      <td>74000</td>\n",
       "      <td>65750</td>\n",
       "      <td>63000</td>\n",
       "      <td>57000</td>\n",
       "      <td>58000</td>\n",
       "      <td>70000</td>\n",
       "      <td>70000</td>\n",
       "      <td>70000</td>\n",
       "    </tr>\n",
       "    <tr>\n",
       "      <th>E01011953</th>\n",
       "      <td>22000</td>\n",
       "      <td>27000</td>\n",
       "      <td>27000</td>\n",
       "      <td>20600</td>\n",
       "      <td>20000</td>\n",
       "      <td>19500</td>\n",
       "      <td>19500</td>\n",
       "      <td>18000</td>\n",
       "      <td>23000</td>\n",
       "      <td>32000</td>\n",
       "      <td>...</td>\n",
       "      <td>55000</td>\n",
       "      <td>55000</td>\n",
       "      <td>47500</td>\n",
       "      <td>50000</td>\n",
       "      <td>62500</td>\n",
       "      <td>50000</td>\n",
       "      <td>68000</td>\n",
       "      <td>66000</td>\n",
       "      <td>59000</td>\n",
       "      <td>62000</td>\n",
       "    </tr>\n",
       "  </tbody>\n",
       "</table>\n",
       "<p>5 rows × 96 columns</p>\n",
       "</div>"
      ],
      "text/plain": [
       "          Year ending Dec 1995 Year ending Mar 1996 Year ending Jun 1996  \\\n",
       "E01011949                34750                34500                30500   \n",
       "E01011950                25000                25000                25300   \n",
       "E01011951                27000                27000                27250   \n",
       "E01011952                44500                44500                30000   \n",
       "E01011953                22000                27000                27000   \n",
       "\n",
       "          Year ending Sep 1996 Year ending Dec 1996 Year ending Mar 1997  \\\n",
       "E01011949                30000                29950                29000   \n",
       "E01011950                25625                25000                24800   \n",
       "E01011951                28950                28500                28950   \n",
       "E01011952                26675                26000                25500   \n",
       "E01011953                20600                20000                19500   \n",
       "\n",
       "          Year ending Jun 1997 Year ending Sep 1997 Year ending Dec 1997  \\\n",
       "E01011949                30000                33950                31975   \n",
       "E01011950                20500                21250                21000   \n",
       "E01011951                28000                26250                26625   \n",
       "E01011952                25500                25000                23000   \n",
       "E01011953                19500                18000                23000   \n",
       "\n",
       "          Year ending Mar 1998  ... Year ending Jun 2017 Year ending Sep 2017  \\\n",
       "E01011949                33950  ...                99950                92000   \n",
       "E01011950                22000  ...                35000                35000   \n",
       "E01011951                27500  ...                55500                50000   \n",
       "E01011952                23000  ...                68500                68500   \n",
       "E01011953                32000  ...                55000                55000   \n",
       "\n",
       "          Year ending Dec 2017 Year ending Mar 2018 Year ending Jun 2018  \\\n",
       "E01011949                88500                85000                88000   \n",
       "E01011950                31475                30475                30000   \n",
       "E01011951                48000              44499.5                44500   \n",
       "E01011952                74000                65750                63000   \n",
       "E01011953                47500                50000                62500   \n",
       "\n",
       "          Year ending Sep 2018 Year ending Dec 2018 Year ending Mar 2019  \\\n",
       "E01011949                77500                77500                73250   \n",
       "E01011950                30000                28000                28000   \n",
       "E01011951                49000                50000                50000   \n",
       "E01011952                57000                58000                70000   \n",
       "E01011953                50000                68000                66000   \n",
       "\n",
       "          Year ending Jun 2019 Year ending Sep 2019  \n",
       "E01011949                77500                77500  \n",
       "E01011950                29500                27000  \n",
       "E01011951                46250                42800  \n",
       "E01011952                70000                70000  \n",
       "E01011953                59000                62000  \n",
       "\n",
       "[5 rows x 96 columns]"
      ]
     },
     "execution_count": 10,
     "metadata": {},
     "output_type": "execute_result"
    }
   ],
   "source": [
    "df.set_index('LSOA code', inplace=True)\n",
    "df.index.name = None\n",
    "df.head()"
   ]
  },
  {
   "cell_type": "code",
   "execution_count": 11,
   "metadata": {
    "ExecuteTime": {
     "end_time": "2020-06-09T13:47:13.596687Z",
     "start_time": "2020-06-09T13:47:13.573835Z"
    }
   },
   "outputs": [
    {
     "data": {
      "text/html": [
       "<div>\n",
       "<style scoped>\n",
       "    .dataframe tbody tr th:only-of-type {\n",
       "        vertical-align: middle;\n",
       "    }\n",
       "\n",
       "    .dataframe tbody tr th {\n",
       "        vertical-align: top;\n",
       "    }\n",
       "\n",
       "    .dataframe thead th {\n",
       "        text-align: right;\n",
       "    }\n",
       "</style>\n",
       "<table border=\"1\" class=\"dataframe\">\n",
       "  <thead>\n",
       "    <tr style=\"text-align: right;\">\n",
       "      <th></th>\n",
       "      <th>1995-Q4</th>\n",
       "      <th>1996-Q1</th>\n",
       "      <th>1996-Q2</th>\n",
       "      <th>1996-Q3</th>\n",
       "      <th>1996-Q4</th>\n",
       "      <th>1997-Q1</th>\n",
       "      <th>1997-Q2</th>\n",
       "      <th>1997-Q3</th>\n",
       "      <th>1997-Q4</th>\n",
       "      <th>1998-Q1</th>\n",
       "      <th>...</th>\n",
       "      <th>2017-Q2</th>\n",
       "      <th>2017-Q3</th>\n",
       "      <th>2017-Q4</th>\n",
       "      <th>2018-Q1</th>\n",
       "      <th>2018-Q2</th>\n",
       "      <th>2018-Q3</th>\n",
       "      <th>2018-Q4</th>\n",
       "      <th>2019-Q1</th>\n",
       "      <th>2019-Q2</th>\n",
       "      <th>2019-Q3</th>\n",
       "    </tr>\n",
       "  </thead>\n",
       "  <tbody>\n",
       "    <tr>\n",
       "      <th>E01011949</th>\n",
       "      <td>34750</td>\n",
       "      <td>34500</td>\n",
       "      <td>30500</td>\n",
       "      <td>30000</td>\n",
       "      <td>29950</td>\n",
       "      <td>29000</td>\n",
       "      <td>30000</td>\n",
       "      <td>33950</td>\n",
       "      <td>31975</td>\n",
       "      <td>33950</td>\n",
       "      <td>...</td>\n",
       "      <td>99950</td>\n",
       "      <td>92000</td>\n",
       "      <td>88500</td>\n",
       "      <td>85000</td>\n",
       "      <td>88000</td>\n",
       "      <td>77500</td>\n",
       "      <td>77500</td>\n",
       "      <td>73250</td>\n",
       "      <td>77500</td>\n",
       "      <td>77500</td>\n",
       "    </tr>\n",
       "    <tr>\n",
       "      <th>E01011950</th>\n",
       "      <td>25000</td>\n",
       "      <td>25000</td>\n",
       "      <td>25300</td>\n",
       "      <td>25625</td>\n",
       "      <td>25000</td>\n",
       "      <td>24800</td>\n",
       "      <td>20500</td>\n",
       "      <td>21250</td>\n",
       "      <td>21000</td>\n",
       "      <td>22000</td>\n",
       "      <td>...</td>\n",
       "      <td>35000</td>\n",
       "      <td>35000</td>\n",
       "      <td>31475</td>\n",
       "      <td>30475</td>\n",
       "      <td>30000</td>\n",
       "      <td>30000</td>\n",
       "      <td>28000</td>\n",
       "      <td>28000</td>\n",
       "      <td>29500</td>\n",
       "      <td>27000</td>\n",
       "    </tr>\n",
       "    <tr>\n",
       "      <th>E01011951</th>\n",
       "      <td>27000</td>\n",
       "      <td>27000</td>\n",
       "      <td>27250</td>\n",
       "      <td>28950</td>\n",
       "      <td>28500</td>\n",
       "      <td>28950</td>\n",
       "      <td>28000</td>\n",
       "      <td>26250</td>\n",
       "      <td>26625</td>\n",
       "      <td>27500</td>\n",
       "      <td>...</td>\n",
       "      <td>55500</td>\n",
       "      <td>50000</td>\n",
       "      <td>48000</td>\n",
       "      <td>44499.5</td>\n",
       "      <td>44500</td>\n",
       "      <td>49000</td>\n",
       "      <td>50000</td>\n",
       "      <td>50000</td>\n",
       "      <td>46250</td>\n",
       "      <td>42800</td>\n",
       "    </tr>\n",
       "    <tr>\n",
       "      <th>E01011952</th>\n",
       "      <td>44500</td>\n",
       "      <td>44500</td>\n",
       "      <td>30000</td>\n",
       "      <td>26675</td>\n",
       "      <td>26000</td>\n",
       "      <td>25500</td>\n",
       "      <td>25500</td>\n",
       "      <td>25000</td>\n",
       "      <td>23000</td>\n",
       "      <td>23000</td>\n",
       "      <td>...</td>\n",
       "      <td>68500</td>\n",
       "      <td>68500</td>\n",
       "      <td>74000</td>\n",
       "      <td>65750</td>\n",
       "      <td>63000</td>\n",
       "      <td>57000</td>\n",
       "      <td>58000</td>\n",
       "      <td>70000</td>\n",
       "      <td>70000</td>\n",
       "      <td>70000</td>\n",
       "    </tr>\n",
       "    <tr>\n",
       "      <th>E01011953</th>\n",
       "      <td>22000</td>\n",
       "      <td>27000</td>\n",
       "      <td>27000</td>\n",
       "      <td>20600</td>\n",
       "      <td>20000</td>\n",
       "      <td>19500</td>\n",
       "      <td>19500</td>\n",
       "      <td>18000</td>\n",
       "      <td>23000</td>\n",
       "      <td>32000</td>\n",
       "      <td>...</td>\n",
       "      <td>55000</td>\n",
       "      <td>55000</td>\n",
       "      <td>47500</td>\n",
       "      <td>50000</td>\n",
       "      <td>62500</td>\n",
       "      <td>50000</td>\n",
       "      <td>68000</td>\n",
       "      <td>66000</td>\n",
       "      <td>59000</td>\n",
       "      <td>62000</td>\n",
       "    </tr>\n",
       "  </tbody>\n",
       "</table>\n",
       "<p>5 rows × 96 columns</p>\n",
       "</div>"
      ],
      "text/plain": [
       "          1995-Q4 1996-Q1 1996-Q2 1996-Q3 1996-Q4 1997-Q1 1997-Q2 1997-Q3  \\\n",
       "E01011949   34750   34500   30500   30000   29950   29000   30000   33950   \n",
       "E01011950   25000   25000   25300   25625   25000   24800   20500   21250   \n",
       "E01011951   27000   27000   27250   28950   28500   28950   28000   26250   \n",
       "E01011952   44500   44500   30000   26675   26000   25500   25500   25000   \n",
       "E01011953   22000   27000   27000   20600   20000   19500   19500   18000   \n",
       "\n",
       "          1997-Q4 1998-Q1  ... 2017-Q2 2017-Q3 2017-Q4  2018-Q1 2018-Q2  \\\n",
       "E01011949   31975   33950  ...   99950   92000   88500    85000   88000   \n",
       "E01011950   21000   22000  ...   35000   35000   31475    30475   30000   \n",
       "E01011951   26625   27500  ...   55500   50000   48000  44499.5   44500   \n",
       "E01011952   23000   23000  ...   68500   68500   74000    65750   63000   \n",
       "E01011953   23000   32000  ...   55000   55000   47500    50000   62500   \n",
       "\n",
       "          2018-Q3 2018-Q4 2019-Q1 2019-Q2 2019-Q3  \n",
       "E01011949   77500   77500   73250   77500   77500  \n",
       "E01011950   30000   28000   28000   29500   27000  \n",
       "E01011951   49000   50000   50000   46250   42800  \n",
       "E01011952   57000   58000   70000   70000   70000  \n",
       "E01011953   50000   68000   66000   59000   62000  \n",
       "\n",
       "[5 rows x 96 columns]"
      ]
     },
     "execution_count": 11,
     "metadata": {},
     "output_type": "execute_result"
    }
   ],
   "source": [
    "df.columns = dates\n",
    "df.head()"
   ]
  },
  {
   "cell_type": "code",
   "execution_count": null,
   "metadata": {},
   "outputs": [],
   "source": []
  },
  {
   "cell_type": "code",
   "execution_count": null,
   "metadata": {},
   "outputs": [],
   "source": []
  },
  {
   "cell_type": "code",
   "execution_count": null,
   "metadata": {},
   "outputs": [],
   "source": []
  },
  {
   "cell_type": "code",
   "execution_count": null,
   "metadata": {},
   "outputs": [],
   "source": []
  },
  {
   "cell_type": "code",
   "execution_count": 12,
   "metadata": {
    "ExecuteTime": {
     "end_time": "2020-06-09T13:48:05.428580Z",
     "start_time": "2020-06-09T13:47:13.598690Z"
    }
   },
   "outputs": [],
   "source": [
    "df_internet = pd.read_excel('/Users/francesco/git/housing-in-london/Data Sets/lsoa.xlsx', \n",
    "                            sheet_name='internet_use')"
   ]
  },
  {
   "cell_type": "code",
   "execution_count": 13,
   "metadata": {
    "ExecuteTime": {
     "end_time": "2020-06-09T13:48:05.438438Z",
     "start_time": "2020-06-09T13:48:05.430074Z"
    }
   },
   "outputs": [
    {
     "data": {
      "text/html": [
       "<div>\n",
       "<style scoped>\n",
       "    .dataframe tbody tr th:only-of-type {\n",
       "        vertical-align: middle;\n",
       "    }\n",
       "\n",
       "    .dataframe tbody tr th {\n",
       "        vertical-align: top;\n",
       "    }\n",
       "\n",
       "    .dataframe thead th {\n",
       "        text-align: right;\n",
       "    }\n",
       "</style>\n",
       "<table border=\"1\" class=\"dataframe\">\n",
       "  <thead>\n",
       "    <tr style=\"text-align: right;\">\n",
       "      <th></th>\n",
       "      <th>lsoa_code</th>\n",
       "      <th>LSOA11NM</th>\n",
       "      <th>LAD11NM</th>\n",
       "      <th>supergroup_code</th>\n",
       "      <th>supergroup_name</th>\n",
       "      <th>internet</th>\n",
       "      <th>group_name</th>\n",
       "    </tr>\n",
       "  </thead>\n",
       "  <tbody>\n",
       "    <tr>\n",
       "      <th>0</th>\n",
       "      <td>E01000001</td>\n",
       "      <td>City of London 001A</td>\n",
       "      <td>City of London</td>\n",
       "      <td>2</td>\n",
       "      <td>E-professionals and Students</td>\n",
       "      <td>2b</td>\n",
       "      <td>Totally Connected</td>\n",
       "    </tr>\n",
       "    <tr>\n",
       "      <th>1</th>\n",
       "      <td>E01000002</td>\n",
       "      <td>City of London 001B</td>\n",
       "      <td>City of London</td>\n",
       "      <td>2</td>\n",
       "      <td>E-professionals and Students</td>\n",
       "      <td>2b</td>\n",
       "      <td>Totally Connected</td>\n",
       "    </tr>\n",
       "    <tr>\n",
       "      <th>2</th>\n",
       "      <td>E01000003</td>\n",
       "      <td>City of London 001C</td>\n",
       "      <td>City of London</td>\n",
       "      <td>2</td>\n",
       "      <td>E-professionals and Students</td>\n",
       "      <td>2b</td>\n",
       "      <td>Totally Connected</td>\n",
       "    </tr>\n",
       "    <tr>\n",
       "      <th>3</th>\n",
       "      <td>E01000005</td>\n",
       "      <td>City of London 001E</td>\n",
       "      <td>City of London</td>\n",
       "      <td>2</td>\n",
       "      <td>E-professionals and Students</td>\n",
       "      <td>2a</td>\n",
       "      <td>Next Generation Users</td>\n",
       "    </tr>\n",
       "    <tr>\n",
       "      <th>4</th>\n",
       "      <td>E01032739</td>\n",
       "      <td>City of London 001F</td>\n",
       "      <td>City of London</td>\n",
       "      <td>2</td>\n",
       "      <td>E-professionals and Students</td>\n",
       "      <td>2b</td>\n",
       "      <td>Totally Connected</td>\n",
       "    </tr>\n",
       "  </tbody>\n",
       "</table>\n",
       "</div>"
      ],
      "text/plain": [
       "   lsoa_code             LSOA11NM         LAD11NM  supergroup_code  \\\n",
       "0  E01000001  City of London 001A  City of London                2   \n",
       "1  E01000002  City of London 001B  City of London                2   \n",
       "2  E01000003  City of London 001C  City of London                2   \n",
       "3  E01000005  City of London 001E  City of London                2   \n",
       "4  E01032739  City of London 001F  City of London                2   \n",
       "\n",
       "                supergroup_name internet             group_name  \n",
       "0  E-professionals and Students       2b      Totally Connected  \n",
       "1  E-professionals and Students       2b      Totally Connected  \n",
       "2  E-professionals and Students       2b      Totally Connected  \n",
       "3  E-professionals and Students       2a  Next Generation Users  \n",
       "4  E-professionals and Students       2b      Totally Connected  "
      ]
     },
     "execution_count": 13,
     "metadata": {},
     "output_type": "execute_result"
    }
   ],
   "source": [
    "df_internet.head()"
   ]
  },
  {
   "cell_type": "code",
   "execution_count": 14,
   "metadata": {
    "ExecuteTime": {
     "end_time": "2020-06-09T13:48:05.445683Z",
     "start_time": "2020-06-09T13:48:05.440279Z"
    }
   },
   "outputs": [
    {
     "data": {
      "text/plain": [
       "Croydon                   220\n",
       "Barnet                    211\n",
       "Bromley                   197\n",
       "Ealing                    196\n",
       "Enfield                   183\n",
       "Wandsworth                179\n",
       "Lambeth                   178\n",
       "Brent                     173\n",
       "Lewisham                  169\n",
       "Southwark                 166\n",
       "Newham                    164\n",
       "Hillingdon                161\n",
       "Redbridge                 161\n",
       "Greenwich                 151\n",
       "Havering                  150\n",
       "Bexley                    146\n",
       "Haringey                  145\n",
       "Hackney                   144\n",
       "Waltham Forest            144\n",
       "Tower Hamlets             144\n",
       "Hounslow                  142\n",
       "Harrow                    137\n",
       "Camden                    133\n",
       "Westminster               128\n",
       "Merton                    124\n",
       "Islington                 123\n",
       "Sutton                    121\n",
       "Richmond upon Thames      115\n",
       "Hammersmith and Fulham    113\n",
       "Barking and Dagenham      110\n",
       "Kensington and Chelsea    103\n",
       "Kingston upon Thames       98\n",
       "City of London              6\n",
       "Name: LAD11NM, dtype: int64"
      ]
     },
     "execution_count": 14,
     "metadata": {},
     "output_type": "execute_result"
    }
   ],
   "source": [
    "df_internet.LAD11NM.value_counts()"
   ]
  },
  {
   "cell_type": "code",
   "execution_count": 15,
   "metadata": {
    "ExecuteTime": {
     "end_time": "2020-06-09T13:48:05.450966Z",
     "start_time": "2020-06-09T13:48:05.447062Z"
    }
   },
   "outputs": [],
   "source": [
    "df_internet_final = df_internet[['lsoa_code']].set_index('lsoa_code')\n",
    "df_internet_final.index.name = None"
   ]
  },
  {
   "cell_type": "code",
   "execution_count": 16,
   "metadata": {
    "ExecuteTime": {
     "end_time": "2020-06-09T13:48:05.456707Z",
     "start_time": "2020-06-09T13:48:05.452375Z"
    }
   },
   "outputs": [
    {
     "data": {
      "text/html": [
       "<div>\n",
       "<style scoped>\n",
       "    .dataframe tbody tr th:only-of-type {\n",
       "        vertical-align: middle;\n",
       "    }\n",
       "\n",
       "    .dataframe tbody tr th {\n",
       "        vertical-align: top;\n",
       "    }\n",
       "\n",
       "    .dataframe thead th {\n",
       "        text-align: right;\n",
       "    }\n",
       "</style>\n",
       "<table border=\"1\" class=\"dataframe\">\n",
       "  <thead>\n",
       "    <tr style=\"text-align: right;\">\n",
       "      <th></th>\n",
       "    </tr>\n",
       "  </thead>\n",
       "  <tbody>\n",
       "    <tr>\n",
       "      <th>E01000001</th>\n",
       "    </tr>\n",
       "    <tr>\n",
       "      <th>E01000002</th>\n",
       "    </tr>\n",
       "    <tr>\n",
       "      <th>E01000003</th>\n",
       "    </tr>\n",
       "    <tr>\n",
       "      <th>E01000005</th>\n",
       "    </tr>\n",
       "    <tr>\n",
       "      <th>E01032739</th>\n",
       "    </tr>\n",
       "  </tbody>\n",
       "</table>\n",
       "</div>"
      ],
      "text/plain": [
       "Empty DataFrame\n",
       "Columns: []\n",
       "Index: [E01000001, E01000002, E01000003, E01000005, E01032739]"
      ]
     },
     "execution_count": 16,
     "metadata": {},
     "output_type": "execute_result"
    }
   ],
   "source": [
    "df_internet_final.head()"
   ]
  },
  {
   "cell_type": "code",
   "execution_count": 17,
   "metadata": {
    "ExecuteTime": {
     "end_time": "2020-06-09T13:48:05.461100Z",
     "start_time": "2020-06-09T13:48:05.458033Z"
    }
   },
   "outputs": [
    {
     "data": {
      "text/plain": [
       "(4835, 0)"
      ]
     },
     "execution_count": 17,
     "metadata": {},
     "output_type": "execute_result"
    }
   ],
   "source": [
    "df_internet_final.shape"
   ]
  },
  {
   "cell_type": "code",
   "execution_count": 18,
   "metadata": {
    "ExecuteTime": {
     "end_time": "2020-06-09T13:48:05.468107Z",
     "start_time": "2020-06-09T13:48:05.462464Z"
    }
   },
   "outputs": [
    {
     "data": {
      "text/html": [
       "<div>\n",
       "<style scoped>\n",
       "    .dataframe tbody tr th:only-of-type {\n",
       "        vertical-align: middle;\n",
       "    }\n",
       "\n",
       "    .dataframe tbody tr th {\n",
       "        vertical-align: top;\n",
       "    }\n",
       "\n",
       "    .dataframe thead th {\n",
       "        text-align: right;\n",
       "    }\n",
       "</style>\n",
       "<table border=\"1\" class=\"dataframe\">\n",
       "  <thead>\n",
       "    <tr style=\"text-align: right;\">\n",
       "      <th></th>\n",
       "    </tr>\n",
       "  </thead>\n",
       "  <tbody>\n",
       "    <tr>\n",
       "      <th>E01000001</th>\n",
       "    </tr>\n",
       "    <tr>\n",
       "      <th>E01000002</th>\n",
       "    </tr>\n",
       "    <tr>\n",
       "      <th>E01000003</th>\n",
       "    </tr>\n",
       "    <tr>\n",
       "      <th>E01000005</th>\n",
       "    </tr>\n",
       "    <tr>\n",
       "      <th>E01032739</th>\n",
       "    </tr>\n",
       "    <tr>\n",
       "      <th>...</th>\n",
       "    </tr>\n",
       "    <tr>\n",
       "      <th>E01033604</th>\n",
       "    </tr>\n",
       "    <tr>\n",
       "      <th>E01033605</th>\n",
       "    </tr>\n",
       "    <tr>\n",
       "      <th>E01033606</th>\n",
       "    </tr>\n",
       "    <tr>\n",
       "      <th>E01033607</th>\n",
       "    </tr>\n",
       "    <tr>\n",
       "      <th>E01033608</th>\n",
       "    </tr>\n",
       "  </tbody>\n",
       "</table>\n",
       "<p>4835 rows × 0 columns</p>\n",
       "</div>"
      ],
      "text/plain": [
       "Empty DataFrame\n",
       "Columns: []\n",
       "Index: [E01000001, E01000002, E01000003, E01000005, E01032739, E01032740, E01000006, E01000007, E01000008, E01000009, E01000010, E01000011, E01000012, E01000013, E01000014, E01000015, E01000016, E01000017, E01000018, E01000019, E01000020, E01000021, E01000022, E01000023, E01000024, E01000025, E01000027, E01000028, E01000029, E01000030, E01000031, E01000032, E01000033, E01000034, E01000035, E01000036, E01000037, E01000038, E01000039, E01000040, E01000041, E01000042, E01000043, E01000044, E01000045, E01000046, E01000048, E01000049, E01000050, E01000051, E01000052, E01000053, E01000054, E01000055, E01000056, E01000057, E01000058, E01000059, E01000060, E01000061, E01000062, E01000063, E01000064, E01000065, E01000066, E01000067, E01000068, E01000069, E01000070, E01000071, E01000072, E01000073, E01000074, E01000075, E01000076, E01000077, E01000078, E01000079, E01000080, E01000081, E01000082, E01000083, E01000084, E01000085, E01000086, E01000087, E01000088, E01000089, E01000090, E01000091, E01000092, E01000093, E01000094, E01000095, E01000096, E01000097, E01000098, E01000099, E01000100, E01000101, ...]\n",
       "\n",
       "[4835 rows x 0 columns]"
      ]
     },
     "execution_count": 18,
     "metadata": {},
     "output_type": "execute_result"
    }
   ],
   "source": [
    "df_internet_final"
   ]
  },
  {
   "cell_type": "code",
   "execution_count": null,
   "metadata": {},
   "outputs": [],
   "source": []
  },
  {
   "cell_type": "code",
   "execution_count": 19,
   "metadata": {
    "ExecuteTime": {
     "end_time": "2020-06-09T13:48:05.515549Z",
     "start_time": "2020-06-09T13:48:05.469516Z"
    }
   },
   "outputs": [
    {
     "name": "stdout",
     "output_type": "stream",
     "text": [
      "(4835, 96)\n"
     ]
    },
    {
     "data": {
      "text/html": [
       "<div>\n",
       "<style scoped>\n",
       "    .dataframe tbody tr th:only-of-type {\n",
       "        vertical-align: middle;\n",
       "    }\n",
       "\n",
       "    .dataframe tbody tr th {\n",
       "        vertical-align: top;\n",
       "    }\n",
       "\n",
       "    .dataframe thead th {\n",
       "        text-align: right;\n",
       "    }\n",
       "</style>\n",
       "<table border=\"1\" class=\"dataframe\">\n",
       "  <thead>\n",
       "    <tr style=\"text-align: right;\">\n",
       "      <th></th>\n",
       "      <th>1995-Q4</th>\n",
       "      <th>1996-Q1</th>\n",
       "      <th>1996-Q2</th>\n",
       "      <th>1996-Q3</th>\n",
       "      <th>1996-Q4</th>\n",
       "      <th>1997-Q1</th>\n",
       "      <th>1997-Q2</th>\n",
       "      <th>1997-Q3</th>\n",
       "      <th>1997-Q4</th>\n",
       "      <th>1998-Q1</th>\n",
       "      <th>...</th>\n",
       "      <th>2017-Q2</th>\n",
       "      <th>2017-Q3</th>\n",
       "      <th>2017-Q4</th>\n",
       "      <th>2018-Q1</th>\n",
       "      <th>2018-Q2</th>\n",
       "      <th>2018-Q3</th>\n",
       "      <th>2018-Q4</th>\n",
       "      <th>2019-Q1</th>\n",
       "      <th>2019-Q2</th>\n",
       "      <th>2019-Q3</th>\n",
       "    </tr>\n",
       "  </thead>\n",
       "  <tbody>\n",
       "    <tr>\n",
       "      <th>E01000001</th>\n",
       "      <td>108500</td>\n",
       "      <td>119500</td>\n",
       "      <td>121250</td>\n",
       "      <td>133750</td>\n",
       "      <td>150000</td>\n",
       "      <td>141750</td>\n",
       "      <td>151000</td>\n",
       "      <td>140000</td>\n",
       "      <td>146000</td>\n",
       "      <td>150000</td>\n",
       "      <td>...</td>\n",
       "      <td>907500</td>\n",
       "      <td>950000</td>\n",
       "      <td>935000</td>\n",
       "      <td>920000</td>\n",
       "      <td>920000</td>\n",
       "      <td>850000</td>\n",
       "      <td>834750</td>\n",
       "      <td>815000</td>\n",
       "      <td>847500</td>\n",
       "      <td>887500</td>\n",
       "    </tr>\n",
       "    <tr>\n",
       "      <th>E01000002</th>\n",
       "      <td>113500</td>\n",
       "      <td>129000</td>\n",
       "      <td>114000</td>\n",
       "      <td>132000</td>\n",
       "      <td>122500</td>\n",
       "      <td>120000</td>\n",
       "      <td>122500</td>\n",
       "      <td>125000</td>\n",
       "      <td>130000</td>\n",
       "      <td>146000</td>\n",
       "      <td>...</td>\n",
       "      <td>875000</td>\n",
       "      <td>850000</td>\n",
       "      <td>849950</td>\n",
       "      <td>835000</td>\n",
       "      <td>810000</td>\n",
       "      <td>807500</td>\n",
       "      <td>830000</td>\n",
       "      <td>835000</td>\n",
       "      <td>857500</td>\n",
       "      <td>880000</td>\n",
       "    </tr>\n",
       "    <tr>\n",
       "      <th>E01000003</th>\n",
       "      <td>74000</td>\n",
       "      <td>74000</td>\n",
       "      <td>79000</td>\n",
       "      <td>79000</td>\n",
       "      <td>76000</td>\n",
       "      <td>107892</td>\n",
       "      <td>120000</td>\n",
       "      <td>127500</td>\n",
       "      <td>135000</td>\n",
       "      <td>122090</td>\n",
       "      <td>...</td>\n",
       "      <td>750000</td>\n",
       "      <td>751000</td>\n",
       "      <td>760000</td>\n",
       "      <td>750000</td>\n",
       "      <td>730000</td>\n",
       "      <td>690500</td>\n",
       "      <td>651000</td>\n",
       "      <td>599500</td>\n",
       "      <td>599000</td>\n",
       "      <td>575000</td>\n",
       "    </tr>\n",
       "    <tr>\n",
       "      <th>E01000005</th>\n",
       "      <td>:</td>\n",
       "      <td>55000</td>\n",
       "      <td>57850</td>\n",
       "      <td>57850</td>\n",
       "      <td>56425</td>\n",
       "      <td>57000</td>\n",
       "      <td>54500</td>\n",
       "      <td>55000</td>\n",
       "      <td>57000</td>\n",
       "      <td>65000</td>\n",
       "      <td>...</td>\n",
       "      <td>520000</td>\n",
       "      <td>:</td>\n",
       "      <td>:</td>\n",
       "      <td>:</td>\n",
       "      <td>:</td>\n",
       "      <td>:</td>\n",
       "      <td>:</td>\n",
       "      <td>:</td>\n",
       "      <td>:</td>\n",
       "      <td>:</td>\n",
       "    </tr>\n",
       "    <tr>\n",
       "      <th>E01032739</th>\n",
       "      <td>148000</td>\n",
       "      <td>178750</td>\n",
       "      <td>175000</td>\n",
       "      <td>175000</td>\n",
       "      <td>158750</td>\n",
       "      <td>150000</td>\n",
       "      <td>150000</td>\n",
       "      <td>144000</td>\n",
       "      <td>128000</td>\n",
       "      <td>186925</td>\n",
       "      <td>...</td>\n",
       "      <td>581250</td>\n",
       "      <td>567500</td>\n",
       "      <td>570250</td>\n",
       "      <td>577500</td>\n",
       "      <td>903750</td>\n",
       "      <td>927500</td>\n",
       "      <td>941160</td>\n",
       "      <td>964500</td>\n",
       "      <td>941160</td>\n",
       "      <td>996075</td>\n",
       "    </tr>\n",
       "  </tbody>\n",
       "</table>\n",
       "<p>5 rows × 96 columns</p>\n",
       "</div>"
      ],
      "text/plain": [
       "          1995-Q4 1996-Q1 1996-Q2 1996-Q3 1996-Q4 1997-Q1 1997-Q2 1997-Q3  \\\n",
       "E01000001  108500  119500  121250  133750  150000  141750  151000  140000   \n",
       "E01000002  113500  129000  114000  132000  122500  120000  122500  125000   \n",
       "E01000003   74000   74000   79000   79000   76000  107892  120000  127500   \n",
       "E01000005       :   55000   57850   57850   56425   57000   54500   55000   \n",
       "E01032739  148000  178750  175000  175000  158750  150000  150000  144000   \n",
       "\n",
       "          1997-Q4 1998-Q1  ... 2017-Q2 2017-Q3 2017-Q4 2018-Q1 2018-Q2  \\\n",
       "E01000001  146000  150000  ...  907500  950000  935000  920000  920000   \n",
       "E01000002  130000  146000  ...  875000  850000  849950  835000  810000   \n",
       "E01000003  135000  122090  ...  750000  751000  760000  750000  730000   \n",
       "E01000005   57000   65000  ...  520000       :       :       :       :   \n",
       "E01032739  128000  186925  ...  581250  567500  570250  577500  903750   \n",
       "\n",
       "          2018-Q3 2018-Q4 2019-Q1 2019-Q2 2019-Q3  \n",
       "E01000001  850000  834750  815000  847500  887500  \n",
       "E01000002  807500  830000  835000  857500  880000  \n",
       "E01000003  690500  651000  599500  599000  575000  \n",
       "E01000005       :       :       :       :       :  \n",
       "E01032739  927500  941160  964500  941160  996075  \n",
       "\n",
       "[5 rows x 96 columns]"
      ]
     },
     "execution_count": 19,
     "metadata": {},
     "output_type": "execute_result"
    }
   ],
   "source": [
    "df_med = pd.merge(df_internet_final, df, left_index=True, right_index=True)\n",
    "print(df_med.shape)\n",
    "df_med.head()"
   ]
  },
  {
   "cell_type": "code",
   "execution_count": 20,
   "metadata": {
    "ExecuteTime": {
     "end_time": "2020-06-09T13:48:05.520461Z",
     "start_time": "2020-06-09T13:48:05.517265Z"
    }
   },
   "outputs": [
    {
     "data": {
      "text/plain": [
       "(4835, 96)"
      ]
     },
     "execution_count": 20,
     "metadata": {},
     "output_type": "execute_result"
    }
   ],
   "source": [
    "df_med.shape"
   ]
  },
  {
   "cell_type": "code",
   "execution_count": 21,
   "metadata": {
    "ExecuteTime": {
     "end_time": "2020-06-09T13:48:05.766126Z",
     "start_time": "2020-06-09T13:48:05.521879Z"
    }
   },
   "outputs": [
    {
     "data": {
      "text/html": [
       "<div>\n",
       "<style scoped>\n",
       "    .dataframe tbody tr th:only-of-type {\n",
       "        vertical-align: middle;\n",
       "    }\n",
       "\n",
       "    .dataframe tbody tr th {\n",
       "        vertical-align: top;\n",
       "    }\n",
       "\n",
       "    .dataframe thead th {\n",
       "        text-align: right;\n",
       "    }\n",
       "</style>\n",
       "<table border=\"1\" class=\"dataframe\">\n",
       "  <thead>\n",
       "    <tr style=\"text-align: right;\">\n",
       "      <th></th>\n",
       "      <th>E01000001</th>\n",
       "      <th>E01000002</th>\n",
       "      <th>E01000003</th>\n",
       "      <th>E01000005</th>\n",
       "      <th>E01032739</th>\n",
       "      <th>E01032740</th>\n",
       "      <th>E01000006</th>\n",
       "      <th>E01000007</th>\n",
       "      <th>E01000008</th>\n",
       "      <th>E01000009</th>\n",
       "      <th>...</th>\n",
       "      <th>E01033599</th>\n",
       "      <th>E01033600</th>\n",
       "      <th>E01033601</th>\n",
       "      <th>E01033602</th>\n",
       "      <th>E01033603</th>\n",
       "      <th>E01033604</th>\n",
       "      <th>E01033605</th>\n",
       "      <th>E01033606</th>\n",
       "      <th>E01033607</th>\n",
       "      <th>E01033608</th>\n",
       "    </tr>\n",
       "  </thead>\n",
       "  <tbody>\n",
       "    <tr>\n",
       "      <th>1995-Q4</th>\n",
       "      <td>108500</td>\n",
       "      <td>113500</td>\n",
       "      <td>74000</td>\n",
       "      <td>:</td>\n",
       "      <td>148000</td>\n",
       "      <td>86500</td>\n",
       "      <td>68500</td>\n",
       "      <td>:</td>\n",
       "      <td>:</td>\n",
       "      <td>53000</td>\n",
       "      <td>...</td>\n",
       "      <td>:</td>\n",
       "      <td>130000</td>\n",
       "      <td>80000</td>\n",
       "      <td>73500</td>\n",
       "      <td>82000</td>\n",
       "      <td>:</td>\n",
       "      <td>62300</td>\n",
       "      <td>125000</td>\n",
       "      <td>117000</td>\n",
       "      <td>142162</td>\n",
       "    </tr>\n",
       "    <tr>\n",
       "      <th>1996-Q1</th>\n",
       "      <td>119500</td>\n",
       "      <td>129000</td>\n",
       "      <td>74000</td>\n",
       "      <td>55000</td>\n",
       "      <td>178750</td>\n",
       "      <td>115000</td>\n",
       "      <td>66000</td>\n",
       "      <td>:</td>\n",
       "      <td>:</td>\n",
       "      <td>53000</td>\n",
       "      <td>...</td>\n",
       "      <td>:</td>\n",
       "      <td>190000</td>\n",
       "      <td>80000</td>\n",
       "      <td>67000</td>\n",
       "      <td>74500</td>\n",
       "      <td>:</td>\n",
       "      <td>62300</td>\n",
       "      <td>107500</td>\n",
       "      <td>119000</td>\n",
       "      <td>144325</td>\n",
       "    </tr>\n",
       "    <tr>\n",
       "      <th>1996-Q2</th>\n",
       "      <td>121250</td>\n",
       "      <td>114000</td>\n",
       "      <td>79000</td>\n",
       "      <td>57850</td>\n",
       "      <td>175000</td>\n",
       "      <td>115000</td>\n",
       "      <td>67000</td>\n",
       "      <td>:</td>\n",
       "      <td>:</td>\n",
       "      <td>54500</td>\n",
       "      <td>...</td>\n",
       "      <td>:</td>\n",
       "      <td>220000</td>\n",
       "      <td>82500</td>\n",
       "      <td>57000</td>\n",
       "      <td>70000</td>\n",
       "      <td>:</td>\n",
       "      <td>62300</td>\n",
       "      <td>129950</td>\n",
       "      <td>120000</td>\n",
       "      <td>154000</td>\n",
       "    </tr>\n",
       "    <tr>\n",
       "      <th>1996-Q3</th>\n",
       "      <td>133750</td>\n",
       "      <td>132000</td>\n",
       "      <td>79000</td>\n",
       "      <td>57850</td>\n",
       "      <td>175000</td>\n",
       "      <td>139000</td>\n",
       "      <td>67000</td>\n",
       "      <td>:</td>\n",
       "      <td>:</td>\n",
       "      <td>54250</td>\n",
       "      <td>...</td>\n",
       "      <td>:</td>\n",
       "      <td>220000</td>\n",
       "      <td>120000</td>\n",
       "      <td>57000</td>\n",
       "      <td>70000</td>\n",
       "      <td>74750</td>\n",
       "      <td>60000</td>\n",
       "      <td>129950</td>\n",
       "      <td>180000</td>\n",
       "      <td>160000</td>\n",
       "    </tr>\n",
       "    <tr>\n",
       "      <th>1996-Q4</th>\n",
       "      <td>150000</td>\n",
       "      <td>122500</td>\n",
       "      <td>76000</td>\n",
       "      <td>56425</td>\n",
       "      <td>158750</td>\n",
       "      <td>125000</td>\n",
       "      <td>69500</td>\n",
       "      <td>:</td>\n",
       "      <td>:</td>\n",
       "      <td>50000</td>\n",
       "      <td>...</td>\n",
       "      <td>:</td>\n",
       "      <td>220000</td>\n",
       "      <td>120000</td>\n",
       "      <td>57000</td>\n",
       "      <td>73875</td>\n",
       "      <td>81000</td>\n",
       "      <td>66500</td>\n",
       "      <td>140250</td>\n",
       "      <td>212500</td>\n",
       "      <td>163000</td>\n",
       "    </tr>\n",
       "  </tbody>\n",
       "</table>\n",
       "<p>5 rows × 4835 columns</p>\n",
       "</div>"
      ],
      "text/plain": [
       "        E01000001 E01000002 E01000003 E01000005 E01032739 E01032740 E01000006  \\\n",
       "1995-Q4    108500    113500     74000         :    148000     86500     68500   \n",
       "1996-Q1    119500    129000     74000     55000    178750    115000     66000   \n",
       "1996-Q2    121250    114000     79000     57850    175000    115000     67000   \n",
       "1996-Q3    133750    132000     79000     57850    175000    139000     67000   \n",
       "1996-Q4    150000    122500     76000     56425    158750    125000     69500   \n",
       "\n",
       "        E01000007 E01000008 E01000009  ... E01033599 E01033600 E01033601  \\\n",
       "1995-Q4         :         :     53000  ...         :    130000     80000   \n",
       "1996-Q1         :         :     53000  ...         :    190000     80000   \n",
       "1996-Q2         :         :     54500  ...         :    220000     82500   \n",
       "1996-Q3         :         :     54250  ...         :    220000    120000   \n",
       "1996-Q4         :         :     50000  ...         :    220000    120000   \n",
       "\n",
       "        E01033602 E01033603 E01033604 E01033605 E01033606 E01033607 E01033608  \n",
       "1995-Q4     73500     82000         :     62300    125000    117000    142162  \n",
       "1996-Q1     67000     74500         :     62300    107500    119000    144325  \n",
       "1996-Q2     57000     70000         :     62300    129950    120000    154000  \n",
       "1996-Q3     57000     70000     74750     60000    129950    180000    160000  \n",
       "1996-Q4     57000     73875     81000     66500    140250    212500    163000  \n",
       "\n",
       "[5 rows x 4835 columns]"
      ]
     },
     "execution_count": 21,
     "metadata": {},
     "output_type": "execute_result"
    }
   ],
   "source": [
    "df_med = df_med.T\n",
    "df_med.head()"
   ]
  },
  {
   "cell_type": "code",
   "execution_count": 22,
   "metadata": {
    "ExecuteTime": {
     "end_time": "2020-06-09T13:48:05.789938Z",
     "start_time": "2020-06-09T13:48:05.767687Z"
    }
   },
   "outputs": [
    {
     "data": {
      "text/html": [
       "<div>\n",
       "<style scoped>\n",
       "    .dataframe tbody tr th:only-of-type {\n",
       "        vertical-align: middle;\n",
       "    }\n",
       "\n",
       "    .dataframe tbody tr th {\n",
       "        vertical-align: top;\n",
       "    }\n",
       "\n",
       "    .dataframe thead th {\n",
       "        text-align: right;\n",
       "    }\n",
       "</style>\n",
       "<table border=\"1\" class=\"dataframe\">\n",
       "  <thead>\n",
       "    <tr style=\"text-align: right;\">\n",
       "      <th></th>\n",
       "      <th>E01000001</th>\n",
       "      <th>E01000002</th>\n",
       "      <th>E01000003</th>\n",
       "      <th>E01000005</th>\n",
       "      <th>E01032739</th>\n",
       "      <th>E01032740</th>\n",
       "      <th>E01000006</th>\n",
       "      <th>E01000007</th>\n",
       "      <th>E01000008</th>\n",
       "      <th>E01000009</th>\n",
       "      <th>...</th>\n",
       "      <th>E01033599</th>\n",
       "      <th>E01033600</th>\n",
       "      <th>E01033601</th>\n",
       "      <th>E01033602</th>\n",
       "      <th>E01033603</th>\n",
       "      <th>E01033604</th>\n",
       "      <th>E01033605</th>\n",
       "      <th>E01033606</th>\n",
       "      <th>E01033607</th>\n",
       "      <th>E01033608</th>\n",
       "    </tr>\n",
       "  </thead>\n",
       "  <tbody>\n",
       "    <tr>\n",
       "      <th>1995-10-01</th>\n",
       "      <td>108500</td>\n",
       "      <td>113500</td>\n",
       "      <td>74000</td>\n",
       "      <td>:</td>\n",
       "      <td>148000</td>\n",
       "      <td>86500</td>\n",
       "      <td>68500</td>\n",
       "      <td>:</td>\n",
       "      <td>:</td>\n",
       "      <td>53000</td>\n",
       "      <td>...</td>\n",
       "      <td>:</td>\n",
       "      <td>130000</td>\n",
       "      <td>80000</td>\n",
       "      <td>73500</td>\n",
       "      <td>82000</td>\n",
       "      <td>:</td>\n",
       "      <td>62300</td>\n",
       "      <td>125000</td>\n",
       "      <td>117000</td>\n",
       "      <td>142162</td>\n",
       "    </tr>\n",
       "    <tr>\n",
       "      <th>1996-01-01</th>\n",
       "      <td>119500</td>\n",
       "      <td>129000</td>\n",
       "      <td>74000</td>\n",
       "      <td>55000</td>\n",
       "      <td>178750</td>\n",
       "      <td>115000</td>\n",
       "      <td>66000</td>\n",
       "      <td>:</td>\n",
       "      <td>:</td>\n",
       "      <td>53000</td>\n",
       "      <td>...</td>\n",
       "      <td>:</td>\n",
       "      <td>190000</td>\n",
       "      <td>80000</td>\n",
       "      <td>67000</td>\n",
       "      <td>74500</td>\n",
       "      <td>:</td>\n",
       "      <td>62300</td>\n",
       "      <td>107500</td>\n",
       "      <td>119000</td>\n",
       "      <td>144325</td>\n",
       "    </tr>\n",
       "    <tr>\n",
       "      <th>1996-04-01</th>\n",
       "      <td>121250</td>\n",
       "      <td>114000</td>\n",
       "      <td>79000</td>\n",
       "      <td>57850</td>\n",
       "      <td>175000</td>\n",
       "      <td>115000</td>\n",
       "      <td>67000</td>\n",
       "      <td>:</td>\n",
       "      <td>:</td>\n",
       "      <td>54500</td>\n",
       "      <td>...</td>\n",
       "      <td>:</td>\n",
       "      <td>220000</td>\n",
       "      <td>82500</td>\n",
       "      <td>57000</td>\n",
       "      <td>70000</td>\n",
       "      <td>:</td>\n",
       "      <td>62300</td>\n",
       "      <td>129950</td>\n",
       "      <td>120000</td>\n",
       "      <td>154000</td>\n",
       "    </tr>\n",
       "    <tr>\n",
       "      <th>1996-07-01</th>\n",
       "      <td>133750</td>\n",
       "      <td>132000</td>\n",
       "      <td>79000</td>\n",
       "      <td>57850</td>\n",
       "      <td>175000</td>\n",
       "      <td>139000</td>\n",
       "      <td>67000</td>\n",
       "      <td>:</td>\n",
       "      <td>:</td>\n",
       "      <td>54250</td>\n",
       "      <td>...</td>\n",
       "      <td>:</td>\n",
       "      <td>220000</td>\n",
       "      <td>120000</td>\n",
       "      <td>57000</td>\n",
       "      <td>70000</td>\n",
       "      <td>74750</td>\n",
       "      <td>60000</td>\n",
       "      <td>129950</td>\n",
       "      <td>180000</td>\n",
       "      <td>160000</td>\n",
       "    </tr>\n",
       "    <tr>\n",
       "      <th>1996-10-01</th>\n",
       "      <td>150000</td>\n",
       "      <td>122500</td>\n",
       "      <td>76000</td>\n",
       "      <td>56425</td>\n",
       "      <td>158750</td>\n",
       "      <td>125000</td>\n",
       "      <td>69500</td>\n",
       "      <td>:</td>\n",
       "      <td>:</td>\n",
       "      <td>50000</td>\n",
       "      <td>...</td>\n",
       "      <td>:</td>\n",
       "      <td>220000</td>\n",
       "      <td>120000</td>\n",
       "      <td>57000</td>\n",
       "      <td>73875</td>\n",
       "      <td>81000</td>\n",
       "      <td>66500</td>\n",
       "      <td>140250</td>\n",
       "      <td>212500</td>\n",
       "      <td>163000</td>\n",
       "    </tr>\n",
       "  </tbody>\n",
       "</table>\n",
       "<p>5 rows × 4835 columns</p>\n",
       "</div>"
      ],
      "text/plain": [
       "           E01000001 E01000002 E01000003 E01000005 E01032739 E01032740  \\\n",
       "1995-10-01    108500    113500     74000         :    148000     86500   \n",
       "1996-01-01    119500    129000     74000     55000    178750    115000   \n",
       "1996-04-01    121250    114000     79000     57850    175000    115000   \n",
       "1996-07-01    133750    132000     79000     57850    175000    139000   \n",
       "1996-10-01    150000    122500     76000     56425    158750    125000   \n",
       "\n",
       "           E01000006 E01000007 E01000008 E01000009  ... E01033599 E01033600  \\\n",
       "1995-10-01     68500         :         :     53000  ...         :    130000   \n",
       "1996-01-01     66000         :         :     53000  ...         :    190000   \n",
       "1996-04-01     67000         :         :     54500  ...         :    220000   \n",
       "1996-07-01     67000         :         :     54250  ...         :    220000   \n",
       "1996-10-01     69500         :         :     50000  ...         :    220000   \n",
       "\n",
       "           E01033601 E01033602 E01033603 E01033604 E01033605 E01033606  \\\n",
       "1995-10-01     80000     73500     82000         :     62300    125000   \n",
       "1996-01-01     80000     67000     74500         :     62300    107500   \n",
       "1996-04-01     82500     57000     70000         :     62300    129950   \n",
       "1996-07-01    120000     57000     70000     74750     60000    129950   \n",
       "1996-10-01    120000     57000     73875     81000     66500    140250   \n",
       "\n",
       "           E01033607 E01033608  \n",
       "1995-10-01    117000    142162  \n",
       "1996-01-01    119000    144325  \n",
       "1996-04-01    120000    154000  \n",
       "1996-07-01    180000    160000  \n",
       "1996-10-01    212500    163000  \n",
       "\n",
       "[5 rows x 4835 columns]"
      ]
     },
     "execution_count": 22,
     "metadata": {},
     "output_type": "execute_result"
    }
   ],
   "source": [
    "df_med.index = pd.PeriodIndex(df_med.index, freq='Q').to_timestamp()\n",
    "df_med.head()"
   ]
  },
  {
   "cell_type": "code",
   "execution_count": null,
   "metadata": {},
   "outputs": [],
   "source": []
  },
  {
   "cell_type": "code",
   "execution_count": 23,
   "metadata": {
    "ExecuteTime": {
     "end_time": "2020-06-09T13:48:06.237809Z",
     "start_time": "2020-06-09T13:48:05.795124Z"
    }
   },
   "outputs": [],
   "source": [
    "df_med.replace(':', np.nan, inplace=True)"
   ]
  },
  {
   "cell_type": "code",
   "execution_count": 24,
   "metadata": {
    "ExecuteTime": {
     "end_time": "2020-06-09T13:48:06.303319Z",
     "start_time": "2020-06-09T13:48:06.240684Z"
    },
    "scrolled": true
   },
   "outputs": [
    {
     "data": {
      "text/plain": [
       "E01002904    96\n",
       "E01002907    96\n",
       "E01003968    90\n",
       "E01002857    88\n",
       "E01004088    88\n",
       "E01002089    86\n",
       "E01003974    84\n",
       "E01000955    83\n",
       "E01003912    81\n",
       "E01003252    80\n",
       "E01003486    78\n",
       "E01002545    76\n",
       "E01004040    76\n",
       "E01000599    75\n",
       "E01001746    73\n",
       "E01003971    72\n",
       "E01000954    72\n",
       "E01002842    72\n",
       "E01003044    71\n",
       "E01002673    71\n",
       "E01001713    70\n",
       "E01004739    70\n",
       "E01003245    69\n",
       "E01003244    69\n",
       "E01002082    69\n",
       "E01000552    68\n",
       "E01000048    67\n",
       "E01000151    67\n",
       "E01001885    67\n",
       "E01001510    67\n",
       "E01004335    65\n",
       "E01000051    65\n",
       "E01001057    64\n",
       "E01000949    64\n",
       "E01000061    64\n",
       "E01001710    63\n",
       "E01004248    62\n",
       "E01000605    62\n",
       "E01004011    62\n",
       "E01004459    60\n",
       "E01000941    60\n",
       "E01002588    60\n",
       "E01004007    59\n",
       "E01003970    59\n",
       "E01003111    59\n",
       "E01002853    59\n",
       "E01001220    59\n",
       "E01000422    58\n",
       "E01000604    58\n",
       "E01003989    58\n",
       "dtype: int64"
      ]
     },
     "execution_count": 24,
     "metadata": {},
     "output_type": "execute_result"
    }
   ],
   "source": [
    "df_med.isnull().sum().sort_values(ascending=False)[0:50]"
   ]
  },
  {
   "cell_type": "code",
   "execution_count": null,
   "metadata": {},
   "outputs": [],
   "source": []
  },
  {
   "cell_type": "code",
   "execution_count": 25,
   "metadata": {
    "ExecuteTime": {
     "end_time": "2020-06-09T13:48:06.307723Z",
     "start_time": "2020-06-09T13:48:06.304909Z"
    }
   },
   "outputs": [
    {
     "data": {
      "text/plain": [
       "(96, 4835)"
      ]
     },
     "execution_count": 25,
     "metadata": {},
     "output_type": "execute_result"
    }
   ],
   "source": [
    "df_med.shape"
   ]
  },
  {
   "cell_type": "code",
   "execution_count": 26,
   "metadata": {
    "ExecuteTime": {
     "end_time": "2020-06-09T13:48:06.316703Z",
     "start_time": "2020-06-09T13:48:06.309325Z"
    }
   },
   "outputs": [
    {
     "data": {
      "text/plain": [
       "(96, 4645)"
      ]
     },
     "execution_count": 26,
     "metadata": {},
     "output_type": "execute_result"
    }
   ],
   "source": [
    "df_med.dropna(thresh = 0.7*len(df_med), axis=1, inplace=True)\n",
    "df_med.shape"
   ]
  },
  {
   "cell_type": "code",
   "execution_count": 27,
   "metadata": {
    "ExecuteTime": {
     "end_time": "2020-06-09T13:48:06.339777Z",
     "start_time": "2020-06-09T13:48:06.318173Z"
    }
   },
   "outputs": [
    {
     "data": {
      "text/html": [
       "<div>\n",
       "<style scoped>\n",
       "    .dataframe tbody tr th:only-of-type {\n",
       "        vertical-align: middle;\n",
       "    }\n",
       "\n",
       "    .dataframe tbody tr th {\n",
       "        vertical-align: top;\n",
       "    }\n",
       "\n",
       "    .dataframe thead th {\n",
       "        text-align: right;\n",
       "    }\n",
       "</style>\n",
       "<table border=\"1\" class=\"dataframe\">\n",
       "  <thead>\n",
       "    <tr style=\"text-align: right;\">\n",
       "      <th></th>\n",
       "      <th>E01000001</th>\n",
       "      <th>E01000002</th>\n",
       "      <th>E01000003</th>\n",
       "      <th>E01000005</th>\n",
       "      <th>E01032739</th>\n",
       "      <th>E01032740</th>\n",
       "      <th>E01000006</th>\n",
       "      <th>E01000007</th>\n",
       "      <th>E01000008</th>\n",
       "      <th>E01000009</th>\n",
       "      <th>...</th>\n",
       "      <th>E01033597</th>\n",
       "      <th>E01033598</th>\n",
       "      <th>E01033600</th>\n",
       "      <th>E01033601</th>\n",
       "      <th>E01033602</th>\n",
       "      <th>E01033603</th>\n",
       "      <th>E01033605</th>\n",
       "      <th>E01033606</th>\n",
       "      <th>E01033607</th>\n",
       "      <th>E01033608</th>\n",
       "    </tr>\n",
       "  </thead>\n",
       "  <tbody>\n",
       "    <tr>\n",
       "      <th>1995-10-01</th>\n",
       "      <td>108500.0</td>\n",
       "      <td>113500.0</td>\n",
       "      <td>74000.0</td>\n",
       "      <td>NaN</td>\n",
       "      <td>148000.0</td>\n",
       "      <td>86500.0</td>\n",
       "      <td>68500.0</td>\n",
       "      <td>NaN</td>\n",
       "      <td>NaN</td>\n",
       "      <td>53000.0</td>\n",
       "      <td>...</td>\n",
       "      <td>NaN</td>\n",
       "      <td>NaN</td>\n",
       "      <td>130000.0</td>\n",
       "      <td>80000.0</td>\n",
       "      <td>73500.0</td>\n",
       "      <td>82000.0</td>\n",
       "      <td>62300.0</td>\n",
       "      <td>125000</td>\n",
       "      <td>117000</td>\n",
       "      <td>142162.5</td>\n",
       "    </tr>\n",
       "    <tr>\n",
       "      <th>1996-01-01</th>\n",
       "      <td>119500.0</td>\n",
       "      <td>129000.0</td>\n",
       "      <td>74000.0</td>\n",
       "      <td>55000.0</td>\n",
       "      <td>178750.0</td>\n",
       "      <td>115000.0</td>\n",
       "      <td>66000.0</td>\n",
       "      <td>NaN</td>\n",
       "      <td>NaN</td>\n",
       "      <td>53000.0</td>\n",
       "      <td>...</td>\n",
       "      <td>NaN</td>\n",
       "      <td>NaN</td>\n",
       "      <td>190000.0</td>\n",
       "      <td>80000.0</td>\n",
       "      <td>67000.0</td>\n",
       "      <td>74500.0</td>\n",
       "      <td>62300.0</td>\n",
       "      <td>107500</td>\n",
       "      <td>119000</td>\n",
       "      <td>144325.0</td>\n",
       "    </tr>\n",
       "    <tr>\n",
       "      <th>1996-04-01</th>\n",
       "      <td>121250.0</td>\n",
       "      <td>114000.0</td>\n",
       "      <td>79000.0</td>\n",
       "      <td>57850.0</td>\n",
       "      <td>175000.0</td>\n",
       "      <td>115000.0</td>\n",
       "      <td>67000.0</td>\n",
       "      <td>NaN</td>\n",
       "      <td>NaN</td>\n",
       "      <td>54500.0</td>\n",
       "      <td>...</td>\n",
       "      <td>NaN</td>\n",
       "      <td>NaN</td>\n",
       "      <td>220000.0</td>\n",
       "      <td>82500.0</td>\n",
       "      <td>57000.0</td>\n",
       "      <td>70000.0</td>\n",
       "      <td>62300.0</td>\n",
       "      <td>129950</td>\n",
       "      <td>120000</td>\n",
       "      <td>154000.0</td>\n",
       "    </tr>\n",
       "    <tr>\n",
       "      <th>1996-07-01</th>\n",
       "      <td>133750.0</td>\n",
       "      <td>132000.0</td>\n",
       "      <td>79000.0</td>\n",
       "      <td>57850.0</td>\n",
       "      <td>175000.0</td>\n",
       "      <td>139000.0</td>\n",
       "      <td>67000.0</td>\n",
       "      <td>NaN</td>\n",
       "      <td>NaN</td>\n",
       "      <td>54250.0</td>\n",
       "      <td>...</td>\n",
       "      <td>NaN</td>\n",
       "      <td>NaN</td>\n",
       "      <td>220000.0</td>\n",
       "      <td>120000.0</td>\n",
       "      <td>57000.0</td>\n",
       "      <td>70000.0</td>\n",
       "      <td>60000.0</td>\n",
       "      <td>129950</td>\n",
       "      <td>180000</td>\n",
       "      <td>160000.0</td>\n",
       "    </tr>\n",
       "    <tr>\n",
       "      <th>1996-10-01</th>\n",
       "      <td>150000.0</td>\n",
       "      <td>122500.0</td>\n",
       "      <td>76000.0</td>\n",
       "      <td>56425.0</td>\n",
       "      <td>158750.0</td>\n",
       "      <td>125000.0</td>\n",
       "      <td>69500.0</td>\n",
       "      <td>NaN</td>\n",
       "      <td>NaN</td>\n",
       "      <td>50000.0</td>\n",
       "      <td>...</td>\n",
       "      <td>42500.0</td>\n",
       "      <td>NaN</td>\n",
       "      <td>220000.0</td>\n",
       "      <td>120000.0</td>\n",
       "      <td>57000.0</td>\n",
       "      <td>73875.0</td>\n",
       "      <td>66500.0</td>\n",
       "      <td>140250</td>\n",
       "      <td>212500</td>\n",
       "      <td>163000.0</td>\n",
       "    </tr>\n",
       "  </tbody>\n",
       "</table>\n",
       "<p>5 rows × 4645 columns</p>\n",
       "</div>"
      ],
      "text/plain": [
       "            E01000001  E01000002  E01000003  E01000005  E01032739  E01032740  \\\n",
       "1995-10-01   108500.0   113500.0    74000.0        NaN   148000.0    86500.0   \n",
       "1996-01-01   119500.0   129000.0    74000.0    55000.0   178750.0   115000.0   \n",
       "1996-04-01   121250.0   114000.0    79000.0    57850.0   175000.0   115000.0   \n",
       "1996-07-01   133750.0   132000.0    79000.0    57850.0   175000.0   139000.0   \n",
       "1996-10-01   150000.0   122500.0    76000.0    56425.0   158750.0   125000.0   \n",
       "\n",
       "            E01000006  E01000007  E01000008  E01000009  ...  E01033597  \\\n",
       "1995-10-01    68500.0        NaN        NaN    53000.0  ...        NaN   \n",
       "1996-01-01    66000.0        NaN        NaN    53000.0  ...        NaN   \n",
       "1996-04-01    67000.0        NaN        NaN    54500.0  ...        NaN   \n",
       "1996-07-01    67000.0        NaN        NaN    54250.0  ...        NaN   \n",
       "1996-10-01    69500.0        NaN        NaN    50000.0  ...    42500.0   \n",
       "\n",
       "            E01033598  E01033600  E01033601  E01033602  E01033603  E01033605  \\\n",
       "1995-10-01        NaN   130000.0    80000.0    73500.0    82000.0    62300.0   \n",
       "1996-01-01        NaN   190000.0    80000.0    67000.0    74500.0    62300.0   \n",
       "1996-04-01        NaN   220000.0    82500.0    57000.0    70000.0    62300.0   \n",
       "1996-07-01        NaN   220000.0   120000.0    57000.0    70000.0    60000.0   \n",
       "1996-10-01        NaN   220000.0   120000.0    57000.0    73875.0    66500.0   \n",
       "\n",
       "            E01033606  E01033607  E01033608  \n",
       "1995-10-01     125000     117000   142162.5  \n",
       "1996-01-01     107500     119000   144325.0  \n",
       "1996-04-01     129950     120000   154000.0  \n",
       "1996-07-01     129950     180000   160000.0  \n",
       "1996-10-01     140250     212500   163000.0  \n",
       "\n",
       "[5 rows x 4645 columns]"
      ]
     },
     "execution_count": 27,
     "metadata": {},
     "output_type": "execute_result"
    }
   ],
   "source": [
    "df_med.head()"
   ]
  },
  {
   "cell_type": "code",
   "execution_count": 28,
   "metadata": {
    "ExecuteTime": {
     "end_time": "2020-06-09T13:48:06.349298Z",
     "start_time": "2020-06-09T13:48:06.341652Z"
    }
   },
   "outputs": [
    {
     "data": {
      "text/plain": [
       "0     3274\n",
       "1      299\n",
       "2      220\n",
       "3      125\n",
       "4       92\n",
       "5       75\n",
       "6       65\n",
       "8       51\n",
       "7       45\n",
       "10      44\n",
       "13      37\n",
       "9       36\n",
       "12      32\n",
       "11      29\n",
       "16      26\n",
       "14      25\n",
       "17      25\n",
       "15      23\n",
       "18      17\n",
       "19      14\n",
       "26      13\n",
       "23      13\n",
       "20      12\n",
       "27      12\n",
       "22      12\n",
       "21      10\n",
       "25       8\n",
       "24       6\n",
       "28       5\n",
       "dtype: int64"
      ]
     },
     "execution_count": 28,
     "metadata": {},
     "output_type": "execute_result"
    }
   ],
   "source": [
    "df_med.isnull().sum().value_counts()"
   ]
  },
  {
   "cell_type": "code",
   "execution_count": 29,
   "metadata": {
    "ExecuteTime": {
     "end_time": "2020-06-09T13:48:06.372027Z",
     "start_time": "2020-06-09T13:48:06.350826Z"
    }
   },
   "outputs": [
    {
     "data": {
      "text/html": [
       "<div>\n",
       "<style scoped>\n",
       "    .dataframe tbody tr th:only-of-type {\n",
       "        vertical-align: middle;\n",
       "    }\n",
       "\n",
       "    .dataframe tbody tr th {\n",
       "        vertical-align: top;\n",
       "    }\n",
       "\n",
       "    .dataframe thead th {\n",
       "        text-align: right;\n",
       "    }\n",
       "</style>\n",
       "<table border=\"1\" class=\"dataframe\">\n",
       "  <thead>\n",
       "    <tr style=\"text-align: right;\">\n",
       "      <th></th>\n",
       "      <th>E01000001</th>\n",
       "      <th>E01000002</th>\n",
       "      <th>E01000003</th>\n",
       "      <th>E01000005</th>\n",
       "      <th>E01032739</th>\n",
       "      <th>E01032740</th>\n",
       "      <th>E01000006</th>\n",
       "      <th>E01000007</th>\n",
       "      <th>E01000008</th>\n",
       "      <th>E01000009</th>\n",
       "      <th>...</th>\n",
       "      <th>E01033597</th>\n",
       "      <th>E01033598</th>\n",
       "      <th>E01033600</th>\n",
       "      <th>E01033601</th>\n",
       "      <th>E01033602</th>\n",
       "      <th>E01033603</th>\n",
       "      <th>E01033605</th>\n",
       "      <th>E01033606</th>\n",
       "      <th>E01033607</th>\n",
       "      <th>E01033608</th>\n",
       "    </tr>\n",
       "  </thead>\n",
       "  <tbody>\n",
       "    <tr>\n",
       "      <th>1995-10-01</th>\n",
       "      <td>108500.0</td>\n",
       "      <td>113500.0</td>\n",
       "      <td>74000.0</td>\n",
       "      <td>NaN</td>\n",
       "      <td>148000.0</td>\n",
       "      <td>86500.0</td>\n",
       "      <td>68500.0</td>\n",
       "      <td>NaN</td>\n",
       "      <td>NaN</td>\n",
       "      <td>53000.0</td>\n",
       "      <td>...</td>\n",
       "      <td>NaN</td>\n",
       "      <td>NaN</td>\n",
       "      <td>130000.0</td>\n",
       "      <td>80000.0</td>\n",
       "      <td>73500.0</td>\n",
       "      <td>82000.0</td>\n",
       "      <td>62300.0</td>\n",
       "      <td>125000</td>\n",
       "      <td>117000</td>\n",
       "      <td>142162.5</td>\n",
       "    </tr>\n",
       "    <tr>\n",
       "      <th>1996-01-01</th>\n",
       "      <td>119500.0</td>\n",
       "      <td>129000.0</td>\n",
       "      <td>74000.0</td>\n",
       "      <td>55000.0</td>\n",
       "      <td>178750.0</td>\n",
       "      <td>115000.0</td>\n",
       "      <td>66000.0</td>\n",
       "      <td>NaN</td>\n",
       "      <td>NaN</td>\n",
       "      <td>53000.0</td>\n",
       "      <td>...</td>\n",
       "      <td>NaN</td>\n",
       "      <td>NaN</td>\n",
       "      <td>190000.0</td>\n",
       "      <td>80000.0</td>\n",
       "      <td>67000.0</td>\n",
       "      <td>74500.0</td>\n",
       "      <td>62300.0</td>\n",
       "      <td>107500</td>\n",
       "      <td>119000</td>\n",
       "      <td>144325.0</td>\n",
       "    </tr>\n",
       "    <tr>\n",
       "      <th>1996-04-01</th>\n",
       "      <td>121250.0</td>\n",
       "      <td>114000.0</td>\n",
       "      <td>79000.0</td>\n",
       "      <td>57850.0</td>\n",
       "      <td>175000.0</td>\n",
       "      <td>115000.0</td>\n",
       "      <td>67000.0</td>\n",
       "      <td>NaN</td>\n",
       "      <td>NaN</td>\n",
       "      <td>54500.0</td>\n",
       "      <td>...</td>\n",
       "      <td>NaN</td>\n",
       "      <td>NaN</td>\n",
       "      <td>220000.0</td>\n",
       "      <td>82500.0</td>\n",
       "      <td>57000.0</td>\n",
       "      <td>70000.0</td>\n",
       "      <td>62300.0</td>\n",
       "      <td>129950</td>\n",
       "      <td>120000</td>\n",
       "      <td>154000.0</td>\n",
       "    </tr>\n",
       "    <tr>\n",
       "      <th>1996-07-01</th>\n",
       "      <td>133750.0</td>\n",
       "      <td>132000.0</td>\n",
       "      <td>79000.0</td>\n",
       "      <td>57850.0</td>\n",
       "      <td>175000.0</td>\n",
       "      <td>139000.0</td>\n",
       "      <td>67000.0</td>\n",
       "      <td>NaN</td>\n",
       "      <td>NaN</td>\n",
       "      <td>54250.0</td>\n",
       "      <td>...</td>\n",
       "      <td>NaN</td>\n",
       "      <td>NaN</td>\n",
       "      <td>220000.0</td>\n",
       "      <td>120000.0</td>\n",
       "      <td>57000.0</td>\n",
       "      <td>70000.0</td>\n",
       "      <td>60000.0</td>\n",
       "      <td>129950</td>\n",
       "      <td>180000</td>\n",
       "      <td>160000.0</td>\n",
       "    </tr>\n",
       "    <tr>\n",
       "      <th>1996-10-01</th>\n",
       "      <td>150000.0</td>\n",
       "      <td>122500.0</td>\n",
       "      <td>76000.0</td>\n",
       "      <td>56425.0</td>\n",
       "      <td>158750.0</td>\n",
       "      <td>125000.0</td>\n",
       "      <td>69500.0</td>\n",
       "      <td>NaN</td>\n",
       "      <td>NaN</td>\n",
       "      <td>50000.0</td>\n",
       "      <td>...</td>\n",
       "      <td>42500.0</td>\n",
       "      <td>NaN</td>\n",
       "      <td>220000.0</td>\n",
       "      <td>120000.0</td>\n",
       "      <td>57000.0</td>\n",
       "      <td>73875.0</td>\n",
       "      <td>66500.0</td>\n",
       "      <td>140250</td>\n",
       "      <td>212500</td>\n",
       "      <td>163000.0</td>\n",
       "    </tr>\n",
       "  </tbody>\n",
       "</table>\n",
       "<p>5 rows × 4645 columns</p>\n",
       "</div>"
      ],
      "text/plain": [
       "            E01000001  E01000002  E01000003  E01000005  E01032739  E01032740  \\\n",
       "1995-10-01   108500.0   113500.0    74000.0        NaN   148000.0    86500.0   \n",
       "1996-01-01   119500.0   129000.0    74000.0    55000.0   178750.0   115000.0   \n",
       "1996-04-01   121250.0   114000.0    79000.0    57850.0   175000.0   115000.0   \n",
       "1996-07-01   133750.0   132000.0    79000.0    57850.0   175000.0   139000.0   \n",
       "1996-10-01   150000.0   122500.0    76000.0    56425.0   158750.0   125000.0   \n",
       "\n",
       "            E01000006  E01000007  E01000008  E01000009  ...  E01033597  \\\n",
       "1995-10-01    68500.0        NaN        NaN    53000.0  ...        NaN   \n",
       "1996-01-01    66000.0        NaN        NaN    53000.0  ...        NaN   \n",
       "1996-04-01    67000.0        NaN        NaN    54500.0  ...        NaN   \n",
       "1996-07-01    67000.0        NaN        NaN    54250.0  ...        NaN   \n",
       "1996-10-01    69500.0        NaN        NaN    50000.0  ...    42500.0   \n",
       "\n",
       "            E01033598  E01033600  E01033601  E01033602  E01033603  E01033605  \\\n",
       "1995-10-01        NaN   130000.0    80000.0    73500.0    82000.0    62300.0   \n",
       "1996-01-01        NaN   190000.0    80000.0    67000.0    74500.0    62300.0   \n",
       "1996-04-01        NaN   220000.0    82500.0    57000.0    70000.0    62300.0   \n",
       "1996-07-01        NaN   220000.0   120000.0    57000.0    70000.0    60000.0   \n",
       "1996-10-01        NaN   220000.0   120000.0    57000.0    73875.0    66500.0   \n",
       "\n",
       "            E01033606  E01033607  E01033608  \n",
       "1995-10-01     125000     117000   142162.5  \n",
       "1996-01-01     107500     119000   144325.0  \n",
       "1996-04-01     129950     120000   154000.0  \n",
       "1996-07-01     129950     180000   160000.0  \n",
       "1996-10-01     140250     212500   163000.0  \n",
       "\n",
       "[5 rows x 4645 columns]"
      ]
     },
     "execution_count": 29,
     "metadata": {},
     "output_type": "execute_result"
    }
   ],
   "source": [
    "df_med.head()"
   ]
  },
  {
   "cell_type": "code",
   "execution_count": 30,
   "metadata": {
    "ExecuteTime": {
     "end_time": "2020-06-09T13:48:06.521126Z",
     "start_time": "2020-06-09T13:48:06.373552Z"
    }
   },
   "outputs": [
    {
     "data": {
      "image/png": "[encoded data removed]",
      "text/plain": [
       "<Figure size 432x288 with 1 Axes>"
      ]
     },
     "metadata": {
      "image/png": {
       "height": 258,
       "width": 376
      },
      "needs_background": "light"
     },
     "output_type": "display_data"
    }
   ],
   "source": [
    "plt.plot(df_med.index, df_med['E01033597'])\n",
    "plt.show();"
   ]
  },
  {
   "cell_type": "code",
   "execution_count": 825,
   "metadata": {
    "ExecuteTime": {
     "end_time": "2020-06-16T09:48:12.650065Z",
     "start_time": "2020-06-16T09:48:12.618030Z"
    }
   },
   "outputs": [
    {
     "data": {
      "text/html": [
       "<div>\n",
       "<style scoped>\n",
       "    .dataframe tbody tr th:only-of-type {\n",
       "        vertical-align: middle;\n",
       "    }\n",
       "\n",
       "    .dataframe tbody tr th {\n",
       "        vertical-align: top;\n",
       "    }\n",
       "\n",
       "    .dataframe thead th {\n",
       "        text-align: right;\n",
       "    }\n",
       "</style>\n",
       "<table border=\"1\" class=\"dataframe\">\n",
       "  <thead>\n",
       "    <tr style=\"text-align: right;\">\n",
       "      <th></th>\n",
       "      <th>E01000001</th>\n",
       "      <th>E01000002</th>\n",
       "      <th>E01000003</th>\n",
       "      <th>E01000005</th>\n",
       "      <th>E01032739</th>\n",
       "      <th>E01032740</th>\n",
       "      <th>E01000006</th>\n",
       "      <th>E01000007</th>\n",
       "      <th>E01000008</th>\n",
       "      <th>E01000009</th>\n",
       "      <th>...</th>\n",
       "      <th>E01033597</th>\n",
       "      <th>E01033598</th>\n",
       "      <th>E01033600</th>\n",
       "      <th>E01033601</th>\n",
       "      <th>E01033602</th>\n",
       "      <th>E01033603</th>\n",
       "      <th>E01033605</th>\n",
       "      <th>E01033606</th>\n",
       "      <th>E01033607</th>\n",
       "      <th>E01033608</th>\n",
       "    </tr>\n",
       "  </thead>\n",
       "  <tbody>\n",
       "    <tr>\n",
       "      <th>1995-10-01</th>\n",
       "      <td>108500.0</td>\n",
       "      <td>113500.0</td>\n",
       "      <td>74000.0</td>\n",
       "      <td>NaN</td>\n",
       "      <td>148000.0</td>\n",
       "      <td>86500.0</td>\n",
       "      <td>68500.0</td>\n",
       "      <td>NaN</td>\n",
       "      <td>NaN</td>\n",
       "      <td>53000.0</td>\n",
       "      <td>...</td>\n",
       "      <td>NaN</td>\n",
       "      <td>NaN</td>\n",
       "      <td>130000.0</td>\n",
       "      <td>80000.0</td>\n",
       "      <td>73500.0</td>\n",
       "      <td>82000.0</td>\n",
       "      <td>62300.0</td>\n",
       "      <td>125000</td>\n",
       "      <td>117000</td>\n",
       "      <td>142162.5</td>\n",
       "    </tr>\n",
       "    <tr>\n",
       "      <th>1996-01-01</th>\n",
       "      <td>119500.0</td>\n",
       "      <td>129000.0</td>\n",
       "      <td>74000.0</td>\n",
       "      <td>55000.0</td>\n",
       "      <td>178750.0</td>\n",
       "      <td>115000.0</td>\n",
       "      <td>66000.0</td>\n",
       "      <td>NaN</td>\n",
       "      <td>NaN</td>\n",
       "      <td>53000.0</td>\n",
       "      <td>...</td>\n",
       "      <td>NaN</td>\n",
       "      <td>NaN</td>\n",
       "      <td>190000.0</td>\n",
       "      <td>80000.0</td>\n",
       "      <td>67000.0</td>\n",
       "      <td>74500.0</td>\n",
       "      <td>62300.0</td>\n",
       "      <td>107500</td>\n",
       "      <td>119000</td>\n",
       "      <td>144325.0</td>\n",
       "    </tr>\n",
       "    <tr>\n",
       "      <th>1996-04-01</th>\n",
       "      <td>121250.0</td>\n",
       "      <td>114000.0</td>\n",
       "      <td>79000.0</td>\n",
       "      <td>57850.0</td>\n",
       "      <td>175000.0</td>\n",
       "      <td>115000.0</td>\n",
       "      <td>67000.0</td>\n",
       "      <td>NaN</td>\n",
       "      <td>NaN</td>\n",
       "      <td>54500.0</td>\n",
       "      <td>...</td>\n",
       "      <td>NaN</td>\n",
       "      <td>NaN</td>\n",
       "      <td>220000.0</td>\n",
       "      <td>82500.0</td>\n",
       "      <td>57000.0</td>\n",
       "      <td>70000.0</td>\n",
       "      <td>62300.0</td>\n",
       "      <td>129950</td>\n",
       "      <td>120000</td>\n",
       "      <td>154000.0</td>\n",
       "    </tr>\n",
       "    <tr>\n",
       "      <th>1996-07-01</th>\n",
       "      <td>133750.0</td>\n",
       "      <td>132000.0</td>\n",
       "      <td>79000.0</td>\n",
       "      <td>57850.0</td>\n",
       "      <td>175000.0</td>\n",
       "      <td>139000.0</td>\n",
       "      <td>67000.0</td>\n",
       "      <td>NaN</td>\n",
       "      <td>NaN</td>\n",
       "      <td>54250.0</td>\n",
       "      <td>...</td>\n",
       "      <td>NaN</td>\n",
       "      <td>NaN</td>\n",
       "      <td>220000.0</td>\n",
       "      <td>120000.0</td>\n",
       "      <td>57000.0</td>\n",
       "      <td>70000.0</td>\n",
       "      <td>60000.0</td>\n",
       "      <td>129950</td>\n",
       "      <td>180000</td>\n",
       "      <td>160000.0</td>\n",
       "    </tr>\n",
       "    <tr>\n",
       "      <th>1996-10-01</th>\n",
       "      <td>150000.0</td>\n",
       "      <td>122500.0</td>\n",
       "      <td>76000.0</td>\n",
       "      <td>56425.0</td>\n",
       "      <td>158750.0</td>\n",
       "      <td>125000.0</td>\n",
       "      <td>69500.0</td>\n",
       "      <td>NaN</td>\n",
       "      <td>NaN</td>\n",
       "      <td>50000.0</td>\n",
       "      <td>...</td>\n",
       "      <td>42500.0</td>\n",
       "      <td>NaN</td>\n",
       "      <td>220000.0</td>\n",
       "      <td>120000.0</td>\n",
       "      <td>57000.0</td>\n",
       "      <td>73875.0</td>\n",
       "      <td>66500.0</td>\n",
       "      <td>140250</td>\n",
       "      <td>212500</td>\n",
       "      <td>163000.0</td>\n",
       "    </tr>\n",
       "    <tr>\n",
       "      <th>...</th>\n",
       "      <td>...</td>\n",
       "      <td>...</td>\n",
       "      <td>...</td>\n",
       "      <td>...</td>\n",
       "      <td>...</td>\n",
       "      <td>...</td>\n",
       "      <td>...</td>\n",
       "      <td>...</td>\n",
       "      <td>...</td>\n",
       "      <td>...</td>\n",
       "      <td>...</td>\n",
       "      <td>...</td>\n",
       "      <td>...</td>\n",
       "      <td>...</td>\n",
       "      <td>...</td>\n",
       "      <td>...</td>\n",
       "      <td>...</td>\n",
       "      <td>...</td>\n",
       "      <td>...</td>\n",
       "      <td>...</td>\n",
       "      <td>...</td>\n",
       "    </tr>\n",
       "    <tr>\n",
       "      <th>2018-07-01</th>\n",
       "      <td>850000.0</td>\n",
       "      <td>807500.0</td>\n",
       "      <td>690500.0</td>\n",
       "      <td>NaN</td>\n",
       "      <td>927500.0</td>\n",
       "      <td>987000.0</td>\n",
       "      <td>385000.0</td>\n",
       "      <td>240000.0</td>\n",
       "      <td>212000.0</td>\n",
       "      <td>217500.0</td>\n",
       "      <td>...</td>\n",
       "      <td>810000.0</td>\n",
       "      <td>NaN</td>\n",
       "      <td>897500.0</td>\n",
       "      <td>NaN</td>\n",
       "      <td>NaN</td>\n",
       "      <td>585000.0</td>\n",
       "      <td>NaN</td>\n",
       "      <td>696000</td>\n",
       "      <td>670000</td>\n",
       "      <td>1040000.0</td>\n",
       "    </tr>\n",
       "    <tr>\n",
       "      <th>2018-10-01</th>\n",
       "      <td>834750.0</td>\n",
       "      <td>830000.0</td>\n",
       "      <td>651000.0</td>\n",
       "      <td>NaN</td>\n",
       "      <td>941160.0</td>\n",
       "      <td>1255500.0</td>\n",
       "      <td>365000.0</td>\n",
       "      <td>235000.0</td>\n",
       "      <td>209000.0</td>\n",
       "      <td>200000.0</td>\n",
       "      <td>...</td>\n",
       "      <td>840000.0</td>\n",
       "      <td>NaN</td>\n",
       "      <td>897500.0</td>\n",
       "      <td>NaN</td>\n",
       "      <td>NaN</td>\n",
       "      <td>505000.0</td>\n",
       "      <td>NaN</td>\n",
       "      <td>610000</td>\n",
       "      <td>712500</td>\n",
       "      <td>980000.0</td>\n",
       "    </tr>\n",
       "    <tr>\n",
       "      <th>2019-01-01</th>\n",
       "      <td>815000.0</td>\n",
       "      <td>835000.0</td>\n",
       "      <td>599500.0</td>\n",
       "      <td>NaN</td>\n",
       "      <td>964500.0</td>\n",
       "      <td>1277750.0</td>\n",
       "      <td>282000.0</td>\n",
       "      <td>226500.0</td>\n",
       "      <td>NaN</td>\n",
       "      <td>195000.0</td>\n",
       "      <td>...</td>\n",
       "      <td>800000.0</td>\n",
       "      <td>NaN</td>\n",
       "      <td>887500.0</td>\n",
       "      <td>NaN</td>\n",
       "      <td>NaN</td>\n",
       "      <td>730000.0</td>\n",
       "      <td>NaN</td>\n",
       "      <td>652500</td>\n",
       "      <td>637500</td>\n",
       "      <td>680000.0</td>\n",
       "    </tr>\n",
       "    <tr>\n",
       "      <th>2019-04-01</th>\n",
       "      <td>847500.0</td>\n",
       "      <td>857500.0</td>\n",
       "      <td>599000.0</td>\n",
       "      <td>NaN</td>\n",
       "      <td>941160.0</td>\n",
       "      <td>1339500.0</td>\n",
       "      <td>205000.0</td>\n",
       "      <td>207500.0</td>\n",
       "      <td>215000.0</td>\n",
       "      <td>195000.0</td>\n",
       "      <td>...</td>\n",
       "      <td>800000.0</td>\n",
       "      <td>NaN</td>\n",
       "      <td>1101250.0</td>\n",
       "      <td>NaN</td>\n",
       "      <td>NaN</td>\n",
       "      <td>730000.0</td>\n",
       "      <td>NaN</td>\n",
       "      <td>652500</td>\n",
       "      <td>4230000</td>\n",
       "      <td>NaN</td>\n",
       "    </tr>\n",
       "    <tr>\n",
       "      <th>2019-07-01</th>\n",
       "      <td>887500.0</td>\n",
       "      <td>880000.0</td>\n",
       "      <td>575000.0</td>\n",
       "      <td>NaN</td>\n",
       "      <td>996075.0</td>\n",
       "      <td>990000.0</td>\n",
       "      <td>292500.0</td>\n",
       "      <td>210000.0</td>\n",
       "      <td>NaN</td>\n",
       "      <td>NaN</td>\n",
       "      <td>...</td>\n",
       "      <td>820000.0</td>\n",
       "      <td>NaN</td>\n",
       "      <td>725000.0</td>\n",
       "      <td>615000.0</td>\n",
       "      <td>NaN</td>\n",
       "      <td>520918.5</td>\n",
       "      <td>NaN</td>\n",
       "      <td>652500</td>\n",
       "      <td>4450000</td>\n",
       "      <td>600000.0</td>\n",
       "    </tr>\n",
       "  </tbody>\n",
       "</table>\n",
       "<p>96 rows × 4645 columns</p>\n",
       "</div>"
      ],
      "text/plain": [
       "            E01000001  E01000002  E01000003  E01000005  E01032739  E01032740  \\\n",
       "1995-10-01   108500.0   113500.0    74000.0        NaN   148000.0    86500.0   \n",
       "1996-01-01   119500.0   129000.0    74000.0    55000.0   178750.0   115000.0   \n",
       "1996-04-01   121250.0   114000.0    79000.0    57850.0   175000.0   115000.0   \n",
       "1996-07-01   133750.0   132000.0    79000.0    57850.0   175000.0   139000.0   \n",
       "1996-10-01   150000.0   122500.0    76000.0    56425.0   158750.0   125000.0   \n",
       "...               ...        ...        ...        ...        ...        ...   \n",
       "2018-07-01   850000.0   807500.0   690500.0        NaN   927500.0   987000.0   \n",
       "2018-10-01   834750.0   830000.0   651000.0        NaN   941160.0  1255500.0   \n",
       "2019-01-01   815000.0   835000.0   599500.0        NaN   964500.0  1277750.0   \n",
       "2019-04-01   847500.0   857500.0   599000.0        NaN   941160.0  1339500.0   \n",
       "2019-07-01   887500.0   880000.0   575000.0        NaN   996075.0   990000.0   \n",
       "\n",
       "            E01000006  E01000007  E01000008  E01000009  ...  E01033597  \\\n",
       "1995-10-01    68500.0        NaN        NaN    53000.0  ...        NaN   \n",
       "1996-01-01    66000.0        NaN        NaN    53000.0  ...        NaN   \n",
       "1996-04-01    67000.0        NaN        NaN    54500.0  ...        NaN   \n",
       "1996-07-01    67000.0        NaN        NaN    54250.0  ...        NaN   \n",
       "1996-10-01    69500.0        NaN        NaN    50000.0  ...    42500.0   \n",
       "...               ...        ...        ...        ...  ...        ...   \n",
       "2018-07-01   385000.0   240000.0   212000.0   217500.0  ...   810000.0   \n",
       "2018-10-01   365000.0   235000.0   209000.0   200000.0  ...   840000.0   \n",
       "2019-01-01   282000.0   226500.0        NaN   195000.0  ...   800000.0   \n",
       "2019-04-01   205000.0   207500.0   215000.0   195000.0  ...   800000.0   \n",
       "2019-07-01   292500.0   210000.0        NaN        NaN  ...   820000.0   \n",
       "\n",
       "            E01033598  E01033600  E01033601  E01033602  E01033603  E01033605  \\\n",
       "1995-10-01        NaN   130000.0    80000.0    73500.0    82000.0    62300.0   \n",
       "1996-01-01        NaN   190000.0    80000.0    67000.0    74500.0    62300.0   \n",
       "1996-04-01        NaN   220000.0    82500.0    57000.0    70000.0    62300.0   \n",
       "1996-07-01        NaN   220000.0   120000.0    57000.0    70000.0    60000.0   \n",
       "1996-10-01        NaN   220000.0   120000.0    57000.0    73875.0    66500.0   \n",
       "...               ...        ...        ...        ...        ...        ...   \n",
       "2018-07-01        NaN   897500.0        NaN        NaN   585000.0        NaN   \n",
       "2018-10-01        NaN   897500.0        NaN        NaN   505000.0        NaN   \n",
       "2019-01-01        NaN   887500.0        NaN        NaN   730000.0        NaN   \n",
       "2019-04-01        NaN  1101250.0        NaN        NaN   730000.0        NaN   \n",
       "2019-07-01        NaN   725000.0   615000.0        NaN   520918.5        NaN   \n",
       "\n",
       "            E01033606  E01033607  E01033608  \n",
       "1995-10-01     125000     117000   142162.5  \n",
       "1996-01-01     107500     119000   144325.0  \n",
       "1996-04-01     129950     120000   154000.0  \n",
       "1996-07-01     129950     180000   160000.0  \n",
       "1996-10-01     140250     212500   163000.0  \n",
       "...               ...        ...        ...  \n",
       "2018-07-01     696000     670000  1040000.0  \n",
       "2018-10-01     610000     712500   980000.0  \n",
       "2019-01-01     652500     637500   680000.0  \n",
       "2019-04-01     652500    4230000        NaN  \n",
       "2019-07-01     652500    4450000   600000.0  \n",
       "\n",
       "[96 rows x 4645 columns]"
      ]
     },
     "execution_count": 825,
     "metadata": {},
     "output_type": "execute_result"
    }
   ],
   "source": [
    "df_med"
   ]
  },
  {
   "cell_type": "code",
   "execution_count": null,
   "metadata": {},
   "outputs": [],
   "source": []
  },
  {
   "cell_type": "code",
   "execution_count": null,
   "metadata": {},
   "outputs": [],
   "source": []
  },
  {
   "cell_type": "code",
   "execution_count": null,
   "metadata": {},
   "outputs": [],
   "source": []
  },
  {
   "cell_type": "code",
   "execution_count": null,
   "metadata": {},
   "outputs": [],
   "source": []
  },
  {
   "cell_type": "code",
   "execution_count": null,
   "metadata": {},
   "outputs": [],
   "source": []
  },
  {
   "cell_type": "code",
   "execution_count": null,
   "metadata": {},
   "outputs": [],
   "source": []
  },
  {
   "cell_type": "code",
   "execution_count": 1513,
   "metadata": {
    "ExecuteTime": {
     "end_time": "2020-06-19T14:39:18.237551Z",
     "start_time": "2020-06-19T14:39:17.988837Z"
    }
   },
   "outputs": [
    {
     "data": {
      "text/html": [
       "<div>\n",
       "<style scoped>\n",
       "    .dataframe tbody tr th:only-of-type {\n",
       "        vertical-align: middle;\n",
       "    }\n",
       "\n",
       "    .dataframe tbody tr th {\n",
       "        vertical-align: top;\n",
       "    }\n",
       "\n",
       "    .dataframe thead th {\n",
       "        text-align: right;\n",
       "    }\n",
       "</style>\n",
       "<table border=\"1\" class=\"dataframe\">\n",
       "  <thead>\n",
       "    <tr style=\"text-align: right;\">\n",
       "      <th></th>\n",
       "      <th>E01000001</th>\n",
       "      <th>E01000002</th>\n",
       "      <th>E01000003</th>\n",
       "      <th>E01000005</th>\n",
       "      <th>E01032739</th>\n",
       "      <th>E01032740</th>\n",
       "      <th>E01000006</th>\n",
       "      <th>E01000007</th>\n",
       "      <th>E01000008</th>\n",
       "      <th>E01000009</th>\n",
       "      <th>...</th>\n",
       "      <th>E01033597</th>\n",
       "      <th>E01033598</th>\n",
       "      <th>E01033600</th>\n",
       "      <th>E01033601</th>\n",
       "      <th>E01033602</th>\n",
       "      <th>E01033603</th>\n",
       "      <th>E01033605</th>\n",
       "      <th>E01033606</th>\n",
       "      <th>E01033607</th>\n",
       "      <th>E01033608</th>\n",
       "    </tr>\n",
       "  </thead>\n",
       "  <tbody>\n",
       "    <tr>\n",
       "      <th>1995-10-01</th>\n",
       "      <td>108500.0</td>\n",
       "      <td>113500.0</td>\n",
       "      <td>74000.0</td>\n",
       "      <td>NaN</td>\n",
       "      <td>148000.0</td>\n",
       "      <td>86500.0</td>\n",
       "      <td>68500.0</td>\n",
       "      <td>NaN</td>\n",
       "      <td>NaN</td>\n",
       "      <td>53000.0</td>\n",
       "      <td>...</td>\n",
       "      <td>NaN</td>\n",
       "      <td>NaN</td>\n",
       "      <td>130000.0</td>\n",
       "      <td>80000.000000</td>\n",
       "      <td>73500.0</td>\n",
       "      <td>82000.0</td>\n",
       "      <td>62300.0</td>\n",
       "      <td>125000</td>\n",
       "      <td>117000</td>\n",
       "      <td>1.421625e+05</td>\n",
       "    </tr>\n",
       "    <tr>\n",
       "      <th>1996-01-01</th>\n",
       "      <td>119500.0</td>\n",
       "      <td>129000.0</td>\n",
       "      <td>74000.0</td>\n",
       "      <td>55000.0</td>\n",
       "      <td>178750.0</td>\n",
       "      <td>115000.0</td>\n",
       "      <td>66000.0</td>\n",
       "      <td>NaN</td>\n",
       "      <td>NaN</td>\n",
       "      <td>53000.0</td>\n",
       "      <td>...</td>\n",
       "      <td>NaN</td>\n",
       "      <td>NaN</td>\n",
       "      <td>190000.0</td>\n",
       "      <td>80000.000000</td>\n",
       "      <td>67000.0</td>\n",
       "      <td>74500.0</td>\n",
       "      <td>62300.0</td>\n",
       "      <td>107500</td>\n",
       "      <td>119000</td>\n",
       "      <td>1.443250e+05</td>\n",
       "    </tr>\n",
       "    <tr>\n",
       "      <th>1996-04-01</th>\n",
       "      <td>121250.0</td>\n",
       "      <td>114000.0</td>\n",
       "      <td>79000.0</td>\n",
       "      <td>57850.0</td>\n",
       "      <td>175000.0</td>\n",
       "      <td>115000.0</td>\n",
       "      <td>67000.0</td>\n",
       "      <td>NaN</td>\n",
       "      <td>NaN</td>\n",
       "      <td>54500.0</td>\n",
       "      <td>...</td>\n",
       "      <td>NaN</td>\n",
       "      <td>NaN</td>\n",
       "      <td>220000.0</td>\n",
       "      <td>82500.000000</td>\n",
       "      <td>57000.0</td>\n",
       "      <td>70000.0</td>\n",
       "      <td>62300.0</td>\n",
       "      <td>129950</td>\n",
       "      <td>120000</td>\n",
       "      <td>1.540000e+05</td>\n",
       "    </tr>\n",
       "    <tr>\n",
       "      <th>1996-07-01</th>\n",
       "      <td>133750.0</td>\n",
       "      <td>132000.0</td>\n",
       "      <td>79000.0</td>\n",
       "      <td>57850.0</td>\n",
       "      <td>175000.0</td>\n",
       "      <td>139000.0</td>\n",
       "      <td>67000.0</td>\n",
       "      <td>NaN</td>\n",
       "      <td>NaN</td>\n",
       "      <td>54250.0</td>\n",
       "      <td>...</td>\n",
       "      <td>NaN</td>\n",
       "      <td>NaN</td>\n",
       "      <td>220000.0</td>\n",
       "      <td>120000.000000</td>\n",
       "      <td>57000.0</td>\n",
       "      <td>70000.0</td>\n",
       "      <td>60000.0</td>\n",
       "      <td>129950</td>\n",
       "      <td>180000</td>\n",
       "      <td>1.600000e+05</td>\n",
       "    </tr>\n",
       "    <tr>\n",
       "      <th>1996-10-01</th>\n",
       "      <td>150000.0</td>\n",
       "      <td>122500.0</td>\n",
       "      <td>76000.0</td>\n",
       "      <td>56425.0</td>\n",
       "      <td>158750.0</td>\n",
       "      <td>125000.0</td>\n",
       "      <td>69500.0</td>\n",
       "      <td>NaN</td>\n",
       "      <td>NaN</td>\n",
       "      <td>50000.0</td>\n",
       "      <td>...</td>\n",
       "      <td>42500.0</td>\n",
       "      <td>NaN</td>\n",
       "      <td>220000.0</td>\n",
       "      <td>120000.000000</td>\n",
       "      <td>57000.0</td>\n",
       "      <td>73875.0</td>\n",
       "      <td>66500.0</td>\n",
       "      <td>140250</td>\n",
       "      <td>212500</td>\n",
       "      <td>1.630000e+05</td>\n",
       "    </tr>\n",
       "    <tr>\n",
       "      <th>...</th>\n",
       "      <td>...</td>\n",
       "      <td>...</td>\n",
       "      <td>...</td>\n",
       "      <td>...</td>\n",
       "      <td>...</td>\n",
       "      <td>...</td>\n",
       "      <td>...</td>\n",
       "      <td>...</td>\n",
       "      <td>...</td>\n",
       "      <td>...</td>\n",
       "      <td>...</td>\n",
       "      <td>...</td>\n",
       "      <td>...</td>\n",
       "      <td>...</td>\n",
       "      <td>...</td>\n",
       "      <td>...</td>\n",
       "      <td>...</td>\n",
       "      <td>...</td>\n",
       "      <td>...</td>\n",
       "      <td>...</td>\n",
       "      <td>...</td>\n",
       "    </tr>\n",
       "    <tr>\n",
       "      <th>2018-07-01</th>\n",
       "      <td>850000.0</td>\n",
       "      <td>807500.0</td>\n",
       "      <td>690500.0</td>\n",
       "      <td>NaN</td>\n",
       "      <td>927500.0</td>\n",
       "      <td>987000.0</td>\n",
       "      <td>385000.0</td>\n",
       "      <td>240000.0</td>\n",
       "      <td>212000.000000</td>\n",
       "      <td>217500.0</td>\n",
       "      <td>...</td>\n",
       "      <td>810000.0</td>\n",
       "      <td>NaN</td>\n",
       "      <td>897500.0</td>\n",
       "      <td>662308.075773</td>\n",
       "      <td>NaN</td>\n",
       "      <td>585000.0</td>\n",
       "      <td>NaN</td>\n",
       "      <td>696000</td>\n",
       "      <td>670000</td>\n",
       "      <td>1.040000e+06</td>\n",
       "    </tr>\n",
       "    <tr>\n",
       "      <th>2018-10-01</th>\n",
       "      <td>834750.0</td>\n",
       "      <td>830000.0</td>\n",
       "      <td>651000.0</td>\n",
       "      <td>NaN</td>\n",
       "      <td>941160.0</td>\n",
       "      <td>1255500.0</td>\n",
       "      <td>365000.0</td>\n",
       "      <td>235000.0</td>\n",
       "      <td>209000.000000</td>\n",
       "      <td>200000.0</td>\n",
       "      <td>...</td>\n",
       "      <td>840000.0</td>\n",
       "      <td>NaN</td>\n",
       "      <td>897500.0</td>\n",
       "      <td>650383.848455</td>\n",
       "      <td>NaN</td>\n",
       "      <td>505000.0</td>\n",
       "      <td>NaN</td>\n",
       "      <td>610000</td>\n",
       "      <td>712500</td>\n",
       "      <td>9.800000e+05</td>\n",
       "    </tr>\n",
       "    <tr>\n",
       "      <th>2019-01-01</th>\n",
       "      <td>815000.0</td>\n",
       "      <td>835000.0</td>\n",
       "      <td>599500.0</td>\n",
       "      <td>NaN</td>\n",
       "      <td>964500.0</td>\n",
       "      <td>1277750.0</td>\n",
       "      <td>282000.0</td>\n",
       "      <td>226500.0</td>\n",
       "      <td>212032.967033</td>\n",
       "      <td>195000.0</td>\n",
       "      <td>...</td>\n",
       "      <td>800000.0</td>\n",
       "      <td>NaN</td>\n",
       "      <td>887500.0</td>\n",
       "      <td>638459.621137</td>\n",
       "      <td>NaN</td>\n",
       "      <td>730000.0</td>\n",
       "      <td>NaN</td>\n",
       "      <td>652500</td>\n",
       "      <td>637500</td>\n",
       "      <td>6.800000e+05</td>\n",
       "    </tr>\n",
       "    <tr>\n",
       "      <th>2019-04-01</th>\n",
       "      <td>847500.0</td>\n",
       "      <td>857500.0</td>\n",
       "      <td>599000.0</td>\n",
       "      <td>NaN</td>\n",
       "      <td>941160.0</td>\n",
       "      <td>1339500.0</td>\n",
       "      <td>205000.0</td>\n",
       "      <td>207500.0</td>\n",
       "      <td>215000.000000</td>\n",
       "      <td>195000.0</td>\n",
       "      <td>...</td>\n",
       "      <td>800000.0</td>\n",
       "      <td>NaN</td>\n",
       "      <td>1101250.0</td>\n",
       "      <td>626794.616152</td>\n",
       "      <td>NaN</td>\n",
       "      <td>730000.0</td>\n",
       "      <td>NaN</td>\n",
       "      <td>652500</td>\n",
       "      <td>4230000</td>\n",
       "      <td>6.402210e+05</td>\n",
       "    </tr>\n",
       "    <tr>\n",
       "      <th>2019-07-01</th>\n",
       "      <td>887500.0</td>\n",
       "      <td>880000.0</td>\n",
       "      <td>575000.0</td>\n",
       "      <td>NaN</td>\n",
       "      <td>996075.0</td>\n",
       "      <td>990000.0</td>\n",
       "      <td>292500.0</td>\n",
       "      <td>210000.0</td>\n",
       "      <td>NaN</td>\n",
       "      <td>NaN</td>\n",
       "      <td>...</td>\n",
       "      <td>820000.0</td>\n",
       "      <td>NaN</td>\n",
       "      <td>725000.0</td>\n",
       "      <td>615000.000000</td>\n",
       "      <td>NaN</td>\n",
       "      <td>520918.5</td>\n",
       "      <td>NaN</td>\n",
       "      <td>652500</td>\n",
       "      <td>4450000</td>\n",
       "      <td>6.000000e+05</td>\n",
       "    </tr>\n",
       "  </tbody>\n",
       "</table>\n",
       "<p>96 rows × 4645 columns</p>\n",
       "</div>"
      ],
      "text/plain": [
       "            E01000001  E01000002  E01000003  E01000005  E01032739  E01032740  \\\n",
       "1995-10-01   108500.0   113500.0    74000.0        NaN   148000.0    86500.0   \n",
       "1996-01-01   119500.0   129000.0    74000.0    55000.0   178750.0   115000.0   \n",
       "1996-04-01   121250.0   114000.0    79000.0    57850.0   175000.0   115000.0   \n",
       "1996-07-01   133750.0   132000.0    79000.0    57850.0   175000.0   139000.0   \n",
       "1996-10-01   150000.0   122500.0    76000.0    56425.0   158750.0   125000.0   \n",
       "...               ...        ...        ...        ...        ...        ...   \n",
       "2018-07-01   850000.0   807500.0   690500.0        NaN   927500.0   987000.0   \n",
       "2018-10-01   834750.0   830000.0   651000.0        NaN   941160.0  1255500.0   \n",
       "2019-01-01   815000.0   835000.0   599500.0        NaN   964500.0  1277750.0   \n",
       "2019-04-01   847500.0   857500.0   599000.0        NaN   941160.0  1339500.0   \n",
       "2019-07-01   887500.0   880000.0   575000.0        NaN   996075.0   990000.0   \n",
       "\n",
       "            E01000006  E01000007      E01000008  E01000009  ...  E01033597  \\\n",
       "1995-10-01    68500.0        NaN            NaN    53000.0  ...        NaN   \n",
       "1996-01-01    66000.0        NaN            NaN    53000.0  ...        NaN   \n",
       "1996-04-01    67000.0        NaN            NaN    54500.0  ...        NaN   \n",
       "1996-07-01    67000.0        NaN            NaN    54250.0  ...        NaN   \n",
       "1996-10-01    69500.0        NaN            NaN    50000.0  ...    42500.0   \n",
       "...               ...        ...            ...        ...  ...        ...   \n",
       "2018-07-01   385000.0   240000.0  212000.000000   217500.0  ...   810000.0   \n",
       "2018-10-01   365000.0   235000.0  209000.000000   200000.0  ...   840000.0   \n",
       "2019-01-01   282000.0   226500.0  212032.967033   195000.0  ...   800000.0   \n",
       "2019-04-01   205000.0   207500.0  215000.000000   195000.0  ...   800000.0   \n",
       "2019-07-01   292500.0   210000.0            NaN        NaN  ...   820000.0   \n",
       "\n",
       "            E01033598  E01033600      E01033601  E01033602  E01033603  \\\n",
       "1995-10-01        NaN   130000.0   80000.000000    73500.0    82000.0   \n",
       "1996-01-01        NaN   190000.0   80000.000000    67000.0    74500.0   \n",
       "1996-04-01        NaN   220000.0   82500.000000    57000.0    70000.0   \n",
       "1996-07-01        NaN   220000.0  120000.000000    57000.0    70000.0   \n",
       "1996-10-01        NaN   220000.0  120000.000000    57000.0    73875.0   \n",
       "...               ...        ...            ...        ...        ...   \n",
       "2018-07-01        NaN   897500.0  662308.075773        NaN   585000.0   \n",
       "2018-10-01        NaN   897500.0  650383.848455        NaN   505000.0   \n",
       "2019-01-01        NaN   887500.0  638459.621137        NaN   730000.0   \n",
       "2019-04-01        NaN  1101250.0  626794.616152        NaN   730000.0   \n",
       "2019-07-01        NaN   725000.0  615000.000000        NaN   520918.5   \n",
       "\n",
       "            E01033605  E01033606  E01033607     E01033608  \n",
       "1995-10-01    62300.0     125000     117000  1.421625e+05  \n",
       "1996-01-01    62300.0     107500     119000  1.443250e+05  \n",
       "1996-04-01    62300.0     129950     120000  1.540000e+05  \n",
       "1996-07-01    60000.0     129950     180000  1.600000e+05  \n",
       "1996-10-01    66500.0     140250     212500  1.630000e+05  \n",
       "...               ...        ...        ...           ...  \n",
       "2018-07-01        NaN     696000     670000  1.040000e+06  \n",
       "2018-10-01        NaN     610000     712500  9.800000e+05  \n",
       "2019-01-01        NaN     652500     637500  6.800000e+05  \n",
       "2019-04-01        NaN     652500    4230000  6.402210e+05  \n",
       "2019-07-01        NaN     652500    4450000  6.000000e+05  \n",
       "\n",
       "[96 rows x 4645 columns]"
      ]
     },
     "execution_count": 1513,
     "metadata": {},
     "output_type": "execute_result"
    }
   ],
   "source": [
    "df_med_int = df_med.interpolate(method='time', limit_area='inside')\n",
    "df_med_int\n"
   ]
  },
  {
   "cell_type": "code",
   "execution_count": 1514,
   "metadata": {
    "ExecuteTime": {
     "end_time": "2020-06-19T14:39:18.445606Z",
     "start_time": "2020-06-19T14:39:18.239411Z"
    }
   },
   "outputs": [
    {
     "data": {
      "text/html": [
       "<div>\n",
       "<style scoped>\n",
       "    .dataframe tbody tr th:only-of-type {\n",
       "        vertical-align: middle;\n",
       "    }\n",
       "\n",
       "    .dataframe tbody tr th {\n",
       "        vertical-align: top;\n",
       "    }\n",
       "\n",
       "    .dataframe thead th {\n",
       "        text-align: right;\n",
       "    }\n",
       "</style>\n",
       "<table border=\"1\" class=\"dataframe\">\n",
       "  <thead>\n",
       "    <tr style=\"text-align: right;\">\n",
       "      <th></th>\n",
       "      <th>E01000001</th>\n",
       "      <th>E01000002</th>\n",
       "      <th>E01000003</th>\n",
       "      <th>E01000005</th>\n",
       "      <th>E01032739</th>\n",
       "      <th>E01032740</th>\n",
       "      <th>E01000006</th>\n",
       "      <th>E01000007</th>\n",
       "      <th>E01000008</th>\n",
       "      <th>E01000009</th>\n",
       "      <th>...</th>\n",
       "      <th>E01033597</th>\n",
       "      <th>E01033598</th>\n",
       "      <th>E01033600</th>\n",
       "      <th>E01033601</th>\n",
       "      <th>E01033602</th>\n",
       "      <th>E01033603</th>\n",
       "      <th>E01033605</th>\n",
       "      <th>E01033606</th>\n",
       "      <th>E01033607</th>\n",
       "      <th>E01033608</th>\n",
       "    </tr>\n",
       "  </thead>\n",
       "  <tbody>\n",
       "    <tr>\n",
       "      <th>1995-10-01</th>\n",
       "      <td>108500.0</td>\n",
       "      <td>113500.0</td>\n",
       "      <td>74000.0</td>\n",
       "      <td>55000.0</td>\n",
       "      <td>148000.0</td>\n",
       "      <td>86500.0</td>\n",
       "      <td>68500.0</td>\n",
       "      <td>NaN</td>\n",
       "      <td>NaN</td>\n",
       "      <td>53000.0</td>\n",
       "      <td>...</td>\n",
       "      <td>NaN</td>\n",
       "      <td>NaN</td>\n",
       "      <td>130000.0</td>\n",
       "      <td>80000.000000</td>\n",
       "      <td>73500.0</td>\n",
       "      <td>82000.0</td>\n",
       "      <td>62300.0</td>\n",
       "      <td>125000</td>\n",
       "      <td>117000</td>\n",
       "      <td>1.421625e+05</td>\n",
       "    </tr>\n",
       "    <tr>\n",
       "      <th>1996-01-01</th>\n",
       "      <td>119500.0</td>\n",
       "      <td>129000.0</td>\n",
       "      <td>74000.0</td>\n",
       "      <td>55000.0</td>\n",
       "      <td>178750.0</td>\n",
       "      <td>115000.0</td>\n",
       "      <td>66000.0</td>\n",
       "      <td>NaN</td>\n",
       "      <td>NaN</td>\n",
       "      <td>53000.0</td>\n",
       "      <td>...</td>\n",
       "      <td>NaN</td>\n",
       "      <td>NaN</td>\n",
       "      <td>190000.0</td>\n",
       "      <td>80000.000000</td>\n",
       "      <td>67000.0</td>\n",
       "      <td>74500.0</td>\n",
       "      <td>62300.0</td>\n",
       "      <td>107500</td>\n",
       "      <td>119000</td>\n",
       "      <td>1.443250e+05</td>\n",
       "    </tr>\n",
       "    <tr>\n",
       "      <th>1996-04-01</th>\n",
       "      <td>121250.0</td>\n",
       "      <td>114000.0</td>\n",
       "      <td>79000.0</td>\n",
       "      <td>57850.0</td>\n",
       "      <td>175000.0</td>\n",
       "      <td>115000.0</td>\n",
       "      <td>67000.0</td>\n",
       "      <td>NaN</td>\n",
       "      <td>NaN</td>\n",
       "      <td>54500.0</td>\n",
       "      <td>...</td>\n",
       "      <td>NaN</td>\n",
       "      <td>NaN</td>\n",
       "      <td>220000.0</td>\n",
       "      <td>82500.000000</td>\n",
       "      <td>57000.0</td>\n",
       "      <td>70000.0</td>\n",
       "      <td>62300.0</td>\n",
       "      <td>129950</td>\n",
       "      <td>120000</td>\n",
       "      <td>1.540000e+05</td>\n",
       "    </tr>\n",
       "    <tr>\n",
       "      <th>1996-07-01</th>\n",
       "      <td>133750.0</td>\n",
       "      <td>132000.0</td>\n",
       "      <td>79000.0</td>\n",
       "      <td>57850.0</td>\n",
       "      <td>175000.0</td>\n",
       "      <td>139000.0</td>\n",
       "      <td>67000.0</td>\n",
       "      <td>NaN</td>\n",
       "      <td>NaN</td>\n",
       "      <td>54250.0</td>\n",
       "      <td>...</td>\n",
       "      <td>42500.0</td>\n",
       "      <td>NaN</td>\n",
       "      <td>220000.0</td>\n",
       "      <td>120000.000000</td>\n",
       "      <td>57000.0</td>\n",
       "      <td>70000.0</td>\n",
       "      <td>60000.0</td>\n",
       "      <td>129950</td>\n",
       "      <td>180000</td>\n",
       "      <td>1.600000e+05</td>\n",
       "    </tr>\n",
       "    <tr>\n",
       "      <th>1996-10-01</th>\n",
       "      <td>150000.0</td>\n",
       "      <td>122500.0</td>\n",
       "      <td>76000.0</td>\n",
       "      <td>56425.0</td>\n",
       "      <td>158750.0</td>\n",
       "      <td>125000.0</td>\n",
       "      <td>69500.0</td>\n",
       "      <td>NaN</td>\n",
       "      <td>NaN</td>\n",
       "      <td>50000.0</td>\n",
       "      <td>...</td>\n",
       "      <td>42500.0</td>\n",
       "      <td>300000.0</td>\n",
       "      <td>220000.0</td>\n",
       "      <td>120000.000000</td>\n",
       "      <td>57000.0</td>\n",
       "      <td>73875.0</td>\n",
       "      <td>66500.0</td>\n",
       "      <td>140250</td>\n",
       "      <td>212500</td>\n",
       "      <td>1.630000e+05</td>\n",
       "    </tr>\n",
       "    <tr>\n",
       "      <th>...</th>\n",
       "      <td>...</td>\n",
       "      <td>...</td>\n",
       "      <td>...</td>\n",
       "      <td>...</td>\n",
       "      <td>...</td>\n",
       "      <td>...</td>\n",
       "      <td>...</td>\n",
       "      <td>...</td>\n",
       "      <td>...</td>\n",
       "      <td>...</td>\n",
       "      <td>...</td>\n",
       "      <td>...</td>\n",
       "      <td>...</td>\n",
       "      <td>...</td>\n",
       "      <td>...</td>\n",
       "      <td>...</td>\n",
       "      <td>...</td>\n",
       "      <td>...</td>\n",
       "      <td>...</td>\n",
       "      <td>...</td>\n",
       "      <td>...</td>\n",
       "    </tr>\n",
       "    <tr>\n",
       "      <th>2018-07-01</th>\n",
       "      <td>850000.0</td>\n",
       "      <td>807500.0</td>\n",
       "      <td>690500.0</td>\n",
       "      <td>NaN</td>\n",
       "      <td>927500.0</td>\n",
       "      <td>987000.0</td>\n",
       "      <td>385000.0</td>\n",
       "      <td>240000.0</td>\n",
       "      <td>212000.000000</td>\n",
       "      <td>217500.0</td>\n",
       "      <td>...</td>\n",
       "      <td>810000.0</td>\n",
       "      <td>NaN</td>\n",
       "      <td>897500.0</td>\n",
       "      <td>662308.075773</td>\n",
       "      <td>NaN</td>\n",
       "      <td>585000.0</td>\n",
       "      <td>NaN</td>\n",
       "      <td>696000</td>\n",
       "      <td>670000</td>\n",
       "      <td>1.040000e+06</td>\n",
       "    </tr>\n",
       "    <tr>\n",
       "      <th>2018-10-01</th>\n",
       "      <td>834750.0</td>\n",
       "      <td>830000.0</td>\n",
       "      <td>651000.0</td>\n",
       "      <td>NaN</td>\n",
       "      <td>941160.0</td>\n",
       "      <td>1255500.0</td>\n",
       "      <td>365000.0</td>\n",
       "      <td>235000.0</td>\n",
       "      <td>209000.000000</td>\n",
       "      <td>200000.0</td>\n",
       "      <td>...</td>\n",
       "      <td>840000.0</td>\n",
       "      <td>NaN</td>\n",
       "      <td>897500.0</td>\n",
       "      <td>650383.848455</td>\n",
       "      <td>NaN</td>\n",
       "      <td>505000.0</td>\n",
       "      <td>NaN</td>\n",
       "      <td>610000</td>\n",
       "      <td>712500</td>\n",
       "      <td>9.800000e+05</td>\n",
       "    </tr>\n",
       "    <tr>\n",
       "      <th>2019-01-01</th>\n",
       "      <td>815000.0</td>\n",
       "      <td>835000.0</td>\n",
       "      <td>599500.0</td>\n",
       "      <td>NaN</td>\n",
       "      <td>964500.0</td>\n",
       "      <td>1277750.0</td>\n",
       "      <td>282000.0</td>\n",
       "      <td>226500.0</td>\n",
       "      <td>212032.967033</td>\n",
       "      <td>195000.0</td>\n",
       "      <td>...</td>\n",
       "      <td>800000.0</td>\n",
       "      <td>NaN</td>\n",
       "      <td>887500.0</td>\n",
       "      <td>638459.621137</td>\n",
       "      <td>NaN</td>\n",
       "      <td>730000.0</td>\n",
       "      <td>NaN</td>\n",
       "      <td>652500</td>\n",
       "      <td>637500</td>\n",
       "      <td>6.800000e+05</td>\n",
       "    </tr>\n",
       "    <tr>\n",
       "      <th>2019-04-01</th>\n",
       "      <td>847500.0</td>\n",
       "      <td>857500.0</td>\n",
       "      <td>599000.0</td>\n",
       "      <td>NaN</td>\n",
       "      <td>941160.0</td>\n",
       "      <td>1339500.0</td>\n",
       "      <td>205000.0</td>\n",
       "      <td>207500.0</td>\n",
       "      <td>215000.000000</td>\n",
       "      <td>195000.0</td>\n",
       "      <td>...</td>\n",
       "      <td>800000.0</td>\n",
       "      <td>NaN</td>\n",
       "      <td>1101250.0</td>\n",
       "      <td>626794.616152</td>\n",
       "      <td>NaN</td>\n",
       "      <td>730000.0</td>\n",
       "      <td>NaN</td>\n",
       "      <td>652500</td>\n",
       "      <td>4230000</td>\n",
       "      <td>6.402210e+05</td>\n",
       "    </tr>\n",
       "    <tr>\n",
       "      <th>2019-07-01</th>\n",
       "      <td>887500.0</td>\n",
       "      <td>880000.0</td>\n",
       "      <td>575000.0</td>\n",
       "      <td>NaN</td>\n",
       "      <td>996075.0</td>\n",
       "      <td>990000.0</td>\n",
       "      <td>292500.0</td>\n",
       "      <td>210000.0</td>\n",
       "      <td>NaN</td>\n",
       "      <td>NaN</td>\n",
       "      <td>...</td>\n",
       "      <td>820000.0</td>\n",
       "      <td>NaN</td>\n",
       "      <td>725000.0</td>\n",
       "      <td>615000.000000</td>\n",
       "      <td>NaN</td>\n",
       "      <td>520918.5</td>\n",
       "      <td>NaN</td>\n",
       "      <td>652500</td>\n",
       "      <td>4450000</td>\n",
       "      <td>6.000000e+05</td>\n",
       "    </tr>\n",
       "  </tbody>\n",
       "</table>\n",
       "<p>96 rows × 4645 columns</p>\n",
       "</div>"
      ],
      "text/plain": [
       "            E01000001  E01000002  E01000003  E01000005  E01032739  E01032740  \\\n",
       "1995-10-01   108500.0   113500.0    74000.0    55000.0   148000.0    86500.0   \n",
       "1996-01-01   119500.0   129000.0    74000.0    55000.0   178750.0   115000.0   \n",
       "1996-04-01   121250.0   114000.0    79000.0    57850.0   175000.0   115000.0   \n",
       "1996-07-01   133750.0   132000.0    79000.0    57850.0   175000.0   139000.0   \n",
       "1996-10-01   150000.0   122500.0    76000.0    56425.0   158750.0   125000.0   \n",
       "...               ...        ...        ...        ...        ...        ...   \n",
       "2018-07-01   850000.0   807500.0   690500.0        NaN   927500.0   987000.0   \n",
       "2018-10-01   834750.0   830000.0   651000.0        NaN   941160.0  1255500.0   \n",
       "2019-01-01   815000.0   835000.0   599500.0        NaN   964500.0  1277750.0   \n",
       "2019-04-01   847500.0   857500.0   599000.0        NaN   941160.0  1339500.0   \n",
       "2019-07-01   887500.0   880000.0   575000.0        NaN   996075.0   990000.0   \n",
       "\n",
       "            E01000006  E01000007      E01000008  E01000009  ...  E01033597  \\\n",
       "1995-10-01    68500.0        NaN            NaN    53000.0  ...        NaN   \n",
       "1996-01-01    66000.0        NaN            NaN    53000.0  ...        NaN   \n",
       "1996-04-01    67000.0        NaN            NaN    54500.0  ...        NaN   \n",
       "1996-07-01    67000.0        NaN            NaN    54250.0  ...    42500.0   \n",
       "1996-10-01    69500.0        NaN            NaN    50000.0  ...    42500.0   \n",
       "...               ...        ...            ...        ...  ...        ...   \n",
       "2018-07-01   385000.0   240000.0  212000.000000   217500.0  ...   810000.0   \n",
       "2018-10-01   365000.0   235000.0  209000.000000   200000.0  ...   840000.0   \n",
       "2019-01-01   282000.0   226500.0  212032.967033   195000.0  ...   800000.0   \n",
       "2019-04-01   205000.0   207500.0  215000.000000   195000.0  ...   800000.0   \n",
       "2019-07-01   292500.0   210000.0            NaN        NaN  ...   820000.0   \n",
       "\n",
       "            E01033598  E01033600      E01033601  E01033602  E01033603  \\\n",
       "1995-10-01        NaN   130000.0   80000.000000    73500.0    82000.0   \n",
       "1996-01-01        NaN   190000.0   80000.000000    67000.0    74500.0   \n",
       "1996-04-01        NaN   220000.0   82500.000000    57000.0    70000.0   \n",
       "1996-07-01        NaN   220000.0  120000.000000    57000.0    70000.0   \n",
       "1996-10-01   300000.0   220000.0  120000.000000    57000.0    73875.0   \n",
       "...               ...        ...            ...        ...        ...   \n",
       "2018-07-01        NaN   897500.0  662308.075773        NaN   585000.0   \n",
       "2018-10-01        NaN   897500.0  650383.848455        NaN   505000.0   \n",
       "2019-01-01        NaN   887500.0  638459.621137        NaN   730000.0   \n",
       "2019-04-01        NaN  1101250.0  626794.616152        NaN   730000.0   \n",
       "2019-07-01        NaN   725000.0  615000.000000        NaN   520918.5   \n",
       "\n",
       "            E01033605  E01033606  E01033607     E01033608  \n",
       "1995-10-01    62300.0     125000     117000  1.421625e+05  \n",
       "1996-01-01    62300.0     107500     119000  1.443250e+05  \n",
       "1996-04-01    62300.0     129950     120000  1.540000e+05  \n",
       "1996-07-01    60000.0     129950     180000  1.600000e+05  \n",
       "1996-10-01    66500.0     140250     212500  1.630000e+05  \n",
       "...               ...        ...        ...           ...  \n",
       "2018-07-01        NaN     696000     670000  1.040000e+06  \n",
       "2018-10-01        NaN     610000     712500  9.800000e+05  \n",
       "2019-01-01        NaN     652500     637500  6.800000e+05  \n",
       "2019-04-01        NaN     652500    4230000  6.402210e+05  \n",
       "2019-07-01        NaN     652500    4450000  6.000000e+05  \n",
       "\n",
       "[96 rows x 4645 columns]"
      ]
     },
     "execution_count": 1514,
     "metadata": {},
     "output_type": "execute_result"
    }
   ],
   "source": [
    "df_med_int = df_med_int.interpolate(method='time', limit_area='outside', limit_direction='backward', limit=1)\n",
    "df_med_int"
   ]
  },
  {
   "cell_type": "code",
   "execution_count": 1515,
   "metadata": {
    "ExecuteTime": {
     "end_time": "2020-06-19T14:39:18.455088Z",
     "start_time": "2020-06-19T14:39:18.447694Z"
    }
   },
   "outputs": [
    {
     "data": {
      "text/plain": [
       "0     4155\n",
       "1      129\n",
       "2       74\n",
       "3       67\n",
       "4       54\n",
       "6       31\n",
       "5       28\n",
       "8       19\n",
       "7       17\n",
       "9       11\n",
       "13      11\n",
       "11      11\n",
       "12      10\n",
       "10       9\n",
       "15       3\n",
       "14       3\n",
       "22       3\n",
       "16       2\n",
       "26       2\n",
       "19       1\n",
       "20       1\n",
       "17       1\n",
       "21       1\n",
       "18       1\n",
       "25       1\n",
       "dtype: int64"
      ]
     },
     "execution_count": 1515,
     "metadata": {},
     "output_type": "execute_result"
    }
   ],
   "source": [
    "df_med_int.isnull().sum().value_counts()"
   ]
  },
  {
   "cell_type": "code",
   "execution_count": 1516,
   "metadata": {
    "ExecuteTime": {
     "end_time": "2020-06-19T14:39:18.718010Z",
     "start_time": "2020-06-19T14:39:18.540643Z"
    }
   },
   "outputs": [
    {
     "data": {
      "text/html": [
       "<div>\n",
       "<style scoped>\n",
       "    .dataframe tbody tr th:only-of-type {\n",
       "        vertical-align: middle;\n",
       "    }\n",
       "\n",
       "    .dataframe tbody tr th {\n",
       "        vertical-align: top;\n",
       "    }\n",
       "\n",
       "    .dataframe thead th {\n",
       "        text-align: right;\n",
       "    }\n",
       "</style>\n",
       "<table border=\"1\" class=\"dataframe\">\n",
       "  <thead>\n",
       "    <tr style=\"text-align: right;\">\n",
       "      <th></th>\n",
       "      <th>E01000001</th>\n",
       "      <th>E01000002</th>\n",
       "      <th>E01000003</th>\n",
       "      <th>E01000005</th>\n",
       "      <th>E01032739</th>\n",
       "      <th>E01032740</th>\n",
       "      <th>E01000006</th>\n",
       "      <th>E01000007</th>\n",
       "      <th>E01000008</th>\n",
       "      <th>E01000009</th>\n",
       "      <th>...</th>\n",
       "      <th>E01033597</th>\n",
       "      <th>E01033598</th>\n",
       "      <th>E01033600</th>\n",
       "      <th>E01033601</th>\n",
       "      <th>E01033602</th>\n",
       "      <th>E01033603</th>\n",
       "      <th>E01033605</th>\n",
       "      <th>E01033606</th>\n",
       "      <th>E01033607</th>\n",
       "      <th>E01033608</th>\n",
       "    </tr>\n",
       "  </thead>\n",
       "  <tbody>\n",
       "    <tr>\n",
       "      <th>1995-10-01</th>\n",
       "      <td>108500.0</td>\n",
       "      <td>113500.0</td>\n",
       "      <td>74000.0</td>\n",
       "      <td>55000.0</td>\n",
       "      <td>148000.0</td>\n",
       "      <td>86500.0</td>\n",
       "      <td>68500.0</td>\n",
       "      <td>NaN</td>\n",
       "      <td>NaN</td>\n",
       "      <td>53000.0</td>\n",
       "      <td>...</td>\n",
       "      <td>NaN</td>\n",
       "      <td>NaN</td>\n",
       "      <td>130000.0</td>\n",
       "      <td>80000.0</td>\n",
       "      <td>73500.0</td>\n",
       "      <td>82000.0</td>\n",
       "      <td>62300.0</td>\n",
       "      <td>125000</td>\n",
       "      <td>117000</td>\n",
       "      <td>142162.5</td>\n",
       "    </tr>\n",
       "    <tr>\n",
       "      <th>1996-01-01</th>\n",
       "      <td>119500.0</td>\n",
       "      <td>129000.0</td>\n",
       "      <td>74000.0</td>\n",
       "      <td>55000.0</td>\n",
       "      <td>178750.0</td>\n",
       "      <td>115000.0</td>\n",
       "      <td>66000.0</td>\n",
       "      <td>NaN</td>\n",
       "      <td>NaN</td>\n",
       "      <td>53000.0</td>\n",
       "      <td>...</td>\n",
       "      <td>NaN</td>\n",
       "      <td>NaN</td>\n",
       "      <td>190000.0</td>\n",
       "      <td>80000.0</td>\n",
       "      <td>67000.0</td>\n",
       "      <td>74500.0</td>\n",
       "      <td>62300.0</td>\n",
       "      <td>107500</td>\n",
       "      <td>119000</td>\n",
       "      <td>144325.0</td>\n",
       "    </tr>\n",
       "    <tr>\n",
       "      <th>1996-04-01</th>\n",
       "      <td>121250.0</td>\n",
       "      <td>114000.0</td>\n",
       "      <td>79000.0</td>\n",
       "      <td>57850.0</td>\n",
       "      <td>175000.0</td>\n",
       "      <td>115000.0</td>\n",
       "      <td>67000.0</td>\n",
       "      <td>NaN</td>\n",
       "      <td>NaN</td>\n",
       "      <td>54500.0</td>\n",
       "      <td>...</td>\n",
       "      <td>NaN</td>\n",
       "      <td>NaN</td>\n",
       "      <td>220000.0</td>\n",
       "      <td>82500.0</td>\n",
       "      <td>57000.0</td>\n",
       "      <td>70000.0</td>\n",
       "      <td>62300.0</td>\n",
       "      <td>129950</td>\n",
       "      <td>120000</td>\n",
       "      <td>154000.0</td>\n",
       "    </tr>\n",
       "    <tr>\n",
       "      <th>1996-07-01</th>\n",
       "      <td>133750.0</td>\n",
       "      <td>132000.0</td>\n",
       "      <td>79000.0</td>\n",
       "      <td>57850.0</td>\n",
       "      <td>175000.0</td>\n",
       "      <td>139000.0</td>\n",
       "      <td>67000.0</td>\n",
       "      <td>NaN</td>\n",
       "      <td>NaN</td>\n",
       "      <td>54250.0</td>\n",
       "      <td>...</td>\n",
       "      <td>42500.0</td>\n",
       "      <td>NaN</td>\n",
       "      <td>220000.0</td>\n",
       "      <td>120000.0</td>\n",
       "      <td>57000.0</td>\n",
       "      <td>70000.0</td>\n",
       "      <td>60000.0</td>\n",
       "      <td>129950</td>\n",
       "      <td>180000</td>\n",
       "      <td>160000.0</td>\n",
       "    </tr>\n",
       "    <tr>\n",
       "      <th>1996-10-01</th>\n",
       "      <td>150000.0</td>\n",
       "      <td>122500.0</td>\n",
       "      <td>76000.0</td>\n",
       "      <td>56425.0</td>\n",
       "      <td>158750.0</td>\n",
       "      <td>125000.0</td>\n",
       "      <td>69500.0</td>\n",
       "      <td>NaN</td>\n",
       "      <td>NaN</td>\n",
       "      <td>50000.0</td>\n",
       "      <td>...</td>\n",
       "      <td>42500.0</td>\n",
       "      <td>300000.0</td>\n",
       "      <td>220000.0</td>\n",
       "      <td>120000.0</td>\n",
       "      <td>57000.0</td>\n",
       "      <td>73875.0</td>\n",
       "      <td>66500.0</td>\n",
       "      <td>140250</td>\n",
       "      <td>212500</td>\n",
       "      <td>163000.0</td>\n",
       "    </tr>\n",
       "  </tbody>\n",
       "</table>\n",
       "<p>5 rows × 4645 columns</p>\n",
       "</div>"
      ],
      "text/plain": [
       "            E01000001  E01000002  E01000003  E01000005  E01032739  E01032740  \\\n",
       "1995-10-01   108500.0   113500.0    74000.0    55000.0   148000.0    86500.0   \n",
       "1996-01-01   119500.0   129000.0    74000.0    55000.0   178750.0   115000.0   \n",
       "1996-04-01   121250.0   114000.0    79000.0    57850.0   175000.0   115000.0   \n",
       "1996-07-01   133750.0   132000.0    79000.0    57850.0   175000.0   139000.0   \n",
       "1996-10-01   150000.0   122500.0    76000.0    56425.0   158750.0   125000.0   \n",
       "\n",
       "            E01000006  E01000007  E01000008  E01000009  ...  E01033597  \\\n",
       "1995-10-01    68500.0        NaN        NaN    53000.0  ...        NaN   \n",
       "1996-01-01    66000.0        NaN        NaN    53000.0  ...        NaN   \n",
       "1996-04-01    67000.0        NaN        NaN    54500.0  ...        NaN   \n",
       "1996-07-01    67000.0        NaN        NaN    54250.0  ...    42500.0   \n",
       "1996-10-01    69500.0        NaN        NaN    50000.0  ...    42500.0   \n",
       "\n",
       "            E01033598  E01033600  E01033601  E01033602  E01033603  E01033605  \\\n",
       "1995-10-01        NaN   130000.0    80000.0    73500.0    82000.0    62300.0   \n",
       "1996-01-01        NaN   190000.0    80000.0    67000.0    74500.0    62300.0   \n",
       "1996-04-01        NaN   220000.0    82500.0    57000.0    70000.0    62300.0   \n",
       "1996-07-01        NaN   220000.0   120000.0    57000.0    70000.0    60000.0   \n",
       "1996-10-01   300000.0   220000.0   120000.0    57000.0    73875.0    66500.0   \n",
       "\n",
       "            E01033606  E01033607  E01033608  \n",
       "1995-10-01     125000     117000   142162.5  \n",
       "1996-01-01     107500     119000   144325.0  \n",
       "1996-04-01     129950     120000   154000.0  \n",
       "1996-07-01     129950     180000   160000.0  \n",
       "1996-10-01     140250     212500   163000.0  \n",
       "\n",
       "[5 rows x 4645 columns]"
      ]
     },
     "execution_count": 1516,
     "metadata": {},
     "output_type": "execute_result"
    }
   ],
   "source": [
    "df_med_int = df_med_int.interpolate(method='time', limit_area='outside', limit_direction='forward', limit=1)\n",
    "df_med_int.head()"
   ]
  },
  {
   "cell_type": "code",
   "execution_count": 1517,
   "metadata": {
    "ExecuteTime": {
     "end_time": "2020-06-19T14:39:19.194813Z",
     "start_time": "2020-06-19T14:39:19.187292Z"
    }
   },
   "outputs": [
    {
     "data": {
      "text/plain": [
       "0     4262\n",
       "1       79\n",
       "2       65\n",
       "3       56\n",
       "4       36\n",
       "5       30\n",
       "6       21\n",
       "7       20\n",
       "10      12\n",
       "8       11\n",
       "9       11\n",
       "12       9\n",
       "11       8\n",
       "13       7\n",
       "15       3\n",
       "14       3\n",
       "22       3\n",
       "18       2\n",
       "26       2\n",
       "17       1\n",
       "25       1\n",
       "20       1\n",
       "16       1\n",
       "21       1\n",
       "dtype: int64"
      ]
     },
     "execution_count": 1517,
     "metadata": {},
     "output_type": "execute_result"
    }
   ],
   "source": [
    "df_med_int.isnull().sum().value_counts()"
   ]
  },
  {
   "cell_type": "code",
   "execution_count": 1518,
   "metadata": {
    "ExecuteTime": {
     "end_time": "2020-06-19T14:39:20.058267Z",
     "start_time": "2020-06-19T14:39:20.054953Z"
    }
   },
   "outputs": [
    {
     "data": {
      "text/plain": [
       "(96, 4645)"
      ]
     },
     "execution_count": 1518,
     "metadata": {},
     "output_type": "execute_result"
    }
   ],
   "source": [
    "df_med_int.shape"
   ]
  },
  {
   "cell_type": "code",
   "execution_count": 1519,
   "metadata": {
    "ExecuteTime": {
     "end_time": "2020-06-19T14:39:22.891051Z",
     "start_time": "2020-06-19T14:39:22.884345Z"
    }
   },
   "outputs": [],
   "source": [
    "df_med_int.dropna(axis=1, inplace=True)"
   ]
  },
  {
   "cell_type": "code",
   "execution_count": 1520,
   "metadata": {
    "ExecuteTime": {
     "end_time": "2020-06-19T14:39:23.226391Z",
     "start_time": "2020-06-19T14:39:23.219418Z"
    }
   },
   "outputs": [
    {
     "data": {
      "text/plain": [
       "0    4262\n",
       "dtype: int64"
      ]
     },
     "execution_count": 1520,
     "metadata": {},
     "output_type": "execute_result"
    }
   ],
   "source": [
    "df_med_int.isnull().sum().value_counts()"
   ]
  },
  {
   "cell_type": "code",
   "execution_count": 1521,
   "metadata": {
    "ExecuteTime": {
     "end_time": "2020-06-19T14:39:23.595398Z",
     "start_time": "2020-06-19T14:39:23.592028Z"
    }
   },
   "outputs": [
    {
     "data": {
      "text/plain": [
       "(96, 4262)"
      ]
     },
     "execution_count": 1521,
     "metadata": {},
     "output_type": "execute_result"
    }
   ],
   "source": [
    "df_med_int.shape"
   ]
  },
  {
   "cell_type": "code",
   "execution_count": 1522,
   "metadata": {
    "ExecuteTime": {
     "end_time": "2020-06-19T14:39:24.335491Z",
     "start_time": "2020-06-19T14:39:24.312672Z"
    }
   },
   "outputs": [
    {
     "data": {
      "text/html": [
       "<div>\n",
       "<style scoped>\n",
       "    .dataframe tbody tr th:only-of-type {\n",
       "        vertical-align: middle;\n",
       "    }\n",
       "\n",
       "    .dataframe tbody tr th {\n",
       "        vertical-align: top;\n",
       "    }\n",
       "\n",
       "    .dataframe thead th {\n",
       "        text-align: right;\n",
       "    }\n",
       "</style>\n",
       "<table border=\"1\" class=\"dataframe\">\n",
       "  <thead>\n",
       "    <tr style=\"text-align: right;\">\n",
       "      <th></th>\n",
       "      <th>E01000001</th>\n",
       "      <th>E01000002</th>\n",
       "      <th>E01000003</th>\n",
       "      <th>E01032739</th>\n",
       "      <th>E01032740</th>\n",
       "      <th>E01000006</th>\n",
       "      <th>E01000009</th>\n",
       "      <th>E01000010</th>\n",
       "      <th>E01000012</th>\n",
       "      <th>E01000013</th>\n",
       "      <th>...</th>\n",
       "      <th>E01004765</th>\n",
       "      <th>E01033594</th>\n",
       "      <th>E01033595</th>\n",
       "      <th>E01033596</th>\n",
       "      <th>E01033600</th>\n",
       "      <th>E01033601</th>\n",
       "      <th>E01033603</th>\n",
       "      <th>E01033606</th>\n",
       "      <th>E01033607</th>\n",
       "      <th>E01033608</th>\n",
       "    </tr>\n",
       "  </thead>\n",
       "  <tbody>\n",
       "    <tr>\n",
       "      <th>2018-07-01</th>\n",
       "      <td>850000.0</td>\n",
       "      <td>807500.0</td>\n",
       "      <td>690500.0</td>\n",
       "      <td>927500.0</td>\n",
       "      <td>987000.0</td>\n",
       "      <td>385000.0</td>\n",
       "      <td>217500.0</td>\n",
       "      <td>227500.0</td>\n",
       "      <td>218750.0</td>\n",
       "      <td>315000.0</td>\n",
       "      <td>...</td>\n",
       "      <td>1650000.0</td>\n",
       "      <td>1235000.0</td>\n",
       "      <td>4052560.0</td>\n",
       "      <td>1050000.0</td>\n",
       "      <td>897500.0</td>\n",
       "      <td>662308.075773</td>\n",
       "      <td>585000.0</td>\n",
       "      <td>696000</td>\n",
       "      <td>670000</td>\n",
       "      <td>1.040000e+06</td>\n",
       "    </tr>\n",
       "    <tr>\n",
       "      <th>2018-10-01</th>\n",
       "      <td>834750.0</td>\n",
       "      <td>830000.0</td>\n",
       "      <td>651000.0</td>\n",
       "      <td>941160.0</td>\n",
       "      <td>1255500.0</td>\n",
       "      <td>365000.0</td>\n",
       "      <td>200000.0</td>\n",
       "      <td>228750.0</td>\n",
       "      <td>212500.0</td>\n",
       "      <td>315000.0</td>\n",
       "      <td>...</td>\n",
       "      <td>1455000.0</td>\n",
       "      <td>1195000.0</td>\n",
       "      <td>2525000.0</td>\n",
       "      <td>1050000.0</td>\n",
       "      <td>897500.0</td>\n",
       "      <td>650383.848455</td>\n",
       "      <td>505000.0</td>\n",
       "      <td>610000</td>\n",
       "      <td>712500</td>\n",
       "      <td>9.800000e+05</td>\n",
       "    </tr>\n",
       "    <tr>\n",
       "      <th>2019-01-01</th>\n",
       "      <td>815000.0</td>\n",
       "      <td>835000.0</td>\n",
       "      <td>599500.0</td>\n",
       "      <td>964500.0</td>\n",
       "      <td>1277750.0</td>\n",
       "      <td>282000.0</td>\n",
       "      <td>195000.0</td>\n",
       "      <td>226250.0</td>\n",
       "      <td>228750.0</td>\n",
       "      <td>306000.0</td>\n",
       "      <td>...</td>\n",
       "      <td>1595000.0</td>\n",
       "      <td>1385000.0</td>\n",
       "      <td>2300000.0</td>\n",
       "      <td>1011000.0</td>\n",
       "      <td>887500.0</td>\n",
       "      <td>638459.621137</td>\n",
       "      <td>730000.0</td>\n",
       "      <td>652500</td>\n",
       "      <td>637500</td>\n",
       "      <td>6.800000e+05</td>\n",
       "    </tr>\n",
       "    <tr>\n",
       "      <th>2019-04-01</th>\n",
       "      <td>847500.0</td>\n",
       "      <td>857500.0</td>\n",
       "      <td>599000.0</td>\n",
       "      <td>941160.0</td>\n",
       "      <td>1339500.0</td>\n",
       "      <td>205000.0</td>\n",
       "      <td>195000.0</td>\n",
       "      <td>223000.0</td>\n",
       "      <td>230000.0</td>\n",
       "      <td>305000.0</td>\n",
       "      <td>...</td>\n",
       "      <td>1037500.0</td>\n",
       "      <td>1250000.0</td>\n",
       "      <td>1235000.0</td>\n",
       "      <td>1011000.0</td>\n",
       "      <td>1101250.0</td>\n",
       "      <td>626794.616152</td>\n",
       "      <td>730000.0</td>\n",
       "      <td>652500</td>\n",
       "      <td>4230000</td>\n",
       "      <td>6.402210e+05</td>\n",
       "    </tr>\n",
       "    <tr>\n",
       "      <th>2019-07-01</th>\n",
       "      <td>887500.0</td>\n",
       "      <td>880000.0</td>\n",
       "      <td>575000.0</td>\n",
       "      <td>996075.0</td>\n",
       "      <td>990000.0</td>\n",
       "      <td>292500.0</td>\n",
       "      <td>195000.0</td>\n",
       "      <td>215000.0</td>\n",
       "      <td>230000.0</td>\n",
       "      <td>313250.0</td>\n",
       "      <td>...</td>\n",
       "      <td>1253500.0</td>\n",
       "      <td>1385000.0</td>\n",
       "      <td>1685000.0</td>\n",
       "      <td>600000.0</td>\n",
       "      <td>725000.0</td>\n",
       "      <td>615000.000000</td>\n",
       "      <td>520918.5</td>\n",
       "      <td>652500</td>\n",
       "      <td>4450000</td>\n",
       "      <td>6.000000e+05</td>\n",
       "    </tr>\n",
       "  </tbody>\n",
       "</table>\n",
       "<p>5 rows × 4262 columns</p>\n",
       "</div>"
      ],
      "text/plain": [
       "            E01000001  E01000002  E01000003  E01032739  E01032740  E01000006  \\\n",
       "2018-07-01   850000.0   807500.0   690500.0   927500.0   987000.0   385000.0   \n",
       "2018-10-01   834750.0   830000.0   651000.0   941160.0  1255500.0   365000.0   \n",
       "2019-01-01   815000.0   835000.0   599500.0   964500.0  1277750.0   282000.0   \n",
       "2019-04-01   847500.0   857500.0   599000.0   941160.0  1339500.0   205000.0   \n",
       "2019-07-01   887500.0   880000.0   575000.0   996075.0   990000.0   292500.0   \n",
       "\n",
       "            E01000009  E01000010  E01000012  E01000013  ...  E01004765  \\\n",
       "2018-07-01   217500.0   227500.0   218750.0   315000.0  ...  1650000.0   \n",
       "2018-10-01   200000.0   228750.0   212500.0   315000.0  ...  1455000.0   \n",
       "2019-01-01   195000.0   226250.0   228750.0   306000.0  ...  1595000.0   \n",
       "2019-04-01   195000.0   223000.0   230000.0   305000.0  ...  1037500.0   \n",
       "2019-07-01   195000.0   215000.0   230000.0   313250.0  ...  1253500.0   \n",
       "\n",
       "            E01033594  E01033595  E01033596  E01033600      E01033601  \\\n",
       "2018-07-01  1235000.0  4052560.0  1050000.0   897500.0  662308.075773   \n",
       "2018-10-01  1195000.0  2525000.0  1050000.0   897500.0  650383.848455   \n",
       "2019-01-01  1385000.0  2300000.0  1011000.0   887500.0  638459.621137   \n",
       "2019-04-01  1250000.0  1235000.0  1011000.0  1101250.0  626794.616152   \n",
       "2019-07-01  1385000.0  1685000.0   600000.0   725000.0  615000.000000   \n",
       "\n",
       "            E01033603  E01033606  E01033607     E01033608  \n",
       "2018-07-01   585000.0     696000     670000  1.040000e+06  \n",
       "2018-10-01   505000.0     610000     712500  9.800000e+05  \n",
       "2019-01-01   730000.0     652500     637500  6.800000e+05  \n",
       "2019-04-01   730000.0     652500    4230000  6.402210e+05  \n",
       "2019-07-01   520918.5     652500    4450000  6.000000e+05  \n",
       "\n",
       "[5 rows x 4262 columns]"
      ]
     },
     "execution_count": 1522,
     "metadata": {},
     "output_type": "execute_result"
    }
   ],
   "source": [
    "df_med_int.tail()"
   ]
  },
  {
   "cell_type": "code",
   "execution_count": null,
   "metadata": {},
   "outputs": [],
   "source": []
  },
  {
   "cell_type": "code",
   "execution_count": 1183,
   "metadata": {
    "ExecuteTime": {
     "end_time": "2020-06-18T16:28:29.210596Z",
     "start_time": "2020-06-18T16:28:29.197138Z"
    }
   },
   "outputs": [],
   "source": [
    "from statsmodels.tsa.stattools import adfuller\n",
    "def adf_test(ts, signif=0.05):\n",
    "    dftest = adfuller(ts, autolag='AIC')\n",
    "    adf = pd.Series(dftest[0:4], index=['Test Statistic','p-value','# Lags','# Observations'])\n",
    "    for key,value in dftest[4].items():\n",
    "       adf['Critical Value (%s)'%key] = value\n",
    "    \n",
    "    p = adf['p-value']\n",
    "    if p <= signif:\n",
    "        return(f\"Series is Stationary\")\n",
    "    else:\n",
    "        return(f\"Series is Non-Stationary\")\n",
    "    "
   ]
  },
  {
   "cell_type": "code",
   "execution_count": 1184,
   "metadata": {
    "ExecuteTime": {
     "end_time": "2020-06-18T16:28:55.998921Z",
     "start_time": "2020-06-18T16:28:29.528195Z"
    }
   },
   "outputs": [],
   "source": [
    "stat_list = []\n",
    "\n",
    "for i in df_med_int.columns:\n",
    "    stat_list.append(adf_test(df_med_int[f'{i}']))\n"
   ]
  },
  {
   "cell_type": "code",
   "execution_count": 1185,
   "metadata": {
    "ExecuteTime": {
     "end_time": "2020-06-18T16:28:56.004603Z",
     "start_time": "2020-06-18T16:28:56.000630Z"
    }
   },
   "outputs": [
    {
     "data": {
      "text/plain": [
       "4262"
      ]
     },
     "execution_count": 1185,
     "metadata": {},
     "output_type": "execute_result"
    }
   ],
   "source": [
    "len(stat_list)"
   ]
  },
  {
   "cell_type": "code",
   "execution_count": 1186,
   "metadata": {
    "ExecuteTime": {
     "end_time": "2020-06-18T16:28:56.010088Z",
     "start_time": "2020-06-18T16:28:56.006549Z"
    }
   },
   "outputs": [
    {
     "data": {
      "text/plain": [
       "['Series is Non-Stationary',\n",
       " 'Series is Non-Stationary',\n",
       " 'Series is Non-Stationary',\n",
       " 'Series is Non-Stationary',\n",
       " 'Series is Non-Stationary',\n",
       " 'Series is Non-Stationary',\n",
       " 'Series is Non-Stationary',\n",
       " 'Series is Non-Stationary',\n",
       " 'Series is Non-Stationary',\n",
       " 'Series is Non-Stationary']"
      ]
     },
     "execution_count": 1186,
     "metadata": {},
     "output_type": "execute_result"
    }
   ],
   "source": [
    "stat_list[0:10]"
   ]
  },
  {
   "cell_type": "code",
   "execution_count": 1187,
   "metadata": {
    "ExecuteTime": {
     "end_time": "2020-06-18T16:28:58.028247Z",
     "start_time": "2020-06-18T16:28:58.024711Z"
    }
   },
   "outputs": [
    {
     "data": {
      "text/plain": [
       "5"
      ]
     },
     "execution_count": 1187,
     "metadata": {},
     "output_type": "execute_result"
    }
   ],
   "source": [
    "stat_list.count('Series is Stationary')"
   ]
  },
  {
   "cell_type": "code",
   "execution_count": 1188,
   "metadata": {
    "ExecuteTime": {
     "end_time": "2020-06-18T16:29:15.761242Z",
     "start_time": "2020-06-18T16:29:15.737517Z"
    }
   },
   "outputs": [
    {
     "data": {
      "text/html": [
       "<div>\n",
       "<style scoped>\n",
       "    .dataframe tbody tr th:only-of-type {\n",
       "        vertical-align: middle;\n",
       "    }\n",
       "\n",
       "    .dataframe tbody tr th {\n",
       "        vertical-align: top;\n",
       "    }\n",
       "\n",
       "    .dataframe thead th {\n",
       "        text-align: right;\n",
       "    }\n",
       "</style>\n",
       "<table border=\"1\" class=\"dataframe\">\n",
       "  <thead>\n",
       "    <tr style=\"text-align: right;\">\n",
       "      <th></th>\n",
       "      <th>E01000001</th>\n",
       "      <th>E01000002</th>\n",
       "      <th>E01000003</th>\n",
       "      <th>E01032739</th>\n",
       "      <th>E01032740</th>\n",
       "      <th>E01000006</th>\n",
       "      <th>E01000009</th>\n",
       "      <th>E01000010</th>\n",
       "      <th>E01000012</th>\n",
       "      <th>E01000013</th>\n",
       "      <th>...</th>\n",
       "      <th>E01004765</th>\n",
       "      <th>E01033594</th>\n",
       "      <th>E01033595</th>\n",
       "      <th>E01033596</th>\n",
       "      <th>E01033600</th>\n",
       "      <th>E01033601</th>\n",
       "      <th>E01033603</th>\n",
       "      <th>E01033606</th>\n",
       "      <th>E01033607</th>\n",
       "      <th>E01033608</th>\n",
       "    </tr>\n",
       "  </thead>\n",
       "  <tbody>\n",
       "    <tr>\n",
       "      <th>1995-10-01</th>\n",
       "      <td>108500.0</td>\n",
       "      <td>113500.0</td>\n",
       "      <td>74000.0</td>\n",
       "      <td>148000.0</td>\n",
       "      <td>86500.0</td>\n",
       "      <td>68500.0</td>\n",
       "      <td>53000.0</td>\n",
       "      <td>55625.0</td>\n",
       "      <td>33750.0</td>\n",
       "      <td>44000.0</td>\n",
       "      <td>...</td>\n",
       "      <td>110000.0</td>\n",
       "      <td>166000.0</td>\n",
       "      <td>125000.0</td>\n",
       "      <td>172500.0</td>\n",
       "      <td>130000.0</td>\n",
       "      <td>80000.0</td>\n",
       "      <td>82000.0</td>\n",
       "      <td>125000</td>\n",
       "      <td>117000</td>\n",
       "      <td>142162.5</td>\n",
       "    </tr>\n",
       "    <tr>\n",
       "      <th>1996-01-01</th>\n",
       "      <td>119500.0</td>\n",
       "      <td>129000.0</td>\n",
       "      <td>74000.0</td>\n",
       "      <td>178750.0</td>\n",
       "      <td>115000.0</td>\n",
       "      <td>66000.0</td>\n",
       "      <td>53000.0</td>\n",
       "      <td>56625.0</td>\n",
       "      <td>32350.0</td>\n",
       "      <td>42500.0</td>\n",
       "      <td>...</td>\n",
       "      <td>120500.0</td>\n",
       "      <td>152000.0</td>\n",
       "      <td>117500.0</td>\n",
       "      <td>155000.0</td>\n",
       "      <td>190000.0</td>\n",
       "      <td>80000.0</td>\n",
       "      <td>74500.0</td>\n",
       "      <td>107500</td>\n",
       "      <td>119000</td>\n",
       "      <td>144325.0</td>\n",
       "    </tr>\n",
       "    <tr>\n",
       "      <th>1996-04-01</th>\n",
       "      <td>121250.0</td>\n",
       "      <td>114000.0</td>\n",
       "      <td>79000.0</td>\n",
       "      <td>175000.0</td>\n",
       "      <td>115000.0</td>\n",
       "      <td>67000.0</td>\n",
       "      <td>54500.0</td>\n",
       "      <td>52500.0</td>\n",
       "      <td>33000.0</td>\n",
       "      <td>42250.0</td>\n",
       "      <td>...</td>\n",
       "      <td>126500.0</td>\n",
       "      <td>166000.0</td>\n",
       "      <td>143750.0</td>\n",
       "      <td>147500.0</td>\n",
       "      <td>220000.0</td>\n",
       "      <td>82500.0</td>\n",
       "      <td>70000.0</td>\n",
       "      <td>129950</td>\n",
       "      <td>120000</td>\n",
       "      <td>154000.0</td>\n",
       "    </tr>\n",
       "    <tr>\n",
       "      <th>1996-07-01</th>\n",
       "      <td>133750.0</td>\n",
       "      <td>132000.0</td>\n",
       "      <td>79000.0</td>\n",
       "      <td>175000.0</td>\n",
       "      <td>139000.0</td>\n",
       "      <td>67000.0</td>\n",
       "      <td>54250.0</td>\n",
       "      <td>57975.0</td>\n",
       "      <td>33500.0</td>\n",
       "      <td>40500.0</td>\n",
       "      <td>...</td>\n",
       "      <td>147500.0</td>\n",
       "      <td>96050.0</td>\n",
       "      <td>163250.0</td>\n",
       "      <td>128500.0</td>\n",
       "      <td>220000.0</td>\n",
       "      <td>120000.0</td>\n",
       "      <td>70000.0</td>\n",
       "      <td>129950</td>\n",
       "      <td>180000</td>\n",
       "      <td>160000.0</td>\n",
       "    </tr>\n",
       "    <tr>\n",
       "      <th>1996-10-01</th>\n",
       "      <td>150000.0</td>\n",
       "      <td>122500.0</td>\n",
       "      <td>76000.0</td>\n",
       "      <td>158750.0</td>\n",
       "      <td>125000.0</td>\n",
       "      <td>69500.0</td>\n",
       "      <td>50000.0</td>\n",
       "      <td>52500.0</td>\n",
       "      <td>33000.0</td>\n",
       "      <td>42750.0</td>\n",
       "      <td>...</td>\n",
       "      <td>155000.0</td>\n",
       "      <td>114000.0</td>\n",
       "      <td>164000.0</td>\n",
       "      <td>117500.0</td>\n",
       "      <td>220000.0</td>\n",
       "      <td>120000.0</td>\n",
       "      <td>73875.0</td>\n",
       "      <td>140250</td>\n",
       "      <td>212500</td>\n",
       "      <td>163000.0</td>\n",
       "    </tr>\n",
       "  </tbody>\n",
       "</table>\n",
       "<p>5 rows × 4262 columns</p>\n",
       "</div>"
      ],
      "text/plain": [
       "            E01000001  E01000002  E01000003  E01032739  E01032740  E01000006  \\\n",
       "1995-10-01   108500.0   113500.0    74000.0   148000.0    86500.0    68500.0   \n",
       "1996-01-01   119500.0   129000.0    74000.0   178750.0   115000.0    66000.0   \n",
       "1996-04-01   121250.0   114000.0    79000.0   175000.0   115000.0    67000.0   \n",
       "1996-07-01   133750.0   132000.0    79000.0   175000.0   139000.0    67000.0   \n",
       "1996-10-01   150000.0   122500.0    76000.0   158750.0   125000.0    69500.0   \n",
       "\n",
       "            E01000009  E01000010  E01000012  E01000013  ...  E01004765  \\\n",
       "1995-10-01    53000.0    55625.0    33750.0    44000.0  ...   110000.0   \n",
       "1996-01-01    53000.0    56625.0    32350.0    42500.0  ...   120500.0   \n",
       "1996-04-01    54500.0    52500.0    33000.0    42250.0  ...   126500.0   \n",
       "1996-07-01    54250.0    57975.0    33500.0    40500.0  ...   147500.0   \n",
       "1996-10-01    50000.0    52500.0    33000.0    42750.0  ...   155000.0   \n",
       "\n",
       "            E01033594  E01033595  E01033596  E01033600  E01033601  E01033603  \\\n",
       "1995-10-01   166000.0   125000.0   172500.0   130000.0    80000.0    82000.0   \n",
       "1996-01-01   152000.0   117500.0   155000.0   190000.0    80000.0    74500.0   \n",
       "1996-04-01   166000.0   143750.0   147500.0   220000.0    82500.0    70000.0   \n",
       "1996-07-01    96050.0   163250.0   128500.0   220000.0   120000.0    70000.0   \n",
       "1996-10-01   114000.0   164000.0   117500.0   220000.0   120000.0    73875.0   \n",
       "\n",
       "            E01033606  E01033607  E01033608  \n",
       "1995-10-01     125000     117000   142162.5  \n",
       "1996-01-01     107500     119000   144325.0  \n",
       "1996-04-01     129950     120000   154000.0  \n",
       "1996-07-01     129950     180000   160000.0  \n",
       "1996-10-01     140250     212500   163000.0  \n",
       "\n",
       "[5 rows x 4262 columns]"
      ]
     },
     "execution_count": 1188,
     "metadata": {},
     "output_type": "execute_result"
    }
   ],
   "source": [
    "df_med_int.head()"
   ]
  },
  {
   "cell_type": "code",
   "execution_count": 1523,
   "metadata": {
    "ExecuteTime": {
     "end_time": "2020-06-19T14:39:34.103003Z",
     "start_time": "2020-06-19T14:39:34.091148Z"
    }
   },
   "outputs": [],
   "source": [
    "# 1st difference\n",
    "df_med_int_differenced = df_med_int.diff().dropna()"
   ]
  },
  {
   "cell_type": "code",
   "execution_count": 1488,
   "metadata": {
    "ExecuteTime": {
     "end_time": "2020-06-19T12:08:42.520033Z",
     "start_time": "2020-06-19T12:08:42.497569Z"
    }
   },
   "outputs": [
    {
     "data": {
      "text/html": [
       "<div>\n",
       "<style scoped>\n",
       "    .dataframe tbody tr th:only-of-type {\n",
       "        vertical-align: middle;\n",
       "    }\n",
       "\n",
       "    .dataframe tbody tr th {\n",
       "        vertical-align: top;\n",
       "    }\n",
       "\n",
       "    .dataframe thead th {\n",
       "        text-align: right;\n",
       "    }\n",
       "</style>\n",
       "<table border=\"1\" class=\"dataframe\">\n",
       "  <thead>\n",
       "    <tr style=\"text-align: right;\">\n",
       "      <th></th>\n",
       "      <th>E01000001</th>\n",
       "      <th>E01000002</th>\n",
       "      <th>E01000003</th>\n",
       "      <th>E01032739</th>\n",
       "      <th>E01032740</th>\n",
       "      <th>E01000006</th>\n",
       "      <th>E01000009</th>\n",
       "      <th>E01000010</th>\n",
       "      <th>E01000012</th>\n",
       "      <th>E01000013</th>\n",
       "      <th>...</th>\n",
       "      <th>E01004765</th>\n",
       "      <th>E01033594</th>\n",
       "      <th>E01033595</th>\n",
       "      <th>E01033596</th>\n",
       "      <th>E01033600</th>\n",
       "      <th>E01033601</th>\n",
       "      <th>E01033603</th>\n",
       "      <th>E01033606</th>\n",
       "      <th>E01033607</th>\n",
       "      <th>E01033608</th>\n",
       "    </tr>\n",
       "  </thead>\n",
       "  <tbody>\n",
       "    <tr>\n",
       "      <th>1996-01-01</th>\n",
       "      <td>11000.0</td>\n",
       "      <td>15500.0</td>\n",
       "      <td>0.0</td>\n",
       "      <td>30750.0</td>\n",
       "      <td>28500.0</td>\n",
       "      <td>-2500.0</td>\n",
       "      <td>0.0</td>\n",
       "      <td>1000.0</td>\n",
       "      <td>-1400.0</td>\n",
       "      <td>-1500.0</td>\n",
       "      <td>...</td>\n",
       "      <td>10500.0</td>\n",
       "      <td>-14000.0</td>\n",
       "      <td>-7500.0</td>\n",
       "      <td>-17500.0</td>\n",
       "      <td>60000.0</td>\n",
       "      <td>0.0</td>\n",
       "      <td>-7500.0</td>\n",
       "      <td>-17500.0</td>\n",
       "      <td>2000.0</td>\n",
       "      <td>2162.5</td>\n",
       "    </tr>\n",
       "    <tr>\n",
       "      <th>1996-04-01</th>\n",
       "      <td>1750.0</td>\n",
       "      <td>-15000.0</td>\n",
       "      <td>5000.0</td>\n",
       "      <td>-3750.0</td>\n",
       "      <td>0.0</td>\n",
       "      <td>1000.0</td>\n",
       "      <td>1500.0</td>\n",
       "      <td>-4125.0</td>\n",
       "      <td>650.0</td>\n",
       "      <td>-250.0</td>\n",
       "      <td>...</td>\n",
       "      <td>6000.0</td>\n",
       "      <td>14000.0</td>\n",
       "      <td>26250.0</td>\n",
       "      <td>-7500.0</td>\n",
       "      <td>30000.0</td>\n",
       "      <td>2500.0</td>\n",
       "      <td>-4500.0</td>\n",
       "      <td>22450.0</td>\n",
       "      <td>1000.0</td>\n",
       "      <td>9675.0</td>\n",
       "    </tr>\n",
       "    <tr>\n",
       "      <th>1996-07-01</th>\n",
       "      <td>12500.0</td>\n",
       "      <td>18000.0</td>\n",
       "      <td>0.0</td>\n",
       "      <td>0.0</td>\n",
       "      <td>24000.0</td>\n",
       "      <td>0.0</td>\n",
       "      <td>-250.0</td>\n",
       "      <td>5475.0</td>\n",
       "      <td>500.0</td>\n",
       "      <td>-1750.0</td>\n",
       "      <td>...</td>\n",
       "      <td>21000.0</td>\n",
       "      <td>-69950.0</td>\n",
       "      <td>19500.0</td>\n",
       "      <td>-19000.0</td>\n",
       "      <td>0.0</td>\n",
       "      <td>37500.0</td>\n",
       "      <td>0.0</td>\n",
       "      <td>0.0</td>\n",
       "      <td>60000.0</td>\n",
       "      <td>6000.0</td>\n",
       "    </tr>\n",
       "    <tr>\n",
       "      <th>1996-10-01</th>\n",
       "      <td>16250.0</td>\n",
       "      <td>-9500.0</td>\n",
       "      <td>-3000.0</td>\n",
       "      <td>-16250.0</td>\n",
       "      <td>-14000.0</td>\n",
       "      <td>2500.0</td>\n",
       "      <td>-4250.0</td>\n",
       "      <td>-5475.0</td>\n",
       "      <td>-500.0</td>\n",
       "      <td>2250.0</td>\n",
       "      <td>...</td>\n",
       "      <td>7500.0</td>\n",
       "      <td>17950.0</td>\n",
       "      <td>750.0</td>\n",
       "      <td>-11000.0</td>\n",
       "      <td>0.0</td>\n",
       "      <td>0.0</td>\n",
       "      <td>3875.0</td>\n",
       "      <td>10300.0</td>\n",
       "      <td>32500.0</td>\n",
       "      <td>3000.0</td>\n",
       "    </tr>\n",
       "    <tr>\n",
       "      <th>1997-01-01</th>\n",
       "      <td>-8250.0</td>\n",
       "      <td>-2500.0</td>\n",
       "      <td>31892.5</td>\n",
       "      <td>-8750.0</td>\n",
       "      <td>-9000.0</td>\n",
       "      <td>-18000.0</td>\n",
       "      <td>6995.0</td>\n",
       "      <td>-3500.0</td>\n",
       "      <td>1000.0</td>\n",
       "      <td>2250.0</td>\n",
       "      <td>...</td>\n",
       "      <td>-25000.0</td>\n",
       "      <td>2000.0</td>\n",
       "      <td>31000.0</td>\n",
       "      <td>8500.0</td>\n",
       "      <td>-9250.0</td>\n",
       "      <td>-27500.0</td>\n",
       "      <td>49375.0</td>\n",
       "      <td>-5900.0</td>\n",
       "      <td>52500.0</td>\n",
       "      <td>27000.0</td>\n",
       "    </tr>\n",
       "  </tbody>\n",
       "</table>\n",
       "<p>5 rows × 4262 columns</p>\n",
       "</div>"
      ],
      "text/plain": [
       "            E01000001  E01000002  E01000003  E01032739  E01032740  E01000006  \\\n",
       "1996-01-01    11000.0    15500.0        0.0    30750.0    28500.0    -2500.0   \n",
       "1996-04-01     1750.0   -15000.0     5000.0    -3750.0        0.0     1000.0   \n",
       "1996-07-01    12500.0    18000.0        0.0        0.0    24000.0        0.0   \n",
       "1996-10-01    16250.0    -9500.0    -3000.0   -16250.0   -14000.0     2500.0   \n",
       "1997-01-01    -8250.0    -2500.0    31892.5    -8750.0    -9000.0   -18000.0   \n",
       "\n",
       "            E01000009  E01000010  E01000012  E01000013  ...  E01004765  \\\n",
       "1996-01-01        0.0     1000.0    -1400.0    -1500.0  ...    10500.0   \n",
       "1996-04-01     1500.0    -4125.0      650.0     -250.0  ...     6000.0   \n",
       "1996-07-01     -250.0     5475.0      500.0    -1750.0  ...    21000.0   \n",
       "1996-10-01    -4250.0    -5475.0     -500.0     2250.0  ...     7500.0   \n",
       "1997-01-01     6995.0    -3500.0     1000.0     2250.0  ...   -25000.0   \n",
       "\n",
       "            E01033594  E01033595  E01033596  E01033600  E01033601  E01033603  \\\n",
       "1996-01-01   -14000.0    -7500.0   -17500.0    60000.0        0.0    -7500.0   \n",
       "1996-04-01    14000.0    26250.0    -7500.0    30000.0     2500.0    -4500.0   \n",
       "1996-07-01   -69950.0    19500.0   -19000.0        0.0    37500.0        0.0   \n",
       "1996-10-01    17950.0      750.0   -11000.0        0.0        0.0     3875.0   \n",
       "1997-01-01     2000.0    31000.0     8500.0    -9250.0   -27500.0    49375.0   \n",
       "\n",
       "            E01033606  E01033607  E01033608  \n",
       "1996-01-01   -17500.0     2000.0     2162.5  \n",
       "1996-04-01    22450.0     1000.0     9675.0  \n",
       "1996-07-01        0.0    60000.0     6000.0  \n",
       "1996-10-01    10300.0    32500.0     3000.0  \n",
       "1997-01-01    -5900.0    52500.0    27000.0  \n",
       "\n",
       "[5 rows x 4262 columns]"
      ]
     },
     "execution_count": 1488,
     "metadata": {},
     "output_type": "execute_result"
    }
   ],
   "source": [
    "df_med_int_differenced.head()"
   ]
  },
  {
   "cell_type": "code",
   "execution_count": 1192,
   "metadata": {
    "ExecuteTime": {
     "end_time": "2020-06-18T16:30:03.768756Z",
     "start_time": "2020-06-18T16:29:37.546550Z"
    },
    "scrolled": true
   },
   "outputs": [],
   "source": [
    "stat_list_diff = []\n",
    "\n",
    "for i in df_med_int_differenced.columns:\n",
    "#     print(i)\n",
    "    stat_list_diff.append(adf_test(df_med_int_differenced[f'{i}']))"
   ]
  },
  {
   "cell_type": "code",
   "execution_count": 1193,
   "metadata": {
    "ExecuteTime": {
     "end_time": "2020-06-18T16:30:03.774634Z",
     "start_time": "2020-06-18T16:30:03.770574Z"
    }
   },
   "outputs": [
    {
     "data": {
      "text/plain": [
       "4262"
      ]
     },
     "execution_count": 1193,
     "metadata": {},
     "output_type": "execute_result"
    }
   ],
   "source": [
    "len(stat_list_diff)"
   ]
  },
  {
   "cell_type": "code",
   "execution_count": 1194,
   "metadata": {
    "ExecuteTime": {
     "end_time": "2020-06-18T16:30:03.779746Z",
     "start_time": "2020-06-18T16:30:03.776620Z"
    }
   },
   "outputs": [
    {
     "data": {
      "text/plain": [
       "['Series is Stationary',\n",
       " 'Series is Stationary',\n",
       " 'Series is Non-Stationary',\n",
       " 'Series is Stationary',\n",
       " 'Series is Stationary',\n",
       " 'Series is Stationary',\n",
       " 'Series is Stationary',\n",
       " 'Series is Stationary',\n",
       " 'Series is Stationary',\n",
       " 'Series is Stationary']"
      ]
     },
     "execution_count": 1194,
     "metadata": {},
     "output_type": "execute_result"
    }
   ],
   "source": [
    "stat_list_diff[0:10]"
   ]
  },
  {
   "cell_type": "code",
   "execution_count": 1195,
   "metadata": {
    "ExecuteTime": {
     "end_time": "2020-06-18T16:30:03.784421Z",
     "start_time": "2020-06-18T16:30:03.781338Z"
    }
   },
   "outputs": [
    {
     "data": {
      "text/plain": [
       "3841"
      ]
     },
     "execution_count": 1195,
     "metadata": {},
     "output_type": "execute_result"
    }
   ],
   "source": [
    "stat_list_diff.count('Series is Stationary')"
   ]
  },
  {
   "cell_type": "code",
   "execution_count": 1196,
   "metadata": {
    "ExecuteTime": {
     "end_time": "2020-06-18T16:30:03.807124Z",
     "start_time": "2020-06-18T16:30:03.785909Z"
    }
   },
   "outputs": [
    {
     "data": {
      "text/html": [
       "<div>\n",
       "<style scoped>\n",
       "    .dataframe tbody tr th:only-of-type {\n",
       "        vertical-align: middle;\n",
       "    }\n",
       "\n",
       "    .dataframe tbody tr th {\n",
       "        vertical-align: top;\n",
       "    }\n",
       "\n",
       "    .dataframe thead th {\n",
       "        text-align: right;\n",
       "    }\n",
       "</style>\n",
       "<table border=\"1\" class=\"dataframe\">\n",
       "  <thead>\n",
       "    <tr style=\"text-align: right;\">\n",
       "      <th></th>\n",
       "      <th>E01000001</th>\n",
       "      <th>E01000002</th>\n",
       "      <th>E01000003</th>\n",
       "      <th>E01032739</th>\n",
       "      <th>E01032740</th>\n",
       "      <th>E01000006</th>\n",
       "      <th>E01000009</th>\n",
       "      <th>E01000010</th>\n",
       "      <th>E01000012</th>\n",
       "      <th>E01000013</th>\n",
       "      <th>...</th>\n",
       "      <th>E01004765</th>\n",
       "      <th>E01033594</th>\n",
       "      <th>E01033595</th>\n",
       "      <th>E01033596</th>\n",
       "      <th>E01033600</th>\n",
       "      <th>E01033601</th>\n",
       "      <th>E01033603</th>\n",
       "      <th>E01033606</th>\n",
       "      <th>E01033607</th>\n",
       "      <th>E01033608</th>\n",
       "    </tr>\n",
       "  </thead>\n",
       "  <tbody>\n",
       "    <tr>\n",
       "      <th>1996-01-01</th>\n",
       "      <td>11000.0</td>\n",
       "      <td>15500.0</td>\n",
       "      <td>0.0</td>\n",
       "      <td>30750.0</td>\n",
       "      <td>28500.0</td>\n",
       "      <td>-2500.0</td>\n",
       "      <td>0.0</td>\n",
       "      <td>1000.0</td>\n",
       "      <td>-1400.0</td>\n",
       "      <td>-1500.0</td>\n",
       "      <td>...</td>\n",
       "      <td>10500.0</td>\n",
       "      <td>-14000.0</td>\n",
       "      <td>-7500.0</td>\n",
       "      <td>-17500.0</td>\n",
       "      <td>60000.0</td>\n",
       "      <td>0.0</td>\n",
       "      <td>-7500.0</td>\n",
       "      <td>-17500.0</td>\n",
       "      <td>2000.0</td>\n",
       "      <td>2162.5</td>\n",
       "    </tr>\n",
       "    <tr>\n",
       "      <th>1996-04-01</th>\n",
       "      <td>1750.0</td>\n",
       "      <td>-15000.0</td>\n",
       "      <td>5000.0</td>\n",
       "      <td>-3750.0</td>\n",
       "      <td>0.0</td>\n",
       "      <td>1000.0</td>\n",
       "      <td>1500.0</td>\n",
       "      <td>-4125.0</td>\n",
       "      <td>650.0</td>\n",
       "      <td>-250.0</td>\n",
       "      <td>...</td>\n",
       "      <td>6000.0</td>\n",
       "      <td>14000.0</td>\n",
       "      <td>26250.0</td>\n",
       "      <td>-7500.0</td>\n",
       "      <td>30000.0</td>\n",
       "      <td>2500.0</td>\n",
       "      <td>-4500.0</td>\n",
       "      <td>22450.0</td>\n",
       "      <td>1000.0</td>\n",
       "      <td>9675.0</td>\n",
       "    </tr>\n",
       "    <tr>\n",
       "      <th>1996-07-01</th>\n",
       "      <td>12500.0</td>\n",
       "      <td>18000.0</td>\n",
       "      <td>0.0</td>\n",
       "      <td>0.0</td>\n",
       "      <td>24000.0</td>\n",
       "      <td>0.0</td>\n",
       "      <td>-250.0</td>\n",
       "      <td>5475.0</td>\n",
       "      <td>500.0</td>\n",
       "      <td>-1750.0</td>\n",
       "      <td>...</td>\n",
       "      <td>21000.0</td>\n",
       "      <td>-69950.0</td>\n",
       "      <td>19500.0</td>\n",
       "      <td>-19000.0</td>\n",
       "      <td>0.0</td>\n",
       "      <td>37500.0</td>\n",
       "      <td>0.0</td>\n",
       "      <td>0.0</td>\n",
       "      <td>60000.0</td>\n",
       "      <td>6000.0</td>\n",
       "    </tr>\n",
       "    <tr>\n",
       "      <th>1996-10-01</th>\n",
       "      <td>16250.0</td>\n",
       "      <td>-9500.0</td>\n",
       "      <td>-3000.0</td>\n",
       "      <td>-16250.0</td>\n",
       "      <td>-14000.0</td>\n",
       "      <td>2500.0</td>\n",
       "      <td>-4250.0</td>\n",
       "      <td>-5475.0</td>\n",
       "      <td>-500.0</td>\n",
       "      <td>2250.0</td>\n",
       "      <td>...</td>\n",
       "      <td>7500.0</td>\n",
       "      <td>17950.0</td>\n",
       "      <td>750.0</td>\n",
       "      <td>-11000.0</td>\n",
       "      <td>0.0</td>\n",
       "      <td>0.0</td>\n",
       "      <td>3875.0</td>\n",
       "      <td>10300.0</td>\n",
       "      <td>32500.0</td>\n",
       "      <td>3000.0</td>\n",
       "    </tr>\n",
       "    <tr>\n",
       "      <th>1997-01-01</th>\n",
       "      <td>-8250.0</td>\n",
       "      <td>-2500.0</td>\n",
       "      <td>31892.5</td>\n",
       "      <td>-8750.0</td>\n",
       "      <td>-9000.0</td>\n",
       "      <td>-18000.0</td>\n",
       "      <td>6995.0</td>\n",
       "      <td>-3500.0</td>\n",
       "      <td>1000.0</td>\n",
       "      <td>2250.0</td>\n",
       "      <td>...</td>\n",
       "      <td>-25000.0</td>\n",
       "      <td>2000.0</td>\n",
       "      <td>31000.0</td>\n",
       "      <td>8500.0</td>\n",
       "      <td>-9250.0</td>\n",
       "      <td>-27500.0</td>\n",
       "      <td>49375.0</td>\n",
       "      <td>-5900.0</td>\n",
       "      <td>52500.0</td>\n",
       "      <td>27000.0</td>\n",
       "    </tr>\n",
       "  </tbody>\n",
       "</table>\n",
       "<p>5 rows × 4262 columns</p>\n",
       "</div>"
      ],
      "text/plain": [
       "            E01000001  E01000002  E01000003  E01032739  E01032740  E01000006  \\\n",
       "1996-01-01    11000.0    15500.0        0.0    30750.0    28500.0    -2500.0   \n",
       "1996-04-01     1750.0   -15000.0     5000.0    -3750.0        0.0     1000.0   \n",
       "1996-07-01    12500.0    18000.0        0.0        0.0    24000.0        0.0   \n",
       "1996-10-01    16250.0    -9500.0    -3000.0   -16250.0   -14000.0     2500.0   \n",
       "1997-01-01    -8250.0    -2500.0    31892.5    -8750.0    -9000.0   -18000.0   \n",
       "\n",
       "            E01000009  E01000010  E01000012  E01000013  ...  E01004765  \\\n",
       "1996-01-01        0.0     1000.0    -1400.0    -1500.0  ...    10500.0   \n",
       "1996-04-01     1500.0    -4125.0      650.0     -250.0  ...     6000.0   \n",
       "1996-07-01     -250.0     5475.0      500.0    -1750.0  ...    21000.0   \n",
       "1996-10-01    -4250.0    -5475.0     -500.0     2250.0  ...     7500.0   \n",
       "1997-01-01     6995.0    -3500.0     1000.0     2250.0  ...   -25000.0   \n",
       "\n",
       "            E01033594  E01033595  E01033596  E01033600  E01033601  E01033603  \\\n",
       "1996-01-01   -14000.0    -7500.0   -17500.0    60000.0        0.0    -7500.0   \n",
       "1996-04-01    14000.0    26250.0    -7500.0    30000.0     2500.0    -4500.0   \n",
       "1996-07-01   -69950.0    19500.0   -19000.0        0.0    37500.0        0.0   \n",
       "1996-10-01    17950.0      750.0   -11000.0        0.0        0.0     3875.0   \n",
       "1997-01-01     2000.0    31000.0     8500.0    -9250.0   -27500.0    49375.0   \n",
       "\n",
       "            E01033606  E01033607  E01033608  \n",
       "1996-01-01   -17500.0     2000.0     2162.5  \n",
       "1996-04-01    22450.0     1000.0     9675.0  \n",
       "1996-07-01        0.0    60000.0     6000.0  \n",
       "1996-10-01    10300.0    32500.0     3000.0  \n",
       "1997-01-01    -5900.0    52500.0    27000.0  \n",
       "\n",
       "[5 rows x 4262 columns]"
      ]
     },
     "execution_count": 1196,
     "metadata": {},
     "output_type": "execute_result"
    }
   ],
   "source": [
    "df_med_int_differenced.head()"
   ]
  },
  {
   "cell_type": "code",
   "execution_count": 1576,
   "metadata": {
    "ExecuteTime": {
     "end_time": "2020-06-19T15:09:38.581649Z",
     "start_time": "2020-06-19T15:09:38.578167Z"
    }
   },
   "outputs": [
    {
     "data": {
      "text/plain": [
       "(96, 4262)"
      ]
     },
     "execution_count": 1576,
     "metadata": {},
     "output_type": "execute_result"
    }
   ],
   "source": [
    "df_med_int.shape"
   ]
  },
  {
   "cell_type": "code",
   "execution_count": 1582,
   "metadata": {
    "ExecuteTime": {
     "end_time": "2020-06-19T15:10:40.837379Z",
     "start_time": "2020-06-19T15:10:40.829167Z"
    }
   },
   "outputs": [],
   "source": [
    "# 2st difference\n",
    "df_med_int_differenced_2 = df_med_int.diff().diff().dropna()"
   ]
  },
  {
   "cell_type": "code",
   "execution_count": 1583,
   "metadata": {
    "ExecuteTime": {
     "end_time": "2020-06-19T15:11:05.482630Z",
     "start_time": "2020-06-19T15:10:41.446318Z"
    }
   },
   "outputs": [],
   "source": [
    "stat_list_diff_2 = []\n",
    "\n",
    "for i in df_med_int.columns:\n",
    "#     print(i)\n",
    "    stat_list_diff_2.append(adf_test(df_med_int_differenced_2[f'{i}']))\n",
    "    "
   ]
  },
  {
   "cell_type": "code",
   "execution_count": 1584,
   "metadata": {
    "ExecuteTime": {
     "end_time": "2020-06-19T15:11:05.488658Z",
     "start_time": "2020-06-19T15:11:05.484889Z"
    }
   },
   "outputs": [
    {
     "data": {
      "text/plain": [
       "(94, 4262)"
      ]
     },
     "execution_count": 1584,
     "metadata": {},
     "output_type": "execute_result"
    }
   ],
   "source": [
    "df_med_int_differenced_2.shape"
   ]
  },
  {
   "cell_type": "code",
   "execution_count": 1585,
   "metadata": {
    "ExecuteTime": {
     "end_time": "2020-06-19T15:11:05.495333Z",
     "start_time": "2020-06-19T15:11:05.491678Z"
    }
   },
   "outputs": [
    {
     "data": {
      "text/plain": [
       "['Series is Stationary',\n",
       " 'Series is Stationary',\n",
       " 'Series is Stationary',\n",
       " 'Series is Stationary',\n",
       " 'Series is Stationary',\n",
       " 'Series is Stationary',\n",
       " 'Series is Stationary',\n",
       " 'Series is Stationary',\n",
       " 'Series is Stationary',\n",
       " 'Series is Stationary']"
      ]
     },
     "execution_count": 1585,
     "metadata": {},
     "output_type": "execute_result"
    }
   ],
   "source": [
    "stat_list_diff_2[0:10]"
   ]
  },
  {
   "cell_type": "code",
   "execution_count": 1586,
   "metadata": {
    "ExecuteTime": {
     "end_time": "2020-06-19T15:11:05.500009Z",
     "start_time": "2020-06-19T15:11:05.497041Z"
    }
   },
   "outputs": [
    {
     "data": {
      "text/plain": [
       "4197"
      ]
     },
     "execution_count": 1586,
     "metadata": {},
     "output_type": "execute_result"
    }
   ],
   "source": [
    "stat_list_diff_2.count('Series is Stationary')"
   ]
  },
  {
   "cell_type": "code",
   "execution_count": 1526,
   "metadata": {
    "ExecuteTime": {
     "end_time": "2020-06-19T14:39:49.669405Z",
     "start_time": "2020-06-19T14:39:49.646993Z"
    }
   },
   "outputs": [
    {
     "data": {
      "text/html": [
       "<div>\n",
       "<style scoped>\n",
       "    .dataframe tbody tr th:only-of-type {\n",
       "        vertical-align: middle;\n",
       "    }\n",
       "\n",
       "    .dataframe tbody tr th {\n",
       "        vertical-align: top;\n",
       "    }\n",
       "\n",
       "    .dataframe thead th {\n",
       "        text-align: right;\n",
       "    }\n",
       "</style>\n",
       "<table border=\"1\" class=\"dataframe\">\n",
       "  <thead>\n",
       "    <tr style=\"text-align: right;\">\n",
       "      <th></th>\n",
       "      <th>E01000001</th>\n",
       "      <th>E01000002</th>\n",
       "      <th>E01000003</th>\n",
       "      <th>E01032739</th>\n",
       "      <th>E01032740</th>\n",
       "      <th>E01000006</th>\n",
       "      <th>E01000009</th>\n",
       "      <th>E01000010</th>\n",
       "      <th>E01000012</th>\n",
       "      <th>E01000013</th>\n",
       "      <th>...</th>\n",
       "      <th>E01004765</th>\n",
       "      <th>E01033594</th>\n",
       "      <th>E01033595</th>\n",
       "      <th>E01033596</th>\n",
       "      <th>E01033600</th>\n",
       "      <th>E01033601</th>\n",
       "      <th>E01033603</th>\n",
       "      <th>E01033606</th>\n",
       "      <th>E01033607</th>\n",
       "      <th>E01033608</th>\n",
       "    </tr>\n",
       "  </thead>\n",
       "  <tbody>\n",
       "    <tr>\n",
       "      <th>1996-04-01</th>\n",
       "      <td>-9250.0</td>\n",
       "      <td>-30500.0</td>\n",
       "      <td>5000.0</td>\n",
       "      <td>-34500.0</td>\n",
       "      <td>-28500.0</td>\n",
       "      <td>3500.0</td>\n",
       "      <td>1500.0</td>\n",
       "      <td>-5125.0</td>\n",
       "      <td>2050.0</td>\n",
       "      <td>1250.0</td>\n",
       "      <td>...</td>\n",
       "      <td>-4500.0</td>\n",
       "      <td>28000.0</td>\n",
       "      <td>33750.0</td>\n",
       "      <td>10000.0</td>\n",
       "      <td>-30000.0</td>\n",
       "      <td>2500.0</td>\n",
       "      <td>3000.0</td>\n",
       "      <td>39950.0</td>\n",
       "      <td>-1000.0</td>\n",
       "      <td>7512.5</td>\n",
       "    </tr>\n",
       "    <tr>\n",
       "      <th>1996-07-01</th>\n",
       "      <td>10750.0</td>\n",
       "      <td>33000.0</td>\n",
       "      <td>-5000.0</td>\n",
       "      <td>3750.0</td>\n",
       "      <td>24000.0</td>\n",
       "      <td>-1000.0</td>\n",
       "      <td>-1750.0</td>\n",
       "      <td>9600.0</td>\n",
       "      <td>-150.0</td>\n",
       "      <td>-1500.0</td>\n",
       "      <td>...</td>\n",
       "      <td>15000.0</td>\n",
       "      <td>-83950.0</td>\n",
       "      <td>-6750.0</td>\n",
       "      <td>-11500.0</td>\n",
       "      <td>-30000.0</td>\n",
       "      <td>35000.0</td>\n",
       "      <td>4500.0</td>\n",
       "      <td>-22450.0</td>\n",
       "      <td>59000.0</td>\n",
       "      <td>-3675.0</td>\n",
       "    </tr>\n",
       "    <tr>\n",
       "      <th>1996-10-01</th>\n",
       "      <td>3750.0</td>\n",
       "      <td>-27500.0</td>\n",
       "      <td>-3000.0</td>\n",
       "      <td>-16250.0</td>\n",
       "      <td>-38000.0</td>\n",
       "      <td>2500.0</td>\n",
       "      <td>-4000.0</td>\n",
       "      <td>-10950.0</td>\n",
       "      <td>-1000.0</td>\n",
       "      <td>4000.0</td>\n",
       "      <td>...</td>\n",
       "      <td>-13500.0</td>\n",
       "      <td>87900.0</td>\n",
       "      <td>-18750.0</td>\n",
       "      <td>8000.0</td>\n",
       "      <td>0.0</td>\n",
       "      <td>-37500.0</td>\n",
       "      <td>3875.0</td>\n",
       "      <td>10300.0</td>\n",
       "      <td>-27500.0</td>\n",
       "      <td>-3000.0</td>\n",
       "    </tr>\n",
       "    <tr>\n",
       "      <th>1997-01-01</th>\n",
       "      <td>-24500.0</td>\n",
       "      <td>7000.0</td>\n",
       "      <td>34892.5</td>\n",
       "      <td>7500.0</td>\n",
       "      <td>5000.0</td>\n",
       "      <td>-20500.0</td>\n",
       "      <td>11245.0</td>\n",
       "      <td>1975.0</td>\n",
       "      <td>1500.0</td>\n",
       "      <td>0.0</td>\n",
       "      <td>...</td>\n",
       "      <td>-32500.0</td>\n",
       "      <td>-15950.0</td>\n",
       "      <td>30250.0</td>\n",
       "      <td>19500.0</td>\n",
       "      <td>-9250.0</td>\n",
       "      <td>-27500.0</td>\n",
       "      <td>45500.0</td>\n",
       "      <td>-16200.0</td>\n",
       "      <td>20000.0</td>\n",
       "      <td>24000.0</td>\n",
       "    </tr>\n",
       "    <tr>\n",
       "      <th>1997-04-01</th>\n",
       "      <td>17500.0</td>\n",
       "      <td>5000.0</td>\n",
       "      <td>-19785.0</td>\n",
       "      <td>8750.0</td>\n",
       "      <td>20500.0</td>\n",
       "      <td>13247.5</td>\n",
       "      <td>-13990.0</td>\n",
       "      <td>7500.0</td>\n",
       "      <td>-1000.0</td>\n",
       "      <td>1000.0</td>\n",
       "      <td>...</td>\n",
       "      <td>19000.0</td>\n",
       "      <td>84500.0</td>\n",
       "      <td>19000.0</td>\n",
       "      <td>-9500.0</td>\n",
       "      <td>-36550.0</td>\n",
       "      <td>18000.0</td>\n",
       "      <td>-75875.0</td>\n",
       "      <td>-3450.0</td>\n",
       "      <td>-65000.0</td>\n",
       "      <td>-23000.0</td>\n",
       "    </tr>\n",
       "  </tbody>\n",
       "</table>\n",
       "<p>5 rows × 4262 columns</p>\n",
       "</div>"
      ],
      "text/plain": [
       "            E01000001  E01000002  E01000003  E01032739  E01032740  E01000006  \\\n",
       "1996-04-01    -9250.0   -30500.0     5000.0   -34500.0   -28500.0     3500.0   \n",
       "1996-07-01    10750.0    33000.0    -5000.0     3750.0    24000.0    -1000.0   \n",
       "1996-10-01     3750.0   -27500.0    -3000.0   -16250.0   -38000.0     2500.0   \n",
       "1997-01-01   -24500.0     7000.0    34892.5     7500.0     5000.0   -20500.0   \n",
       "1997-04-01    17500.0     5000.0   -19785.0     8750.0    20500.0    13247.5   \n",
       "\n",
       "            E01000009  E01000010  E01000012  E01000013  ...  E01004765  \\\n",
       "1996-04-01     1500.0    -5125.0     2050.0     1250.0  ...    -4500.0   \n",
       "1996-07-01    -1750.0     9600.0     -150.0    -1500.0  ...    15000.0   \n",
       "1996-10-01    -4000.0   -10950.0    -1000.0     4000.0  ...   -13500.0   \n",
       "1997-01-01    11245.0     1975.0     1500.0        0.0  ...   -32500.0   \n",
       "1997-04-01   -13990.0     7500.0    -1000.0     1000.0  ...    19000.0   \n",
       "\n",
       "            E01033594  E01033595  E01033596  E01033600  E01033601  E01033603  \\\n",
       "1996-04-01    28000.0    33750.0    10000.0   -30000.0     2500.0     3000.0   \n",
       "1996-07-01   -83950.0    -6750.0   -11500.0   -30000.0    35000.0     4500.0   \n",
       "1996-10-01    87900.0   -18750.0     8000.0        0.0   -37500.0     3875.0   \n",
       "1997-01-01   -15950.0    30250.0    19500.0    -9250.0   -27500.0    45500.0   \n",
       "1997-04-01    84500.0    19000.0    -9500.0   -36550.0    18000.0   -75875.0   \n",
       "\n",
       "            E01033606  E01033607  E01033608  \n",
       "1996-04-01    39950.0    -1000.0     7512.5  \n",
       "1996-07-01   -22450.0    59000.0    -3675.0  \n",
       "1996-10-01    10300.0   -27500.0    -3000.0  \n",
       "1997-01-01   -16200.0    20000.0    24000.0  \n",
       "1997-04-01    -3450.0   -65000.0   -23000.0  \n",
       "\n",
       "[5 rows x 4262 columns]"
      ]
     },
     "execution_count": 1526,
     "metadata": {},
     "output_type": "execute_result"
    }
   ],
   "source": [
    "df_med_int_differenced_2.head()"
   ]
  },
  {
   "cell_type": "code",
   "execution_count": 1587,
   "metadata": {
    "ExecuteTime": {
     "end_time": "2020-06-19T15:11:17.867855Z",
     "start_time": "2020-06-19T15:11:17.863630Z"
    }
   },
   "outputs": [],
   "source": [
    "diff_columns = [i for i, j in enumerate(stat_list_diff_2) if j == 'Series is Stationary']"
   ]
  },
  {
   "cell_type": "code",
   "execution_count": 1588,
   "metadata": {
    "ExecuteTime": {
     "end_time": "2020-06-19T15:11:18.672436Z",
     "start_time": "2020-06-19T15:11:18.668987Z"
    }
   },
   "outputs": [
    {
     "data": {
      "text/plain": [
       "4197"
      ]
     },
     "execution_count": 1588,
     "metadata": {},
     "output_type": "execute_result"
    }
   ],
   "source": [
    "len(diff_columns)"
   ]
  },
  {
   "cell_type": "code",
   "execution_count": 1589,
   "metadata": {
    "ExecuteTime": {
     "end_time": "2020-06-19T15:11:20.606767Z",
     "start_time": "2020-06-19T15:11:20.601747Z"
    }
   },
   "outputs": [],
   "source": [
    "df_med_int_diff = df_med_int_differenced_2.iloc[:, diff_columns]"
   ]
  },
  {
   "cell_type": "code",
   "execution_count": 1590,
   "metadata": {
    "ExecuteTime": {
     "end_time": "2020-06-19T15:11:21.994652Z",
     "start_time": "2020-06-19T15:11:21.971913Z"
    }
   },
   "outputs": [
    {
     "data": {
      "text/html": [
       "<div>\n",
       "<style scoped>\n",
       "    .dataframe tbody tr th:only-of-type {\n",
       "        vertical-align: middle;\n",
       "    }\n",
       "\n",
       "    .dataframe tbody tr th {\n",
       "        vertical-align: top;\n",
       "    }\n",
       "\n",
       "    .dataframe thead th {\n",
       "        text-align: right;\n",
       "    }\n",
       "</style>\n",
       "<table border=\"1\" class=\"dataframe\">\n",
       "  <thead>\n",
       "    <tr style=\"text-align: right;\">\n",
       "      <th></th>\n",
       "      <th>E01000001</th>\n",
       "      <th>E01000002</th>\n",
       "      <th>E01000003</th>\n",
       "      <th>E01032739</th>\n",
       "      <th>E01032740</th>\n",
       "      <th>E01000006</th>\n",
       "      <th>E01000009</th>\n",
       "      <th>E01000010</th>\n",
       "      <th>E01000012</th>\n",
       "      <th>E01000013</th>\n",
       "      <th>...</th>\n",
       "      <th>E01004765</th>\n",
       "      <th>E01033594</th>\n",
       "      <th>E01033595</th>\n",
       "      <th>E01033596</th>\n",
       "      <th>E01033600</th>\n",
       "      <th>E01033601</th>\n",
       "      <th>E01033603</th>\n",
       "      <th>E01033606</th>\n",
       "      <th>E01033607</th>\n",
       "      <th>E01033608</th>\n",
       "    </tr>\n",
       "  </thead>\n",
       "  <tbody>\n",
       "    <tr>\n",
       "      <th>1996-04-01</th>\n",
       "      <td>-9250.0</td>\n",
       "      <td>-30500.0</td>\n",
       "      <td>5000.0</td>\n",
       "      <td>-34500.0</td>\n",
       "      <td>-28500.0</td>\n",
       "      <td>3500.0</td>\n",
       "      <td>1500.0</td>\n",
       "      <td>-5125.0</td>\n",
       "      <td>2050.0</td>\n",
       "      <td>1250.0</td>\n",
       "      <td>...</td>\n",
       "      <td>-4500.0</td>\n",
       "      <td>28000.0</td>\n",
       "      <td>33750.0</td>\n",
       "      <td>10000.0</td>\n",
       "      <td>-30000.0</td>\n",
       "      <td>2500.0</td>\n",
       "      <td>3000.0</td>\n",
       "      <td>39950.0</td>\n",
       "      <td>-1000.0</td>\n",
       "      <td>7512.5</td>\n",
       "    </tr>\n",
       "    <tr>\n",
       "      <th>1996-07-01</th>\n",
       "      <td>10750.0</td>\n",
       "      <td>33000.0</td>\n",
       "      <td>-5000.0</td>\n",
       "      <td>3750.0</td>\n",
       "      <td>24000.0</td>\n",
       "      <td>-1000.0</td>\n",
       "      <td>-1750.0</td>\n",
       "      <td>9600.0</td>\n",
       "      <td>-150.0</td>\n",
       "      <td>-1500.0</td>\n",
       "      <td>...</td>\n",
       "      <td>15000.0</td>\n",
       "      <td>-83950.0</td>\n",
       "      <td>-6750.0</td>\n",
       "      <td>-11500.0</td>\n",
       "      <td>-30000.0</td>\n",
       "      <td>35000.0</td>\n",
       "      <td>4500.0</td>\n",
       "      <td>-22450.0</td>\n",
       "      <td>59000.0</td>\n",
       "      <td>-3675.0</td>\n",
       "    </tr>\n",
       "    <tr>\n",
       "      <th>1996-10-01</th>\n",
       "      <td>3750.0</td>\n",
       "      <td>-27500.0</td>\n",
       "      <td>-3000.0</td>\n",
       "      <td>-16250.0</td>\n",
       "      <td>-38000.0</td>\n",
       "      <td>2500.0</td>\n",
       "      <td>-4000.0</td>\n",
       "      <td>-10950.0</td>\n",
       "      <td>-1000.0</td>\n",
       "      <td>4000.0</td>\n",
       "      <td>...</td>\n",
       "      <td>-13500.0</td>\n",
       "      <td>87900.0</td>\n",
       "      <td>-18750.0</td>\n",
       "      <td>8000.0</td>\n",
       "      <td>0.0</td>\n",
       "      <td>-37500.0</td>\n",
       "      <td>3875.0</td>\n",
       "      <td>10300.0</td>\n",
       "      <td>-27500.0</td>\n",
       "      <td>-3000.0</td>\n",
       "    </tr>\n",
       "    <tr>\n",
       "      <th>1997-01-01</th>\n",
       "      <td>-24500.0</td>\n",
       "      <td>7000.0</td>\n",
       "      <td>34892.5</td>\n",
       "      <td>7500.0</td>\n",
       "      <td>5000.0</td>\n",
       "      <td>-20500.0</td>\n",
       "      <td>11245.0</td>\n",
       "      <td>1975.0</td>\n",
       "      <td>1500.0</td>\n",
       "      <td>0.0</td>\n",
       "      <td>...</td>\n",
       "      <td>-32500.0</td>\n",
       "      <td>-15950.0</td>\n",
       "      <td>30250.0</td>\n",
       "      <td>19500.0</td>\n",
       "      <td>-9250.0</td>\n",
       "      <td>-27500.0</td>\n",
       "      <td>45500.0</td>\n",
       "      <td>-16200.0</td>\n",
       "      <td>20000.0</td>\n",
       "      <td>24000.0</td>\n",
       "    </tr>\n",
       "    <tr>\n",
       "      <th>1997-04-01</th>\n",
       "      <td>17500.0</td>\n",
       "      <td>5000.0</td>\n",
       "      <td>-19785.0</td>\n",
       "      <td>8750.0</td>\n",
       "      <td>20500.0</td>\n",
       "      <td>13247.5</td>\n",
       "      <td>-13990.0</td>\n",
       "      <td>7500.0</td>\n",
       "      <td>-1000.0</td>\n",
       "      <td>1000.0</td>\n",
       "      <td>...</td>\n",
       "      <td>19000.0</td>\n",
       "      <td>84500.0</td>\n",
       "      <td>19000.0</td>\n",
       "      <td>-9500.0</td>\n",
       "      <td>-36550.0</td>\n",
       "      <td>18000.0</td>\n",
       "      <td>-75875.0</td>\n",
       "      <td>-3450.0</td>\n",
       "      <td>-65000.0</td>\n",
       "      <td>-23000.0</td>\n",
       "    </tr>\n",
       "  </tbody>\n",
       "</table>\n",
       "<p>5 rows × 4197 columns</p>\n",
       "</div>"
      ],
      "text/plain": [
       "            E01000001  E01000002  E01000003  E01032739  E01032740  E01000006  \\\n",
       "1996-04-01    -9250.0   -30500.0     5000.0   -34500.0   -28500.0     3500.0   \n",
       "1996-07-01    10750.0    33000.0    -5000.0     3750.0    24000.0    -1000.0   \n",
       "1996-10-01     3750.0   -27500.0    -3000.0   -16250.0   -38000.0     2500.0   \n",
       "1997-01-01   -24500.0     7000.0    34892.5     7500.0     5000.0   -20500.0   \n",
       "1997-04-01    17500.0     5000.0   -19785.0     8750.0    20500.0    13247.5   \n",
       "\n",
       "            E01000009  E01000010  E01000012  E01000013  ...  E01004765  \\\n",
       "1996-04-01     1500.0    -5125.0     2050.0     1250.0  ...    -4500.0   \n",
       "1996-07-01    -1750.0     9600.0     -150.0    -1500.0  ...    15000.0   \n",
       "1996-10-01    -4000.0   -10950.0    -1000.0     4000.0  ...   -13500.0   \n",
       "1997-01-01    11245.0     1975.0     1500.0        0.0  ...   -32500.0   \n",
       "1997-04-01   -13990.0     7500.0    -1000.0     1000.0  ...    19000.0   \n",
       "\n",
       "            E01033594  E01033595  E01033596  E01033600  E01033601  E01033603  \\\n",
       "1996-04-01    28000.0    33750.0    10000.0   -30000.0     2500.0     3000.0   \n",
       "1996-07-01   -83950.0    -6750.0   -11500.0   -30000.0    35000.0     4500.0   \n",
       "1996-10-01    87900.0   -18750.0     8000.0        0.0   -37500.0     3875.0   \n",
       "1997-01-01   -15950.0    30250.0    19500.0    -9250.0   -27500.0    45500.0   \n",
       "1997-04-01    84500.0    19000.0    -9500.0   -36550.0    18000.0   -75875.0   \n",
       "\n",
       "            E01033606  E01033607  E01033608  \n",
       "1996-04-01    39950.0    -1000.0     7512.5  \n",
       "1996-07-01   -22450.0    59000.0    -3675.0  \n",
       "1996-10-01    10300.0   -27500.0    -3000.0  \n",
       "1997-01-01   -16200.0    20000.0    24000.0  \n",
       "1997-04-01    -3450.0   -65000.0   -23000.0  \n",
       "\n",
       "[5 rows x 4197 columns]"
      ]
     },
     "execution_count": 1590,
     "metadata": {},
     "output_type": "execute_result"
    }
   ],
   "source": [
    "df_med_int_diff.head()"
   ]
  },
  {
   "cell_type": "code",
   "execution_count": 1591,
   "metadata": {
    "ExecuteTime": {
     "end_time": "2020-06-19T15:11:25.977385Z",
     "start_time": "2020-06-19T15:11:25.973990Z"
    }
   },
   "outputs": [
    {
     "data": {
      "text/plain": [
       "(96, 4262)"
      ]
     },
     "execution_count": 1591,
     "metadata": {},
     "output_type": "execute_result"
    }
   ],
   "source": [
    "df_med_int.shape"
   ]
  },
  {
   "cell_type": "code",
   "execution_count": 1592,
   "metadata": {
    "ExecuteTime": {
     "end_time": "2020-06-19T15:11:26.821554Z",
     "start_time": "2020-06-19T15:11:26.818422Z"
    }
   },
   "outputs": [
    {
     "data": {
      "text/plain": [
       "(94, 4197)"
      ]
     },
     "execution_count": 1592,
     "metadata": {},
     "output_type": "execute_result"
    }
   ],
   "source": [
    "df_med_int_diff.shape"
   ]
  },
  {
   "cell_type": "code",
   "execution_count": null,
   "metadata": {},
   "outputs": [],
   "source": []
  },
  {
   "cell_type": "code",
   "execution_count": null,
   "metadata": {},
   "outputs": [],
   "source": []
  },
  {
   "cell_type": "code",
   "execution_count": null,
   "metadata": {},
   "outputs": [],
   "source": []
  },
  {
   "cell_type": "code",
   "execution_count": 1628,
   "metadata": {
    "ExecuteTime": {
     "end_time": "2020-06-22T10:28:58.651891Z",
     "start_time": "2020-06-22T10:28:58.649729Z"
    }
   },
   "outputs": [],
   "source": [
    "# df['f'] = df['d'].rolling(2).sum().shift(-1)"
   ]
  },
  {
   "cell_type": "code",
   "execution_count": 1629,
   "metadata": {
    "ExecuteTime": {
     "end_time": "2020-06-22T10:29:00.405378Z",
     "start_time": "2020-06-22T10:29:00.403104Z"
    }
   },
   "outputs": [],
   "source": [
    "# df_med_int.shape[1] + 1"
   ]
  },
  {
   "cell_type": "code",
   "execution_count": null,
   "metadata": {},
   "outputs": [],
   "source": [
    "# from statsmodels.tsa.vector_ar.vecm import coint_johansen\n",
    "\n",
    "# def cointjohansen(data, i):\n",
    "#     johan_test_temp = df_med_int.iloc[:, i:i+12]\n",
    "    \n",
    "#     return(coint_johansen(johan_test_temp,-1,1).eig)"
   ]
  },
  {
   "cell_type": "code",
   "execution_count": 1626,
   "metadata": {
    "ExecuteTime": {
     "end_time": "2020-06-22T10:28:51.982902Z",
     "start_time": "2020-06-22T10:28:51.980913Z"
    },
    "scrolled": true
   },
   "outputs": [],
   "source": [
    "\n",
    "# for i in range(20):\n",
    "# #     print(i)\n",
    "#     johan_test_temp = df_med_int.iloc[:, i:i+12]\n",
    "#     print(coint_johansen(johan_test_temp,-1,1).eig)\n",
    "#     print()\n",
    "    "
   ]
  },
  {
   "cell_type": "code",
   "execution_count": 1627,
   "metadata": {
    "ExecuteTime": {
     "end_time": "2020-06-22T10:28:54.544732Z",
     "start_time": "2020-06-22T10:28:54.542742Z"
    }
   },
   "outputs": [],
   "source": [
    "# johan_test_temp = data.drop([ 'CO(GT)'], axis=1)\n",
    "# coint_johansen(johan_test_temp,-1,1).eig"
   ]
  },
  {
   "cell_type": "code",
   "execution_count": null,
   "metadata": {},
   "outputs": [],
   "source": []
  },
  {
   "cell_type": "code",
   "execution_count": null,
   "metadata": {},
   "outputs": [],
   "source": []
  },
  {
   "cell_type": "code",
   "execution_count": null,
   "metadata": {},
   "outputs": [],
   "source": []
  },
  {
   "cell_type": "code",
   "execution_count": null,
   "metadata": {},
   "outputs": [],
   "source": []
  },
  {
   "cell_type": "code",
   "execution_count": 1593,
   "metadata": {
    "ExecuteTime": {
     "end_time": "2020-06-19T15:11:32.194690Z",
     "start_time": "2020-06-19T15:11:32.171115Z"
    }
   },
   "outputs": [
    {
     "data": {
      "text/html": [
       "<div>\n",
       "<style scoped>\n",
       "    .dataframe tbody tr th:only-of-type {\n",
       "        vertical-align: middle;\n",
       "    }\n",
       "\n",
       "    .dataframe tbody tr th {\n",
       "        vertical-align: top;\n",
       "    }\n",
       "\n",
       "    .dataframe thead th {\n",
       "        text-align: right;\n",
       "    }\n",
       "</style>\n",
       "<table border=\"1\" class=\"dataframe\">\n",
       "  <thead>\n",
       "    <tr style=\"text-align: right;\">\n",
       "      <th></th>\n",
       "      <th>E01000001</th>\n",
       "      <th>E01000002</th>\n",
       "      <th>E01000003</th>\n",
       "      <th>E01032739</th>\n",
       "      <th>E01032740</th>\n",
       "      <th>E01000006</th>\n",
       "      <th>E01000009</th>\n",
       "      <th>E01000010</th>\n",
       "      <th>E01000012</th>\n",
       "      <th>E01000013</th>\n",
       "      <th>...</th>\n",
       "      <th>E01004765</th>\n",
       "      <th>E01033594</th>\n",
       "      <th>E01033595</th>\n",
       "      <th>E01033596</th>\n",
       "      <th>E01033600</th>\n",
       "      <th>E01033601</th>\n",
       "      <th>E01033603</th>\n",
       "      <th>E01033606</th>\n",
       "      <th>E01033607</th>\n",
       "      <th>E01033608</th>\n",
       "    </tr>\n",
       "  </thead>\n",
       "  <tbody>\n",
       "    <tr>\n",
       "      <th>2018-07-01</th>\n",
       "      <td>850000.0</td>\n",
       "      <td>807500.0</td>\n",
       "      <td>690500.0</td>\n",
       "      <td>927500.0</td>\n",
       "      <td>987000.0</td>\n",
       "      <td>385000.0</td>\n",
       "      <td>217500.0</td>\n",
       "      <td>227500.0</td>\n",
       "      <td>218750.0</td>\n",
       "      <td>315000.0</td>\n",
       "      <td>...</td>\n",
       "      <td>1650000.0</td>\n",
       "      <td>1235000.0</td>\n",
       "      <td>4052560.0</td>\n",
       "      <td>1050000.0</td>\n",
       "      <td>897500.0</td>\n",
       "      <td>662308.075773</td>\n",
       "      <td>585000.0</td>\n",
       "      <td>696000</td>\n",
       "      <td>670000</td>\n",
       "      <td>1.040000e+06</td>\n",
       "    </tr>\n",
       "    <tr>\n",
       "      <th>2018-10-01</th>\n",
       "      <td>834750.0</td>\n",
       "      <td>830000.0</td>\n",
       "      <td>651000.0</td>\n",
       "      <td>941160.0</td>\n",
       "      <td>1255500.0</td>\n",
       "      <td>365000.0</td>\n",
       "      <td>200000.0</td>\n",
       "      <td>228750.0</td>\n",
       "      <td>212500.0</td>\n",
       "      <td>315000.0</td>\n",
       "      <td>...</td>\n",
       "      <td>1455000.0</td>\n",
       "      <td>1195000.0</td>\n",
       "      <td>2525000.0</td>\n",
       "      <td>1050000.0</td>\n",
       "      <td>897500.0</td>\n",
       "      <td>650383.848455</td>\n",
       "      <td>505000.0</td>\n",
       "      <td>610000</td>\n",
       "      <td>712500</td>\n",
       "      <td>9.800000e+05</td>\n",
       "    </tr>\n",
       "    <tr>\n",
       "      <th>2019-01-01</th>\n",
       "      <td>815000.0</td>\n",
       "      <td>835000.0</td>\n",
       "      <td>599500.0</td>\n",
       "      <td>964500.0</td>\n",
       "      <td>1277750.0</td>\n",
       "      <td>282000.0</td>\n",
       "      <td>195000.0</td>\n",
       "      <td>226250.0</td>\n",
       "      <td>228750.0</td>\n",
       "      <td>306000.0</td>\n",
       "      <td>...</td>\n",
       "      <td>1595000.0</td>\n",
       "      <td>1385000.0</td>\n",
       "      <td>2300000.0</td>\n",
       "      <td>1011000.0</td>\n",
       "      <td>887500.0</td>\n",
       "      <td>638459.621137</td>\n",
       "      <td>730000.0</td>\n",
       "      <td>652500</td>\n",
       "      <td>637500</td>\n",
       "      <td>6.800000e+05</td>\n",
       "    </tr>\n",
       "    <tr>\n",
       "      <th>2019-04-01</th>\n",
       "      <td>847500.0</td>\n",
       "      <td>857500.0</td>\n",
       "      <td>599000.0</td>\n",
       "      <td>941160.0</td>\n",
       "      <td>1339500.0</td>\n",
       "      <td>205000.0</td>\n",
       "      <td>195000.0</td>\n",
       "      <td>223000.0</td>\n",
       "      <td>230000.0</td>\n",
       "      <td>305000.0</td>\n",
       "      <td>...</td>\n",
       "      <td>1037500.0</td>\n",
       "      <td>1250000.0</td>\n",
       "      <td>1235000.0</td>\n",
       "      <td>1011000.0</td>\n",
       "      <td>1101250.0</td>\n",
       "      <td>626794.616152</td>\n",
       "      <td>730000.0</td>\n",
       "      <td>652500</td>\n",
       "      <td>4230000</td>\n",
       "      <td>6.402210e+05</td>\n",
       "    </tr>\n",
       "    <tr>\n",
       "      <th>2019-07-01</th>\n",
       "      <td>887500.0</td>\n",
       "      <td>880000.0</td>\n",
       "      <td>575000.0</td>\n",
       "      <td>996075.0</td>\n",
       "      <td>990000.0</td>\n",
       "      <td>292500.0</td>\n",
       "      <td>195000.0</td>\n",
       "      <td>215000.0</td>\n",
       "      <td>230000.0</td>\n",
       "      <td>313250.0</td>\n",
       "      <td>...</td>\n",
       "      <td>1253500.0</td>\n",
       "      <td>1385000.0</td>\n",
       "      <td>1685000.0</td>\n",
       "      <td>600000.0</td>\n",
       "      <td>725000.0</td>\n",
       "      <td>615000.000000</td>\n",
       "      <td>520918.5</td>\n",
       "      <td>652500</td>\n",
       "      <td>4450000</td>\n",
       "      <td>6.000000e+05</td>\n",
       "    </tr>\n",
       "  </tbody>\n",
       "</table>\n",
       "<p>5 rows × 4262 columns</p>\n",
       "</div>"
      ],
      "text/plain": [
       "            E01000001  E01000002  E01000003  E01032739  E01032740  E01000006  \\\n",
       "2018-07-01   850000.0   807500.0   690500.0   927500.0   987000.0   385000.0   \n",
       "2018-10-01   834750.0   830000.0   651000.0   941160.0  1255500.0   365000.0   \n",
       "2019-01-01   815000.0   835000.0   599500.0   964500.0  1277750.0   282000.0   \n",
       "2019-04-01   847500.0   857500.0   599000.0   941160.0  1339500.0   205000.0   \n",
       "2019-07-01   887500.0   880000.0   575000.0   996075.0   990000.0   292500.0   \n",
       "\n",
       "            E01000009  E01000010  E01000012  E01000013  ...  E01004765  \\\n",
       "2018-07-01   217500.0   227500.0   218750.0   315000.0  ...  1650000.0   \n",
       "2018-10-01   200000.0   228750.0   212500.0   315000.0  ...  1455000.0   \n",
       "2019-01-01   195000.0   226250.0   228750.0   306000.0  ...  1595000.0   \n",
       "2019-04-01   195000.0   223000.0   230000.0   305000.0  ...  1037500.0   \n",
       "2019-07-01   195000.0   215000.0   230000.0   313250.0  ...  1253500.0   \n",
       "\n",
       "            E01033594  E01033595  E01033596  E01033600      E01033601  \\\n",
       "2018-07-01  1235000.0  4052560.0  1050000.0   897500.0  662308.075773   \n",
       "2018-10-01  1195000.0  2525000.0  1050000.0   897500.0  650383.848455   \n",
       "2019-01-01  1385000.0  2300000.0  1011000.0   887500.0  638459.621137   \n",
       "2019-04-01  1250000.0  1235000.0  1011000.0  1101250.0  626794.616152   \n",
       "2019-07-01  1385000.0  1685000.0   600000.0   725000.0  615000.000000   \n",
       "\n",
       "            E01033603  E01033606  E01033607     E01033608  \n",
       "2018-07-01   585000.0     696000     670000  1.040000e+06  \n",
       "2018-10-01   505000.0     610000     712500  9.800000e+05  \n",
       "2019-01-01   730000.0     652500     637500  6.800000e+05  \n",
       "2019-04-01   730000.0     652500    4230000  6.402210e+05  \n",
       "2019-07-01   520918.5     652500    4450000  6.000000e+05  \n",
       "\n",
       "[5 rows x 4262 columns]"
      ]
     },
     "execution_count": 1593,
     "metadata": {},
     "output_type": "execute_result"
    }
   ],
   "source": [
    "df_med_int.tail()"
   ]
  },
  {
   "cell_type": "code",
   "execution_count": 1594,
   "metadata": {
    "ExecuteTime": {
     "end_time": "2020-06-19T15:11:32.981252Z",
     "start_time": "2020-06-19T15:11:32.958689Z"
    }
   },
   "outputs": [
    {
     "data": {
      "text/html": [
       "<div>\n",
       "<style scoped>\n",
       "    .dataframe tbody tr th:only-of-type {\n",
       "        vertical-align: middle;\n",
       "    }\n",
       "\n",
       "    .dataframe tbody tr th {\n",
       "        vertical-align: top;\n",
       "    }\n",
       "\n",
       "    .dataframe thead th {\n",
       "        text-align: right;\n",
       "    }\n",
       "</style>\n",
       "<table border=\"1\" class=\"dataframe\">\n",
       "  <thead>\n",
       "    <tr style=\"text-align: right;\">\n",
       "      <th></th>\n",
       "      <th>E01000001</th>\n",
       "      <th>E01000002</th>\n",
       "      <th>E01000003</th>\n",
       "      <th>E01032739</th>\n",
       "      <th>E01032740</th>\n",
       "      <th>E01000006</th>\n",
       "      <th>E01000009</th>\n",
       "      <th>E01000010</th>\n",
       "      <th>E01000012</th>\n",
       "      <th>E01000013</th>\n",
       "      <th>...</th>\n",
       "      <th>E01004765</th>\n",
       "      <th>E01033594</th>\n",
       "      <th>E01033595</th>\n",
       "      <th>E01033596</th>\n",
       "      <th>E01033600</th>\n",
       "      <th>E01033601</th>\n",
       "      <th>E01033603</th>\n",
       "      <th>E01033606</th>\n",
       "      <th>E01033607</th>\n",
       "      <th>E01033608</th>\n",
       "    </tr>\n",
       "  </thead>\n",
       "  <tbody>\n",
       "    <tr>\n",
       "      <th>1996-04-01</th>\n",
       "      <td>-9250.0</td>\n",
       "      <td>-30500.0</td>\n",
       "      <td>5000.0</td>\n",
       "      <td>-34500.0</td>\n",
       "      <td>-28500.0</td>\n",
       "      <td>3500.0</td>\n",
       "      <td>1500.0</td>\n",
       "      <td>-5125.0</td>\n",
       "      <td>2050.0</td>\n",
       "      <td>1250.0</td>\n",
       "      <td>...</td>\n",
       "      <td>-4500.0</td>\n",
       "      <td>28000.0</td>\n",
       "      <td>33750.0</td>\n",
       "      <td>10000.0</td>\n",
       "      <td>-30000.0</td>\n",
       "      <td>2500.0</td>\n",
       "      <td>3000.0</td>\n",
       "      <td>39950.0</td>\n",
       "      <td>-1000.0</td>\n",
       "      <td>7512.5</td>\n",
       "    </tr>\n",
       "    <tr>\n",
       "      <th>1996-07-01</th>\n",
       "      <td>10750.0</td>\n",
       "      <td>33000.0</td>\n",
       "      <td>-5000.0</td>\n",
       "      <td>3750.0</td>\n",
       "      <td>24000.0</td>\n",
       "      <td>-1000.0</td>\n",
       "      <td>-1750.0</td>\n",
       "      <td>9600.0</td>\n",
       "      <td>-150.0</td>\n",
       "      <td>-1500.0</td>\n",
       "      <td>...</td>\n",
       "      <td>15000.0</td>\n",
       "      <td>-83950.0</td>\n",
       "      <td>-6750.0</td>\n",
       "      <td>-11500.0</td>\n",
       "      <td>-30000.0</td>\n",
       "      <td>35000.0</td>\n",
       "      <td>4500.0</td>\n",
       "      <td>-22450.0</td>\n",
       "      <td>59000.0</td>\n",
       "      <td>-3675.0</td>\n",
       "    </tr>\n",
       "    <tr>\n",
       "      <th>1996-10-01</th>\n",
       "      <td>3750.0</td>\n",
       "      <td>-27500.0</td>\n",
       "      <td>-3000.0</td>\n",
       "      <td>-16250.0</td>\n",
       "      <td>-38000.0</td>\n",
       "      <td>2500.0</td>\n",
       "      <td>-4000.0</td>\n",
       "      <td>-10950.0</td>\n",
       "      <td>-1000.0</td>\n",
       "      <td>4000.0</td>\n",
       "      <td>...</td>\n",
       "      <td>-13500.0</td>\n",
       "      <td>87900.0</td>\n",
       "      <td>-18750.0</td>\n",
       "      <td>8000.0</td>\n",
       "      <td>0.0</td>\n",
       "      <td>-37500.0</td>\n",
       "      <td>3875.0</td>\n",
       "      <td>10300.0</td>\n",
       "      <td>-27500.0</td>\n",
       "      <td>-3000.0</td>\n",
       "    </tr>\n",
       "    <tr>\n",
       "      <th>1997-01-01</th>\n",
       "      <td>-24500.0</td>\n",
       "      <td>7000.0</td>\n",
       "      <td>34892.5</td>\n",
       "      <td>7500.0</td>\n",
       "      <td>5000.0</td>\n",
       "      <td>-20500.0</td>\n",
       "      <td>11245.0</td>\n",
       "      <td>1975.0</td>\n",
       "      <td>1500.0</td>\n",
       "      <td>0.0</td>\n",
       "      <td>...</td>\n",
       "      <td>-32500.0</td>\n",
       "      <td>-15950.0</td>\n",
       "      <td>30250.0</td>\n",
       "      <td>19500.0</td>\n",
       "      <td>-9250.0</td>\n",
       "      <td>-27500.0</td>\n",
       "      <td>45500.0</td>\n",
       "      <td>-16200.0</td>\n",
       "      <td>20000.0</td>\n",
       "      <td>24000.0</td>\n",
       "    </tr>\n",
       "    <tr>\n",
       "      <th>1997-04-01</th>\n",
       "      <td>17500.0</td>\n",
       "      <td>5000.0</td>\n",
       "      <td>-19785.0</td>\n",
       "      <td>8750.0</td>\n",
       "      <td>20500.0</td>\n",
       "      <td>13247.5</td>\n",
       "      <td>-13990.0</td>\n",
       "      <td>7500.0</td>\n",
       "      <td>-1000.0</td>\n",
       "      <td>1000.0</td>\n",
       "      <td>...</td>\n",
       "      <td>19000.0</td>\n",
       "      <td>84500.0</td>\n",
       "      <td>19000.0</td>\n",
       "      <td>-9500.0</td>\n",
       "      <td>-36550.0</td>\n",
       "      <td>18000.0</td>\n",
       "      <td>-75875.0</td>\n",
       "      <td>-3450.0</td>\n",
       "      <td>-65000.0</td>\n",
       "      <td>-23000.0</td>\n",
       "    </tr>\n",
       "  </tbody>\n",
       "</table>\n",
       "<p>5 rows × 4197 columns</p>\n",
       "</div>"
      ],
      "text/plain": [
       "            E01000001  E01000002  E01000003  E01032739  E01032740  E01000006  \\\n",
       "1996-04-01    -9250.0   -30500.0     5000.0   -34500.0   -28500.0     3500.0   \n",
       "1996-07-01    10750.0    33000.0    -5000.0     3750.0    24000.0    -1000.0   \n",
       "1996-10-01     3750.0   -27500.0    -3000.0   -16250.0   -38000.0     2500.0   \n",
       "1997-01-01   -24500.0     7000.0    34892.5     7500.0     5000.0   -20500.0   \n",
       "1997-04-01    17500.0     5000.0   -19785.0     8750.0    20500.0    13247.5   \n",
       "\n",
       "            E01000009  E01000010  E01000012  E01000013  ...  E01004765  \\\n",
       "1996-04-01     1500.0    -5125.0     2050.0     1250.0  ...    -4500.0   \n",
       "1996-07-01    -1750.0     9600.0     -150.0    -1500.0  ...    15000.0   \n",
       "1996-10-01    -4000.0   -10950.0    -1000.0     4000.0  ...   -13500.0   \n",
       "1997-01-01    11245.0     1975.0     1500.0        0.0  ...   -32500.0   \n",
       "1997-04-01   -13990.0     7500.0    -1000.0     1000.0  ...    19000.0   \n",
       "\n",
       "            E01033594  E01033595  E01033596  E01033600  E01033601  E01033603  \\\n",
       "1996-04-01    28000.0    33750.0    10000.0   -30000.0     2500.0     3000.0   \n",
       "1996-07-01   -83950.0    -6750.0   -11500.0   -30000.0    35000.0     4500.0   \n",
       "1996-10-01    87900.0   -18750.0     8000.0        0.0   -37500.0     3875.0   \n",
       "1997-01-01   -15950.0    30250.0    19500.0    -9250.0   -27500.0    45500.0   \n",
       "1997-04-01    84500.0    19000.0    -9500.0   -36550.0    18000.0   -75875.0   \n",
       "\n",
       "            E01033606  E01033607  E01033608  \n",
       "1996-04-01    39950.0    -1000.0     7512.5  \n",
       "1996-07-01   -22450.0    59000.0    -3675.0  \n",
       "1996-10-01    10300.0   -27500.0    -3000.0  \n",
       "1997-01-01   -16200.0    20000.0    24000.0  \n",
       "1997-04-01    -3450.0   -65000.0   -23000.0  \n",
       "\n",
       "[5 rows x 4197 columns]"
      ]
     },
     "execution_count": 1594,
     "metadata": {},
     "output_type": "execute_result"
    }
   ],
   "source": [
    "df_med_int_diff.head()"
   ]
  },
  {
   "cell_type": "code",
   "execution_count": 1595,
   "metadata": {
    "ExecuteTime": {
     "end_time": "2020-06-19T15:11:35.512923Z",
     "start_time": "2020-06-19T15:11:35.507772Z"
    }
   },
   "outputs": [
    {
     "name": "stdout",
     "output_type": "stream",
     "text": [
      "75 19\n"
     ]
    }
   ],
   "source": [
    "train_size = int(len(df_med_int_diff) * 0.8)\n",
    "test_size = len(df_med_int_diff) - train_size\n",
    "train, test = df_med_int_diff.iloc[0:train_size], df_med_int_diff.iloc[train_size:len(df_med_int_diff)]\n",
    "print(len(train), len(test))"
   ]
  },
  {
   "cell_type": "code",
   "execution_count": 1596,
   "metadata": {
    "ExecuteTime": {
     "end_time": "2020-06-19T15:11:36.428504Z",
     "start_time": "2020-06-19T15:11:36.425000Z"
    }
   },
   "outputs": [
    {
     "data": {
      "text/plain": [
       "(75, 4197)"
      ]
     },
     "execution_count": 1596,
     "metadata": {},
     "output_type": "execute_result"
    }
   ],
   "source": [
    "train.shape"
   ]
  },
  {
   "cell_type": "code",
   "execution_count": 1597,
   "metadata": {
    "ExecuteTime": {
     "end_time": "2020-06-19T15:11:38.034239Z",
     "start_time": "2020-06-19T15:11:38.031832Z"
    }
   },
   "outputs": [],
   "source": [
    "from sklearn.preprocessing import RobustScaler"
   ]
  },
  {
   "cell_type": "code",
   "execution_count": 1598,
   "metadata": {
    "ExecuteTime": {
     "end_time": "2020-06-19T15:11:38.856833Z",
     "start_time": "2020-06-19T15:11:38.853170Z"
    }
   },
   "outputs": [],
   "source": [
    "train_inv = train.copy()\n",
    "test_inv = test.copy()"
   ]
  },
  {
   "cell_type": "code",
   "execution_count": 1599,
   "metadata": {
    "ExecuteTime": {
     "end_time": "2020-06-19T15:11:41.031789Z",
     "start_time": "2020-06-19T15:11:40.635012Z"
    },
    "scrolled": true
   },
   "outputs": [],
   "source": [
    "f_columns = train.columns[1:]\n",
    "\n",
    "f_transformer = RobustScaler()\n",
    "pred_transformer = RobustScaler()\n",
    "\n",
    "f_transformer = f_transformer.fit(train[f_columns].to_numpy())\n",
    "pred_transformer = pred_transformer.fit(train[['E01000001']])\n",
    "\n",
    "train_inv.loc[:, f_columns] = f_transformer.transform(train_inv.loc[:, f_columns].to_numpy())\n",
    "train_inv['E01000001'] = pred_transformer.transform(train_inv[['E01000001']])\n",
    "\n",
    "test_inv.loc[:, f_columns] = f_transformer.transform(test_inv.loc[:, f_columns].to_numpy())\n",
    "test_inv['E01000001'] = pred_transformer.transform(test_inv[['E01000001']])\n"
   ]
  },
  {
   "cell_type": "code",
   "execution_count": 1600,
   "metadata": {
    "ExecuteTime": {
     "end_time": "2020-06-19T15:11:43.020156Z",
     "start_time": "2020-06-19T15:11:43.016169Z"
    }
   },
   "outputs": [],
   "source": [
    "def create_dataset(X, y, time_steps=1):\n",
    "    Xs, ys = [], []\n",
    "    for i in range(len(X) - time_steps):\n",
    "#         print(i)\n",
    "        v = X.iloc[i:(i + time_steps)].values\n",
    "        Xs.append(v)\n",
    "        ys.append(y.iloc[i + time_steps])\n",
    "    return np.array(Xs), np.array(ys)"
   ]
  },
  {
   "cell_type": "code",
   "execution_count": 1601,
   "metadata": {
    "ExecuteTime": {
     "end_time": "2020-06-19T15:11:44.053455Z",
     "start_time": "2020-06-19T15:11:44.051069Z"
    }
   },
   "outputs": [],
   "source": [
    "time_steps = 6"
   ]
  },
  {
   "cell_type": "code",
   "execution_count": 1602,
   "metadata": {
    "ExecuteTime": {
     "end_time": "2020-06-19T15:11:44.604244Z",
     "start_time": "2020-06-19T15:11:44.569302Z"
    }
   },
   "outputs": [],
   "source": [
    "# reshape to [samples, time_steps, n_features]\n",
    "\n",
    "X_train, y_train = create_dataset(train_inv, train_inv['E01000001'], time_steps)\n",
    "X_test, y_test = create_dataset(test_inv, test_inv['E01000001'], time_steps)\n"
   ]
  },
  {
   "cell_type": "code",
   "execution_count": 1603,
   "metadata": {
    "ExecuteTime": {
     "end_time": "2020-06-19T15:11:45.955151Z",
     "start_time": "2020-06-19T15:11:45.951883Z"
    }
   },
   "outputs": [
    {
     "name": "stdout",
     "output_type": "stream",
     "text": [
      "(69, 6, 4197) (69,)\n",
      "(13, 6, 4197) (13,)\n"
     ]
    }
   ],
   "source": [
    "print(X_train.shape, y_train.shape)\n",
    "print(X_test.shape, y_test.shape)"
   ]
  },
  {
   "cell_type": "code",
   "execution_count": 1604,
   "metadata": {
    "ExecuteTime": {
     "end_time": "2020-06-19T15:11:48.424660Z",
     "start_time": "2020-06-19T15:11:48.416586Z"
    }
   },
   "outputs": [],
   "source": [
    "model = keras.Sequential()\n",
    "model.add(\n",
    "  keras.layers.Bidirectional(\n",
    "    keras.layers.LSTM(\n",
    "      units=128,\n",
    "      input_shape=(X_train.shape[1], X_train.shape[2])\n",
    "    )\n",
    "  )\n",
    ")\n",
    "model.add(keras.layers.Dropout(rate=0.1))\n",
    "model.add(keras.layers.Dense(units=1))\n",
    "model.compile(loss='mean_squared_error', optimizer='adam')"
   ]
  },
  {
   "cell_type": "code",
   "execution_count": 1605,
   "metadata": {
    "ExecuteTime": {
     "end_time": "2020-06-19T15:12:19.354067Z",
     "start_time": "2020-06-19T15:11:49.388006Z"
    },
    "scrolled": true
   },
   "outputs": [
    {
     "name": "stdout",
     "output_type": "stream",
     "text": [
      "Train on 62 samples, validate on 7 samples\n",
      "Epoch 1/50\n",
      "62/62 [==============================] - 1s 20ms/step - loss: 1.3499 - val_loss: 4.2635\n",
      "Epoch 2/50\n",
      "62/62 [==============================] - 1s 9ms/step - loss: 7.0303 - val_loss: 2.9432\n",
      "Epoch 3/50\n",
      "62/62 [==============================] - 1s 9ms/step - loss: 3.9883 - val_loss: 2.7481\n",
      "Epoch 4/50\n",
      "62/62 [==============================] - 1s 9ms/step - loss: 0.6777 - val_loss: 2.9427\n",
      "Epoch 5/50\n",
      "62/62 [==============================] - 1s 9ms/step - loss: 0.2220 - val_loss: 3.0809\n",
      "Epoch 6/50\n",
      "62/62 [==============================] - 1s 9ms/step - loss: 0.1220 - val_loss: 3.0266\n",
      "Epoch 7/50\n",
      "62/62 [==============================] - 1s 9ms/step - loss: 0.0720 - val_loss: 2.9941\n",
      "Epoch 8/50\n",
      "62/62 [==============================] - 1s 9ms/step - loss: 0.0759 - val_loss: 2.9575\n",
      "Epoch 9/50\n",
      "62/62 [==============================] - 1s 9ms/step - loss: 0.0554 - val_loss: 2.9621\n",
      "Epoch 10/50\n",
      "62/62 [==============================] - 1s 9ms/step - loss: 0.0637 - val_loss: 2.9782\n",
      "Epoch 11/50\n",
      "62/62 [==============================] - 1s 9ms/step - loss: 0.0477 - val_loss: 2.9873\n",
      "Epoch 12/50\n",
      "62/62 [==============================] - 1s 9ms/step - loss: 0.0598 - val_loss: 2.9815\n",
      "Epoch 13/50\n",
      "62/62 [==============================] - 1s 9ms/step - loss: 0.0461 - val_loss: 2.9661\n",
      "Epoch 14/50\n",
      "62/62 [==============================] - 1s 9ms/step - loss: 0.0553 - val_loss: 2.9582\n",
      "Epoch 15/50\n",
      "62/62 [==============================] - 1s 9ms/step - loss: 0.0488 - val_loss: 2.9481\n",
      "Epoch 16/50\n",
      "62/62 [==============================] - 1s 9ms/step - loss: 0.0521 - val_loss: 2.9451\n",
      "Epoch 17/50\n",
      "62/62 [==============================] - 1s 9ms/step - loss: 0.0366 - val_loss: 2.9488\n",
      "Epoch 18/50\n",
      "62/62 [==============================] - 1s 9ms/step - loss: 0.0439 - val_loss: 2.9563\n",
      "Epoch 19/50\n",
      "62/62 [==============================] - 1s 9ms/step - loss: 0.0415 - val_loss: 2.9558\n",
      "Epoch 20/50\n",
      "62/62 [==============================] - 1s 10ms/step - loss: 0.0423 - val_loss: 2.9507\n",
      "Epoch 21/50\n",
      "62/62 [==============================] - 1s 10ms/step - loss: 0.0560 - val_loss: 2.9487\n",
      "Epoch 22/50\n",
      "62/62 [==============================] - 1s 9ms/step - loss: 0.0326 - val_loss: 2.9399\n",
      "Epoch 23/50\n",
      "62/62 [==============================] - 1s 9ms/step - loss: 0.0365 - val_loss: 2.9372\n",
      "Epoch 24/50\n",
      "62/62 [==============================] - 1s 9ms/step - loss: 0.0429 - val_loss: 2.9272\n",
      "Epoch 25/50\n",
      "62/62 [==============================] - 1s 9ms/step - loss: 0.0466 - val_loss: 2.9228\n",
      "Epoch 26/50\n",
      "62/62 [==============================] - 1s 9ms/step - loss: 0.0445 - val_loss: 2.9270\n",
      "Epoch 27/50\n",
      "62/62 [==============================] - 1s 9ms/step - loss: 0.0450 - val_loss: 2.9196\n",
      "Epoch 28/50\n",
      "62/62 [==============================] - 1s 9ms/step - loss: 0.0418 - val_loss: 2.9150\n",
      "Epoch 29/50\n",
      "62/62 [==============================] - 1s 9ms/step - loss: 0.0411 - val_loss: 2.9138\n",
      "Epoch 30/50\n",
      "62/62 [==============================] - 1s 9ms/step - loss: 0.0502 - val_loss: 2.9164\n",
      "Epoch 31/50\n",
      "62/62 [==============================] - 1s 9ms/step - loss: 0.0585 - val_loss: 2.9151\n",
      "Epoch 32/50\n",
      "62/62 [==============================] - 1s 9ms/step - loss: 0.0512 - val_loss: 2.9184\n",
      "Epoch 33/50\n",
      "62/62 [==============================] - 1s 9ms/step - loss: 0.0493 - val_loss: 2.9250\n",
      "Epoch 34/50\n",
      "62/62 [==============================] - 1s 9ms/step - loss: 0.0389 - val_loss: 2.9258\n",
      "Epoch 35/50\n",
      "62/62 [==============================] - 1s 9ms/step - loss: 0.0381 - val_loss: 2.9263\n",
      "Epoch 36/50\n",
      "62/62 [==============================] - 1s 9ms/step - loss: 0.0656 - val_loss: 2.9290\n",
      "Epoch 37/50\n",
      "62/62 [==============================] - 1s 9ms/step - loss: 0.0536 - val_loss: 2.9181\n",
      "Epoch 38/50\n",
      "62/62 [==============================] - 1s 9ms/step - loss: 0.0438 - val_loss: 2.9086\n",
      "Epoch 39/50\n",
      "62/62 [==============================] - 1s 9ms/step - loss: 0.0358 - val_loss: 2.9175\n",
      "Epoch 40/50\n",
      "62/62 [==============================] - 1s 9ms/step - loss: 0.0463 - val_loss: 2.9291\n",
      "Epoch 41/50\n",
      "62/62 [==============================] - 1s 9ms/step - loss: 0.0572 - val_loss: 2.9373\n",
      "Epoch 42/50\n",
      "62/62 [==============================] - 1s 9ms/step - loss: 0.0445 - val_loss: 2.9391\n",
      "Epoch 43/50\n",
      "62/62 [==============================] - 1s 9ms/step - loss: 0.0449 - val_loss: 2.9296\n",
      "Epoch 44/50\n",
      "62/62 [==============================] - 1s 9ms/step - loss: 0.0398 - val_loss: 2.9140\n",
      "Epoch 45/50\n",
      "62/62 [==============================] - 1s 9ms/step - loss: 0.0397 - val_loss: 2.8999\n",
      "Epoch 46/50\n",
      "62/62 [==============================] - 1s 9ms/step - loss: 0.0416 - val_loss: 2.8935\n",
      "Epoch 47/50\n",
      "62/62 [==============================] - 1s 9ms/step - loss: 0.0307 - val_loss: 2.8931\n",
      "Epoch 48/50\n",
      "62/62 [==============================] - 1s 9ms/step - loss: 0.0461 - val_loss: 2.8988\n",
      "Epoch 49/50\n",
      "62/62 [==============================] - 1s 10ms/step - loss: 0.0443 - val_loss: 2.8974\n",
      "Epoch 50/50\n",
      "62/62 [==============================] - 1s 9ms/step - loss: 0.0357 - val_loss: 2.8960\n"
     ]
    }
   ],
   "source": [
    "history = model.fit(\n",
    "    X_train, y_train,\n",
    "    epochs=50,\n",
    "    batch_size=12,\n",
    "    validation_split=0.1,\n",
    "    shuffle=False\n",
    ")"
   ]
  },
  {
   "cell_type": "code",
   "execution_count": 1606,
   "metadata": {
    "ExecuteTime": {
     "end_time": "2020-06-19T15:13:04.335704Z",
     "start_time": "2020-06-19T15:13:04.182660Z"
    }
   },
   "outputs": [
    {
     "data": {
      "image/png": "[encoded data removed]",
      "text/plain": [
       "<Figure size 432x288 with 1 Axes>"
      ]
     },
     "metadata": {
      "image/png": {
       "height": 248,
       "width": 362
      },
      "needs_background": "light"
     },
     "output_type": "display_data"
    }
   ],
   "source": [
    "pyplot.plot(history.history['loss'], label='train')\n",
    "pyplot.plot(history.history['val_loss'], label='validation')\n",
    "pyplot.legend()\n",
    "pyplot.show()"
   ]
  },
  {
   "cell_type": "code",
   "execution_count": 1607,
   "metadata": {
    "ExecuteTime": {
     "end_time": "2020-06-19T15:13:07.809361Z",
     "start_time": "2020-06-19T15:13:07.803462Z"
    },
    "scrolled": true
   },
   "outputs": [
    {
     "data": {
      "text/plain": [
       "array([[[ 4.04993065e+00,  1.17010689e+00, -6.56695635e-01, ...,\n",
       "         -2.13321799e+00, -1.22597865e+00, -4.19444444e+00],\n",
       "        [-3.80027739e+00,  1.96636565e+00, -3.29060424e-01, ...,\n",
       "          5.77277970e-01,  1.10320285e-01,  2.17592593e+00],\n",
       "        [-3.43966713e+00,  2.03464799e-01, -6.56695635e-01, ...,\n",
       "         -2.88927336e-01,  8.16725979e-01,  2.87962963e+00],\n",
       "        [ 2.21914008e+00,  3.51087357e-01,  1.47293324e+00, ...,\n",
       "         -2.99884660e+00, -4.32384342e-01, -1.35185185e+00],\n",
       "        [ 1.94174757e+00, -3.33579064e-01,  2.61965647e+00, ...,\n",
       "          4.38292964e+00, -1.60142349e-02,  3.48611111e+00],\n",
       "        [ 1.52565881e+00, -2.59767785e+00, -1.63960127e+00, ...,\n",
       "         -3.18339100e+00, -1.60142349e-02, -4.99074074e+00]],\n",
       "\n",
       "       [[-3.80027739e+00,  1.96636565e+00, -3.29060424e-01, ...,\n",
       "          5.77277970e-01,  1.10320285e-01,  2.17592593e+00],\n",
       "        [-3.43966713e+00,  2.03464799e-01, -6.56695635e-01, ...,\n",
       "         -2.88927336e-01,  8.16725979e-01,  2.87962963e+00],\n",
       "        [ 2.21914008e+00,  3.51087357e-01,  1.47293324e+00, ...,\n",
       "         -2.99884660e+00, -4.32384342e-01, -1.35185185e+00],\n",
       "        [ 1.94174757e+00, -3.33579064e-01,  2.61965647e+00, ...,\n",
       "          4.38292964e+00, -1.60142349e-02,  3.48611111e+00],\n",
       "        [ 1.52565881e+00, -2.59767785e+00, -1.63960127e+00, ...,\n",
       "         -3.18339100e+00, -1.60142349e-02, -4.99074074e+00],\n",
       "        [-2.27461859e+00,  1.19793586e+00,  1.62392392e-01, ...,\n",
       "          2.20299885e+00, -6.93950178e-02,  2.54166667e+00]],\n",
       "\n",
       "       [[-3.43966713e+00,  2.03464799e-01, -6.56695635e-01, ...,\n",
       "         -2.88927336e-01,  8.16725979e-01,  2.87962963e+00],\n",
       "        [ 2.21914008e+00,  3.51087357e-01,  1.47293324e+00, ...,\n",
       "         -2.99884660e+00, -4.32384342e-01, -1.35185185e+00],\n",
       "        [ 1.94174757e+00, -3.33579064e-01,  2.61965647e+00, ...,\n",
       "          4.38292964e+00, -1.60142349e-02,  3.48611111e+00],\n",
       "        [ 1.52565881e+00, -2.59767785e+00, -1.63960127e+00, ...,\n",
       "         -3.18339100e+00, -1.60142349e-02, -4.99074074e+00],\n",
       "        [-2.27461859e+00,  1.19793586e+00,  1.62392392e-01, ...,\n",
       "          2.20299885e+00, -6.93950178e-02,  2.54166667e+00],\n",
       "        [-2.10818308e+00,  1.84297825e-01, -2.86823331e+00, ...,\n",
       "          5.85928489e+00, -6.56583630e-01, -2.94444444e+00]],\n",
       "\n",
       "       ...,\n",
       "\n",
       "       [[ 5.54785021e+00, -1.93512717e+00, -8.86040283e-01, ...,\n",
       "         -5.59081892e+00, -4.07473310e-01,  1.85185185e-02],\n",
       "        [-3.19001387e+00,  9.19646148e-01,  2.60682956e-01, ...,\n",
       "          6.85674740e-01, -1.60142349e-02, -1.00000000e+00],\n",
       "        [ 0.00000000e+00, -5.49207519e-01, -6.23932114e-01, ...,\n",
       "          1.62113033e+00,  6.12277580e+00, -6.75925926e-01],\n",
       "        [ 8.32177531e-01, -3.70438629e-01, -3.29060424e-01, ...,\n",
       "         -6.69610150e+00, -1.26316726e+01, -2.77777778e-02],\n",
       "        [-3.88349515e+00,  8.29340214e-01, -6.40313875e-01, ...,\n",
       "          4.52452134e+00,  5.90925267e+00,  2.84259259e+00],\n",
       "        [ 3.03744799e+00,  9.21489126e-01, -1.42521317e-03, ...,\n",
       "         -6.22837370e-01,  7.31316726e-01, -4.00925926e+00]],\n",
       "\n",
       "       [[-3.19001387e+00,  9.19646148e-01,  2.60682956e-01, ...,\n",
       "          6.85674740e-01, -1.60142349e-02, -1.00000000e+00],\n",
       "        [ 0.00000000e+00, -5.49207519e-01, -6.23932114e-01, ...,\n",
       "          1.62113033e+00,  6.12277580e+00, -6.75925926e-01],\n",
       "        [ 8.32177531e-01, -3.70438629e-01, -3.29060424e-01, ...,\n",
       "         -6.69610150e+00, -1.26316726e+01, -2.77777778e-02],\n",
       "        [-3.88349515e+00,  8.29340214e-01, -6.40313875e-01, ...,\n",
       "          4.52452134e+00,  5.90925267e+00,  2.84259259e+00],\n",
       "        [ 3.03744799e+00,  9.21489126e-01, -1.42521317e-03, ...,\n",
       "         -6.22837370e-01,  7.31316726e-01, -4.00925926e+00],\n",
       "        [-2.49653259e-01, -6.45042388e-01, -3.94587466e-01, ...,\n",
       "          2.96424452e+00, -8.52313167e-01, -4.47222222e+00]],\n",
       "\n",
       "       [[ 0.00000000e+00, -5.49207519e-01, -6.23932114e-01, ...,\n",
       "          1.62113033e+00,  6.12277580e+00, -6.75925926e-01],\n",
       "        [ 8.32177531e-01, -3.70438629e-01, -3.29060424e-01, ...,\n",
       "         -6.69610150e+00, -1.26316726e+01, -2.77777778e-02],\n",
       "        [-3.88349515e+00,  8.29340214e-01, -6.40313875e-01, ...,\n",
       "          4.52452134e+00,  5.90925267e+00,  2.84259259e+00],\n",
       "        [ 3.03744799e+00,  9.21489126e-01, -1.42521317e-03, ...,\n",
       "         -6.22837370e-01,  7.31316726e-01, -4.00925926e+00],\n",
       "        [-2.49653259e-01, -6.45042388e-01, -3.94587466e-01, ...,\n",
       "          2.96424452e+00, -8.52313167e-01, -4.47222222e+00],\n",
       "        [ 2.89875173e+00,  6.45042388e-01,  1.66951436e+00, ...,\n",
       "         -9.80392157e-01,  2.60871886e+01,  4.79112953e+00]]])"
      ]
     },
     "execution_count": 1607,
     "metadata": {},
     "output_type": "execute_result"
    }
   ],
   "source": [
    "X_test"
   ]
  },
  {
   "cell_type": "code",
   "execution_count": 1608,
   "metadata": {
    "ExecuteTime": {
     "end_time": "2020-06-19T15:13:08.854344Z",
     "start_time": "2020-06-19T15:13:08.645143Z"
    }
   },
   "outputs": [],
   "source": [
    "y_pred = model.predict(X_test)"
   ]
  },
  {
   "cell_type": "code",
   "execution_count": 1609,
   "metadata": {
    "ExecuteTime": {
     "end_time": "2020-06-19T15:13:09.589758Z",
     "start_time": "2020-06-19T15:13:09.586064Z"
    }
   },
   "outputs": [],
   "source": [
    "y_train_inv_diff = pred_transformer.inverse_transform(y_train.reshape(1, -1))\n",
    "y_test_inv_diff = pred_transformer.inverse_transform(y_test.reshape(1, -1))\n",
    "y_pred_inv_diff = pred_transformer.inverse_transform(y_pred)\n",
    "\n",
    "# X_test_inv = f_transformer.inverse_transform(X_test)"
   ]
  },
  {
   "cell_type": "code",
   "execution_count": 1611,
   "metadata": {
    "ExecuteTime": {
     "end_time": "2020-06-19T15:13:25.861265Z",
     "start_time": "2020-06-19T15:13:25.857780Z"
    }
   },
   "outputs": [
    {
     "data": {
      "text/plain": [
       "(13, 6, 4197)"
      ]
     },
     "execution_count": 1611,
     "metadata": {},
     "output_type": "execute_result"
    }
   ],
   "source": [
    "X_test.shape"
   ]
  },
  {
   "cell_type": "code",
   "execution_count": 1613,
   "metadata": {
    "ExecuteTime": {
     "end_time": "2020-06-19T15:14:38.404121Z",
     "start_time": "2020-06-19T15:14:38.400665Z"
    }
   },
   "outputs": [
    {
     "data": {
      "text/plain": [
       "(13,)"
      ]
     },
     "execution_count": 1613,
     "metadata": {},
     "output_type": "execute_result"
    }
   ],
   "source": [
    "y_test.shape"
   ]
  },
  {
   "cell_type": "code",
   "execution_count": 1625,
   "metadata": {
    "ExecuteTime": {
     "end_time": "2020-06-22T10:28:31.792040Z",
     "start_time": "2020-06-22T10:28:31.773405Z"
    },
    "scrolled": true
   },
   "outputs": [
    {
     "data": {
      "text/plain": [
       "array([[[ 4.04993065e+00,  1.17010689e+00, -6.56695635e-01, ...,\n",
       "         -2.13321799e+00, -1.22597865e+00, -4.19444444e+00],\n",
       "        [-3.80027739e+00,  1.96636565e+00, -3.29060424e-01, ...,\n",
       "          5.77277970e-01,  1.10320285e-01,  2.17592593e+00],\n",
       "        [-3.43966713e+00,  2.03464799e-01, -6.56695635e-01, ...,\n",
       "         -2.88927336e-01,  8.16725979e-01,  2.87962963e+00],\n",
       "        [ 2.21914008e+00,  3.51087357e-01,  1.47293324e+00, ...,\n",
       "         -2.99884660e+00, -4.32384342e-01, -1.35185185e+00],\n",
       "        [ 1.94174757e+00, -3.33579064e-01,  2.61965647e+00, ...,\n",
       "          4.38292964e+00, -1.60142349e-02,  3.48611111e+00],\n",
       "        [ 1.52565881e+00, -2.59767785e+00, -1.63960127e+00, ...,\n",
       "         -3.18339100e+00, -1.60142349e-02, -4.99074074e+00]],\n",
       "\n",
       "       [[-3.80027739e+00,  1.96636565e+00, -3.29060424e-01, ...,\n",
       "          5.77277970e-01,  1.10320285e-01,  2.17592593e+00],\n",
       "        [-3.43966713e+00,  2.03464799e-01, -6.56695635e-01, ...,\n",
       "         -2.88927336e-01,  8.16725979e-01,  2.87962963e+00],\n",
       "        [ 2.21914008e+00,  3.51087357e-01,  1.47293324e+00, ...,\n",
       "         -2.99884660e+00, -4.32384342e-01, -1.35185185e+00],\n",
       "        [ 1.94174757e+00, -3.33579064e-01,  2.61965647e+00, ...,\n",
       "          4.38292964e+00, -1.60142349e-02,  3.48611111e+00],\n",
       "        [ 1.52565881e+00, -2.59767785e+00, -1.63960127e+00, ...,\n",
       "         -3.18339100e+00, -1.60142349e-02, -4.99074074e+00],\n",
       "        [-2.27461859e+00,  1.19793586e+00,  1.62392392e-01, ...,\n",
       "          2.20299885e+00, -6.93950178e-02,  2.54166667e+00]],\n",
       "\n",
       "       [[-3.43966713e+00,  2.03464799e-01, -6.56695635e-01, ...,\n",
       "         -2.88927336e-01,  8.16725979e-01,  2.87962963e+00],\n",
       "        [ 2.21914008e+00,  3.51087357e-01,  1.47293324e+00, ...,\n",
       "         -2.99884660e+00, -4.32384342e-01, -1.35185185e+00],\n",
       "        [ 1.94174757e+00, -3.33579064e-01,  2.61965647e+00, ...,\n",
       "          4.38292964e+00, -1.60142349e-02,  3.48611111e+00],\n",
       "        [ 1.52565881e+00, -2.59767785e+00, -1.63960127e+00, ...,\n",
       "         -3.18339100e+00, -1.60142349e-02, -4.99074074e+00],\n",
       "        [-2.27461859e+00,  1.19793586e+00,  1.62392392e-01, ...,\n",
       "          2.20299885e+00, -6.93950178e-02,  2.54166667e+00],\n",
       "        [-2.10818308e+00,  1.84297825e-01, -2.86823331e+00, ...,\n",
       "          5.85928489e+00, -6.56583630e-01, -2.94444444e+00]],\n",
       "\n",
       "       ...,\n",
       "\n",
       "       [[ 5.54785021e+00, -1.93512717e+00, -8.86040283e-01, ...,\n",
       "         -5.59081892e+00, -4.07473310e-01,  1.85185185e-02],\n",
       "        [-3.19001387e+00,  9.19646148e-01,  2.60682956e-01, ...,\n",
       "          6.85674740e-01, -1.60142349e-02, -1.00000000e+00],\n",
       "        [ 0.00000000e+00, -5.49207519e-01, -6.23932114e-01, ...,\n",
       "          1.62113033e+00,  6.12277580e+00, -6.75925926e-01],\n",
       "        [ 8.32177531e-01, -3.70438629e-01, -3.29060424e-01, ...,\n",
       "         -6.69610150e+00, -1.26316726e+01, -2.77777778e-02],\n",
       "        [-3.88349515e+00,  8.29340214e-01, -6.40313875e-01, ...,\n",
       "          4.52452134e+00,  5.90925267e+00,  2.84259259e+00],\n",
       "        [ 3.03744799e+00,  9.21489126e-01, -1.42521317e-03, ...,\n",
       "         -6.22837370e-01,  7.31316726e-01, -4.00925926e+00]],\n",
       "\n",
       "       [[-3.19001387e+00,  9.19646148e-01,  2.60682956e-01, ...,\n",
       "          6.85674740e-01, -1.60142349e-02, -1.00000000e+00],\n",
       "        [ 0.00000000e+00, -5.49207519e-01, -6.23932114e-01, ...,\n",
       "          1.62113033e+00,  6.12277580e+00, -6.75925926e-01],\n",
       "        [ 8.32177531e-01, -3.70438629e-01, -3.29060424e-01, ...,\n",
       "         -6.69610150e+00, -1.26316726e+01, -2.77777778e-02],\n",
       "        [-3.88349515e+00,  8.29340214e-01, -6.40313875e-01, ...,\n",
       "          4.52452134e+00,  5.90925267e+00,  2.84259259e+00],\n",
       "        [ 3.03744799e+00,  9.21489126e-01, -1.42521317e-03, ...,\n",
       "         -6.22837370e-01,  7.31316726e-01, -4.00925926e+00],\n",
       "        [-2.49653259e-01, -6.45042388e-01, -3.94587466e-01, ...,\n",
       "          2.96424452e+00, -8.52313167e-01, -4.47222222e+00]],\n",
       "\n",
       "       [[ 0.00000000e+00, -5.49207519e-01, -6.23932114e-01, ...,\n",
       "          1.62113033e+00,  6.12277580e+00, -6.75925926e-01],\n",
       "        [ 8.32177531e-01, -3.70438629e-01, -3.29060424e-01, ...,\n",
       "         -6.69610150e+00, -1.26316726e+01, -2.77777778e-02],\n",
       "        [-3.88349515e+00,  8.29340214e-01, -6.40313875e-01, ...,\n",
       "          4.52452134e+00,  5.90925267e+00,  2.84259259e+00],\n",
       "        [ 3.03744799e+00,  9.21489126e-01, -1.42521317e-03, ...,\n",
       "         -6.22837370e-01,  7.31316726e-01, -4.00925926e+00],\n",
       "        [-2.49653259e-01, -6.45042388e-01, -3.94587466e-01, ...,\n",
       "          2.96424452e+00, -8.52313167e-01, -4.47222222e+00],\n",
       "        [ 2.89875173e+00,  6.45042388e-01,  1.66951436e+00, ...,\n",
       "         -9.80392157e-01,  2.60871886e+01,  4.79112953e+00]]])"
      ]
     },
     "execution_count": 1625,
     "metadata": {},
     "output_type": "execute_result"
    }
   ],
   "source": [
    "X_test"
   ]
  },
  {
   "cell_type": "code",
   "execution_count": 1622,
   "metadata": {
    "ExecuteTime": {
     "end_time": "2020-06-19T15:29:55.926190Z",
     "start_time": "2020-06-19T15:29:55.903703Z"
    }
   },
   "outputs": [
    {
     "ename": "IndexError",
     "evalue": "only integers, slices (`:`), ellipsis (`...`), numpy.newaxis (`None`) and integer or boolean arrays are valid indices",
     "output_type": "error",
     "traceback": [
      "\u001b[0;31m---------------------------------------------------------------------------\u001b[0m",
      "\u001b[0;31mIndexError\u001b[0m                                Traceback (most recent call last)",
      "\u001b[0;32m<ipython-input-1622-543c0eff128d>\u001b[0m in \u001b[0;36m<module>\u001b[0;34m\u001b[0m\n\u001b[1;32m      7\u001b[0m     \u001b[0;32mreturn\u001b[0m \u001b[0mforecast\u001b[0m\u001b[0;34m\u001b[0m\u001b[0;34m\u001b[0m\u001b[0m\n\u001b[1;32m      8\u001b[0m \u001b[0;34m\u001b[0m\u001b[0m\n\u001b[0;32m----> 9\u001b[0;31m \u001b[0moutput\u001b[0m \u001b[0;34m=\u001b[0m \u001b[0minvert_transformation\u001b[0m\u001b[0;34m(\u001b[0m\u001b[0my_train\u001b[0m\u001b[0;34m,\u001b[0m \u001b[0my_pred\u001b[0m\u001b[0;34m)\u001b[0m\u001b[0;34m\u001b[0m\u001b[0;34m\u001b[0m\u001b[0m\n\u001b[0m\u001b[1;32m     10\u001b[0m \u001b[0mprint\u001b[0m\u001b[0;34m(\u001b[0m\u001b[0moutput\u001b[0m\u001b[0;34m)\u001b[0m\u001b[0;34m\u001b[0m\u001b[0;34m\u001b[0m\u001b[0m\n",
      "\u001b[0;32m<ipython-input-1622-543c0eff128d>\u001b[0m in \u001b[0;36minvert_transformation\u001b[0;34m(X_test, y_pred)\u001b[0m\n\u001b[1;32m      4\u001b[0m     \u001b[0mcolumns\u001b[0m \u001b[0;34m=\u001b[0m \u001b[0mtrain\u001b[0m\u001b[0;34m.\u001b[0m\u001b[0mcolumns\u001b[0m\u001b[0;34m\u001b[0m\u001b[0;34m\u001b[0m\u001b[0m\n\u001b[1;32m      5\u001b[0m     \u001b[0;32mfor\u001b[0m \u001b[0mcol\u001b[0m \u001b[0;32min\u001b[0m \u001b[0mcolumns\u001b[0m\u001b[0;34m:\u001b[0m\u001b[0;34m\u001b[0m\u001b[0;34m\u001b[0m\u001b[0m\n\u001b[0;32m----> 6\u001b[0;31m         \u001b[0mforecast\u001b[0m\u001b[0;34m[\u001b[0m\u001b[0mstr\u001b[0m\u001b[0;34m(\u001b[0m\u001b[0mcol\u001b[0m\u001b[0;34m)\u001b[0m\u001b[0;34m+\u001b[0m\u001b[0;34m'_pred'\u001b[0m\u001b[0;34m]\u001b[0m \u001b[0;34m=\u001b[0m \u001b[0mtrain\u001b[0m\u001b[0;34m[\u001b[0m\u001b[0mcol\u001b[0m\u001b[0;34m]\u001b[0m\u001b[0;34m.\u001b[0m\u001b[0miloc\u001b[0m\u001b[0;34m[\u001b[0m\u001b[0;34m-\u001b[0m\u001b[0;36m1\u001b[0m\u001b[0;34m]\u001b[0m \u001b[0;34m+\u001b[0m \u001b[0mforecast\u001b[0m\u001b[0;34m[\u001b[0m\u001b[0mstr\u001b[0m\u001b[0;34m(\u001b[0m\u001b[0mcol\u001b[0m\u001b[0;34m)\u001b[0m\u001b[0;34m+\u001b[0m\u001b[0;34m'_pred'\u001b[0m\u001b[0;34m]\u001b[0m\u001b[0;34m.\u001b[0m\u001b[0mcumsum\u001b[0m\u001b[0;34m(\u001b[0m\u001b[0;34m)\u001b[0m\u001b[0;34m\u001b[0m\u001b[0;34m\u001b[0m\u001b[0m\n\u001b[0m\u001b[1;32m      7\u001b[0m     \u001b[0;32mreturn\u001b[0m \u001b[0mforecast\u001b[0m\u001b[0;34m\u001b[0m\u001b[0;34m\u001b[0m\u001b[0m\n\u001b[1;32m      8\u001b[0m \u001b[0;34m\u001b[0m\u001b[0m\n",
      "\u001b[0;31mIndexError\u001b[0m: only integers, slices (`:`), ellipsis (`...`), numpy.newaxis (`None`) and integer or boolean arrays are valid indices"
     ]
    }
   ],
   "source": [
    "# inverting transformation\n",
    "def invert_transformation(X_test, y_pred):\n",
    "    forecast = y_pred.copy()\n",
    "    columns = train.columns\n",
    "    for col in columns:\n",
    "        forecast[str(col)+'_pred'] = train[col].iloc[-1] + forecast[str(col)+'_pred'].cumsum()\n",
    "    return forecast\n",
    "\n",
    "output = invert_transformation(y_train, y_pred)\n",
    "print(output)\n"
   ]
  },
  {
   "cell_type": "code",
   "execution_count": 1451,
   "metadata": {
    "ExecuteTime": {
     "end_time": "2020-06-19T11:45:07.367123Z",
     "start_time": "2020-06-19T11:45:07.362396Z"
    }
   },
   "outputs": [
    {
     "data": {
      "text/plain": [
       "array([ 1.48699176, -2.27674451, -2.11190934, -0.35366758, -2.08443681,\n",
       "        5.47050824, -3.18333791, -0.02399725,  0.80017857, -3.8701511 ,\n",
       "        2.98424451, -0.27125   ,  2.84688187])"
      ]
     },
     "execution_count": 1451,
     "metadata": {},
     "output_type": "execute_result"
    }
   ],
   "source": [
    "X_test_pred = []\n",
    "for i in range(13):\n",
    "    X_test_pred.append(X_test[i][-1][0])\n",
    "\n",
    "X_test_pred = np.array(X_test_pred)\n",
    "X_test_pred"
   ]
  },
  {
   "cell_type": "code",
   "execution_count": 1452,
   "metadata": {
    "ExecuteTime": {
     "end_time": "2020-06-19T11:45:40.001713Z",
     "start_time": "2020-06-19T11:45:39.997866Z"
    }
   },
   "outputs": [
    {
     "data": {
      "text/plain": [
       "array([ 12352.01238238,  19865.60802112,  31305.05020003,  43375.68539492,\n",
       "        62638.79446944,  84453.96269574, 105270.03541209, 128385.66350275,\n",
       "       145643.51892857, 146534.2860989 , 153926.85924451, 157073.6975    ,\n",
       "       170971.23750687])"
      ]
     },
     "execution_count": 1452,
     "metadata": {},
     "output_type": "execute_result"
    }
   ],
   "source": [
    "y_pred_inv = y_pred_inv_diff.cumsum().cumsum()\n",
    "f = y_pred_inv + X_test_pred\n",
    "f"
   ]
  },
  {
   "cell_type": "code",
   "execution_count": 1084,
   "metadata": {
    "ExecuteTime": {
     "end_time": "2020-06-17T11:52:23.026559Z",
     "start_time": "2020-06-17T11:52:23.021886Z"
    }
   },
   "outputs": [
    {
     "data": {
      "text/plain": [
       "array([ 4062.6   , 11268.779 , 28419.205 , 13066.856 ,  7203.04  ,\n",
       "       16569.625 , 11005.369 ,  9127.706 ,  7047.8936, 19436.77  ,\n",
       "       16815.525 ,  6786.631 , 17768.457 ], dtype=float32)"
      ]
     },
     "execution_count": 1084,
     "metadata": {},
     "output_type": "execute_result"
    }
   ],
   "source": [
    "for i in range(2):\n",
    "    y_train_inv = y_train_inv_diff.cumsum()\n",
    "    y_test_inv = y_test_inv_diff.cumsum()\n",
    "    y_pred_inv = y_pred_inv_diff.cumsum()\n",
    "    \n",
    "y_train_inv\n",
    "y_test_inv\n",
    "y_pred_inv"
   ]
  },
  {
   "cell_type": "code",
   "execution_count": 1624,
   "metadata": {
    "ExecuteTime": {
     "end_time": "2020-06-22T10:26:00.074216Z",
     "start_time": "2020-06-22T10:25:59.542285Z"
    }
   },
   "outputs": [
    {
     "data": {
      "image/png": "[encoded data removed]",
      "text/plain": [
       "<Figure size 432x288 with 1 Axes>"
      ]
     },
     "metadata": {
      "image/png": {
       "height": 248,
       "width": 394
      },
      "needs_background": "light"
     },
     "output_type": "display_data"
    }
   ],
   "source": [
    "plt.plot(f.flatten(), 'b', marker='.', label='true')\n",
    "plt.plot(y_pred_inv.flatten(), 'r', marker='.', label='predicted')\n",
    "\n",
    "plt.legend();"
   ]
  },
  {
   "cell_type": "code",
   "execution_count": 1086,
   "metadata": {
    "ExecuteTime": {
     "end_time": "2020-06-17T11:52:48.261291Z",
     "start_time": "2020-06-17T11:52:48.257103Z"
    }
   },
   "outputs": [
    {
     "data": {
      "text/plain": [
       "array([ 17000. ,  15000. ,  16000. ,  20000. ,  16500. ,  16500. ,\n",
       "         8500. ,  16000. ,   9000. ,  21050. ,  35450. ,  25000. ,\n",
       "        32000. ,  11423.5,  11000. ,  15576.5,  16450. ,  20550. ,\n",
       "        12500. ,  23250. ,  29725. ,  13525. ,  16000. ,  11000. ,\n",
       "        11000. ,   6000. ,  19500. ,  22500. ,  20000. ,  14500. ,\n",
       "         8500. ,  16000. ,   8500. ,  23500. ,  23500. ,  33500. ,\n",
       "        21000. ,  26000. ,  31000. ,  67225. ,  49775. ,  47000. ,\n",
       "        16500. , -50500. ,  11000. ,  11000. ,  -9000. ,   3500. ,\n",
       "        18500. ,  13500. ,  23500. ,  15000. ,  11475. ,   8525. ,\n",
       "        13000. ,  30750. ,  -2750.5,  36000.5,   6000. ,  16000. ,\n",
       "        26000. ,  56000. ,  46000. ,  29750. ,  57250. ,  11000. ,\n",
       "        43500. ,  58500. ,  31000. ])"
      ]
     },
     "execution_count": 1086,
     "metadata": {},
     "output_type": "execute_result"
    }
   ],
   "source": [
    "y_train_inv"
   ]
  },
  {
   "cell_type": "code",
   "execution_count": 1087,
   "metadata": {
    "ExecuteTime": {
     "end_time": "2020-06-17T11:52:51.598604Z",
     "start_time": "2020-06-17T11:52:51.594862Z"
    }
   },
   "outputs": [
    {
     "data": {
      "text/plain": [
       "array([ -41000.,  -79000.,  -85000., -122500.,  -22500.,  -80000.,\n",
       "        -80000.,  -65000., -135000.,  -80250.,  -84750.,  -32500.,\n",
       "        -25000.])"
      ]
     },
     "execution_count": 1087,
     "metadata": {},
     "output_type": "execute_result"
    }
   ],
   "source": [
    "y_test_inv"
   ]
  },
  {
   "cell_type": "code",
   "execution_count": 1088,
   "metadata": {
    "ExecuteTime": {
     "end_time": "2020-06-17T11:52:55.445358Z",
     "start_time": "2020-06-17T11:52:55.441726Z"
    }
   },
   "outputs": [
    {
     "data": {
      "text/plain": [
       "array([ 4062.6   , 11268.779 , 28419.205 , 13066.856 ,  7203.04  ,\n",
       "       16569.625 , 11005.369 ,  9127.706 ,  7047.8936, 19436.77  ,\n",
       "       16815.525 ,  6786.631 , 17768.457 ], dtype=float32)"
      ]
     },
     "execution_count": 1088,
     "metadata": {},
     "output_type": "execute_result"
    }
   ],
   "source": [
    "y_pred_inv"
   ]
  },
  {
   "cell_type": "code",
   "execution_count": 1337,
   "metadata": {
    "ExecuteTime": {
     "end_time": "2020-06-19T10:31:10.834538Z",
     "start_time": "2020-06-19T10:31:10.830868Z"
    }
   },
   "outputs": [
    {
     "data": {
      "text/plain": [
       "array([[  4062.6   ],\n",
       "       [  7206.179 ],\n",
       "       [ 17150.426 ],\n",
       "       [-15352.349 ],\n",
       "       [ -5863.8164],\n",
       "       [  9366.584 ],\n",
       "       [ -5564.2563],\n",
       "       [ -1877.663 ],\n",
       "       [ -2079.8127],\n",
       "       [ 12388.876 ],\n",
       "       [ -2621.2437],\n",
       "       [-10028.895 ],\n",
       "       [ 10981.826 ]], dtype=float32)"
      ]
     },
     "execution_count": 1337,
     "metadata": {},
     "output_type": "execute_result"
    }
   ],
   "source": [
    "y_pred_inv_diff"
   ]
  },
  {
   "cell_type": "code",
   "execution_count": 1348,
   "metadata": {
    "ExecuteTime": {
     "end_time": "2020-06-19T10:33:35.756989Z",
     "start_time": "2020-06-19T10:33:35.752842Z"
    }
   },
   "outputs": [
    {
     "data": {
      "text/plain": [
       "array([  4062.6   ,   7206.179 ,  17150.426 , -15352.349 ,  -5863.8164,\n",
       "         9366.584 ,  -5564.2563,  -1877.663 ,  -2079.8127,  12388.876 ,\n",
       "        -2621.2437, -10028.895 ,  10981.826 ], dtype=float32)"
      ]
     },
     "execution_count": 1348,
     "metadata": {},
     "output_type": "execute_result"
    }
   ],
   "source": [
    "y_pred_inv_diff_flat = np.array([item for sublist in y_pred_inv_diff for item in sublist])\n",
    "y_pred_inv_diff_flat"
   ]
  },
  {
   "cell_type": "code",
   "execution_count": 1353,
   "metadata": {
    "ExecuteTime": {
     "end_time": "2020-06-19T10:37:44.671885Z",
     "start_time": "2020-06-19T10:37:44.666629Z"
    }
   },
   "outputs": [
    {
     "data": {
      "text/plain": [
       "array([-41000., -38000.,  -6000., -37500., 100000., -57500.,      0.,\n",
       "        15000., -70000.,  54750.,  -4500.,  52250.,   7500.])"
      ]
     },
     "execution_count": 1353,
     "metadata": {},
     "output_type": "execute_result"
    }
   ],
   "source": [
    "y_test_inv_diff_flat = np.array([item for sublist in y_test_inv_diff for item in sublist])\n",
    "y_test_inv_diff_flat"
   ]
  },
  {
   "cell_type": "code",
   "execution_count": 1355,
   "metadata": {
    "ExecuteTime": {
     "end_time": "2020-06-19T10:37:54.092760Z",
     "start_time": "2020-06-19T10:37:54.089391Z"
    }
   },
   "outputs": [
    {
     "name": "stdout",
     "output_type": "stream",
     "text": [
      "Test RMSE: 49144.005\n"
     ]
    }
   ],
   "source": [
    "rmse = sqrt(mean_squared_error(y_test_inv_diff_flat, y_pred_inv_diff_flat))\n",
    "print('Test RMSE: %.3f' % rmse)"
   ]
  },
  {
   "cell_type": "code",
   "execution_count": null,
   "metadata": {},
   "outputs": [],
   "source": []
  },
  {
   "cell_type": "code",
   "execution_count": null,
   "metadata": {},
   "outputs": [],
   "source": []
  },
  {
   "cell_type": "code",
   "execution_count": null,
   "metadata": {},
   "outputs": [],
   "source": []
  },
  {
   "cell_type": "code",
   "execution_count": null,
   "metadata": {},
   "outputs": [],
   "source": []
  },
  {
   "cell_type": "code",
   "execution_count": null,
   "metadata": {},
   "outputs": [],
   "source": []
  },
  {
   "cell_type": "code",
   "execution_count": 447,
   "metadata": {
    "ExecuteTime": {
     "end_time": "2020-06-11T10:45:59.972562Z",
     "start_time": "2020-06-11T10:45:59.948632Z"
    }
   },
   "outputs": [
    {
     "data": {
      "text/html": [
       "<div>\n",
       "<style scoped>\n",
       "    .dataframe tbody tr th:only-of-type {\n",
       "        vertical-align: middle;\n",
       "    }\n",
       "\n",
       "    .dataframe tbody tr th {\n",
       "        vertical-align: top;\n",
       "    }\n",
       "\n",
       "    .dataframe thead th {\n",
       "        text-align: right;\n",
       "    }\n",
       "</style>\n",
       "<table border=\"1\" class=\"dataframe\">\n",
       "  <thead>\n",
       "    <tr style=\"text-align: right;\">\n",
       "      <th></th>\n",
       "      <th>E01000001</th>\n",
       "      <th>E01000002</th>\n",
       "      <th>E01000003</th>\n",
       "      <th>E01032739</th>\n",
       "      <th>E01032740</th>\n",
       "      <th>E01000006</th>\n",
       "      <th>E01000009</th>\n",
       "      <th>E01000010</th>\n",
       "      <th>E01000012</th>\n",
       "      <th>E01000013</th>\n",
       "      <th>...</th>\n",
       "      <th>E01004765</th>\n",
       "      <th>E01033594</th>\n",
       "      <th>E01033595</th>\n",
       "      <th>E01033596</th>\n",
       "      <th>E01033600</th>\n",
       "      <th>E01033601</th>\n",
       "      <th>E01033603</th>\n",
       "      <th>E01033606</th>\n",
       "      <th>E01033607</th>\n",
       "      <th>E01033608</th>\n",
       "    </tr>\n",
       "  </thead>\n",
       "  <tbody>\n",
       "    <tr>\n",
       "      <th>2017-04-01</th>\n",
       "      <td>907500.0</td>\n",
       "      <td>1.732894</td>\n",
       "      <td>2.551899</td>\n",
       "      <td>1.660557</td>\n",
       "      <td>3.303693</td>\n",
       "      <td>1.483416</td>\n",
       "      <td>0.449406</td>\n",
       "      <td>1.067055</td>\n",
       "      <td>1.002272</td>\n",
       "      <td>1.615176</td>\n",
       "      <td>...</td>\n",
       "      <td>2.583973</td>\n",
       "      <td>3.102911</td>\n",
       "      <td>2.221505</td>\n",
       "      <td>6.551231</td>\n",
       "      <td>0.775113</td>\n",
       "      <td>1.825771</td>\n",
       "      <td>2.371341</td>\n",
       "      <td>1075000</td>\n",
       "      <td>720000</td>\n",
       "      <td>1.554342</td>\n",
       "    </tr>\n",
       "    <tr>\n",
       "      <th>2017-07-01</th>\n",
       "      <td>950000.0</td>\n",
       "      <td>1.650453</td>\n",
       "      <td>2.556962</td>\n",
       "      <td>1.579912</td>\n",
       "      <td>3.325007</td>\n",
       "      <td>1.470149</td>\n",
       "      <td>1.484688</td>\n",
       "      <td>1.115067</td>\n",
       "      <td>0.920845</td>\n",
       "      <td>1.593496</td>\n",
       "      <td>...</td>\n",
       "      <td>1.844628</td>\n",
       "      <td>4.246362</td>\n",
       "      <td>6.587020</td>\n",
       "      <td>6.944305</td>\n",
       "      <td>0.789016</td>\n",
       "      <td>1.774671</td>\n",
       "      <td>3.493293</td>\n",
       "      <td>1010138</td>\n",
       "      <td>735000</td>\n",
       "      <td>1.901737</td>\n",
       "    </tr>\n",
       "    <tr>\n",
       "      <th>2017-10-01</th>\n",
       "      <td>935000.0</td>\n",
       "      <td>1.650289</td>\n",
       "      <td>2.602532</td>\n",
       "      <td>1.596041</td>\n",
       "      <td>3.277051</td>\n",
       "      <td>1.509950</td>\n",
       "      <td>1.484688</td>\n",
       "      <td>1.120216</td>\n",
       "      <td>1.029414</td>\n",
       "      <td>1.593496</td>\n",
       "      <td>...</td>\n",
       "      <td>2.583973</td>\n",
       "      <td>3.778586</td>\n",
       "      <td>7.312945</td>\n",
       "      <td>5.194190</td>\n",
       "      <td>0.775113</td>\n",
       "      <td>1.723009</td>\n",
       "      <td>2.920122</td>\n",
       "      <td>975000</td>\n",
       "      <td>750000</td>\n",
       "      <td>2.040695</td>\n",
       "    </tr>\n",
       "    <tr>\n",
       "      <th>2018-01-01</th>\n",
       "      <td>920000.0</td>\n",
       "      <td>1.600989</td>\n",
       "      <td>2.551899</td>\n",
       "      <td>1.638563</td>\n",
       "      <td>3.330336</td>\n",
       "      <td>1.271144</td>\n",
       "      <td>2.190562</td>\n",
       "      <td>1.125364</td>\n",
       "      <td>0.920845</td>\n",
       "      <td>1.701897</td>\n",
       "      <td>...</td>\n",
       "      <td>1.911841</td>\n",
       "      <td>3.290021</td>\n",
       "      <td>7.181143</td>\n",
       "      <td>4.024328</td>\n",
       "      <td>1.042753</td>\n",
       "      <td>1.671347</td>\n",
       "      <td>2.005488</td>\n",
       "      <td>1010138</td>\n",
       "      <td>1627500</td>\n",
       "      <td>2.040695</td>\n",
       "    </tr>\n",
       "    <tr>\n",
       "      <th>2018-04-01</th>\n",
       "      <td>920000.0</td>\n",
       "      <td>1.518549</td>\n",
       "      <td>2.450633</td>\n",
       "      <td>3.552053</td>\n",
       "      <td>3.453958</td>\n",
       "      <td>1.387231</td>\n",
       "      <td>1.359893</td>\n",
       "      <td>1.137026</td>\n",
       "      <td>0.920845</td>\n",
       "      <td>1.701897</td>\n",
       "      <td>...</td>\n",
       "      <td>3.076869</td>\n",
       "      <td>3.622661</td>\n",
       "      <td>7.341422</td>\n",
       "      <td>1.722038</td>\n",
       "      <td>1.042753</td>\n",
       "      <td>1.620808</td>\n",
       "      <td>1.493293</td>\n",
       "      <td>755000</td>\n",
       "      <td>732500</td>\n",
       "      <td>2.040695</td>\n",
       "    </tr>\n",
       "    <tr>\n",
       "      <th>2018-07-01</th>\n",
       "      <td>850000.0</td>\n",
       "      <td>1.510305</td>\n",
       "      <td>2.250633</td>\n",
       "      <td>3.691349</td>\n",
       "      <td>3.767276</td>\n",
       "      <td>1.337479</td>\n",
       "      <td>0.519994</td>\n",
       "      <td>1.107872</td>\n",
       "      <td>1.070127</td>\n",
       "      <td>1.756098</td>\n",
       "      <td>...</td>\n",
       "      <td>3.778873</td>\n",
       "      <td>3.456341</td>\n",
       "      <td>7.341422</td>\n",
       "      <td>2.807670</td>\n",
       "      <td>1.421620</td>\n",
       "      <td>1.569707</td>\n",
       "      <td>1.688415</td>\n",
       "      <td>696000</td>\n",
       "      <td>670000</td>\n",
       "      <td>2.656079</td>\n",
       "    </tr>\n",
       "    <tr>\n",
       "      <th>2018-10-01</th>\n",
       "      <td>834750.0</td>\n",
       "      <td>1.584501</td>\n",
       "      <td>2.050633</td>\n",
       "      <td>3.771466</td>\n",
       "      <td>5.197988</td>\n",
       "      <td>1.204809</td>\n",
       "      <td>0.355290</td>\n",
       "      <td>1.122449</td>\n",
       "      <td>1.002272</td>\n",
       "      <td>1.756098</td>\n",
       "      <td>...</td>\n",
       "      <td>3.196359</td>\n",
       "      <td>3.290021</td>\n",
       "      <td>4.184695</td>\n",
       "      <td>2.807670</td>\n",
       "      <td>1.421620</td>\n",
       "      <td>1.518045</td>\n",
       "      <td>1.298171</td>\n",
       "      <td>610000</td>\n",
       "      <td>712500</td>\n",
       "      <td>2.417866</td>\n",
       "    </tr>\n",
       "    <tr>\n",
       "      <th>2019-01-01</th>\n",
       "      <td>815000.0</td>\n",
       "      <td>1.600989</td>\n",
       "      <td>1.789873</td>\n",
       "      <td>3.908358</td>\n",
       "      <td>5.316548</td>\n",
       "      <td>0.654229</td>\n",
       "      <td>0.308232</td>\n",
       "      <td>1.093294</td>\n",
       "      <td>1.178696</td>\n",
       "      <td>1.658537</td>\n",
       "      <td>...</td>\n",
       "      <td>3.614574</td>\n",
       "      <td>4.080042</td>\n",
       "      <td>3.719729</td>\n",
       "      <td>2.661672</td>\n",
       "      <td>1.393813</td>\n",
       "      <td>1.466383</td>\n",
       "      <td>2.395732</td>\n",
       "      <td>652500</td>\n",
       "      <td>637500</td>\n",
       "      <td>1.226799</td>\n",
       "    </tr>\n",
       "    <tr>\n",
       "      <th>2019-04-01</th>\n",
       "      <td>847500.0</td>\n",
       "      <td>1.675185</td>\n",
       "      <td>1.787342</td>\n",
       "      <td>3.771466</td>\n",
       "      <td>5.645586</td>\n",
       "      <td>0.143449</td>\n",
       "      <td>0.308232</td>\n",
       "      <td>1.055394</td>\n",
       "      <td>1.192267</td>\n",
       "      <td>1.647696</td>\n",
       "      <td>...</td>\n",
       "      <td>1.949182</td>\n",
       "      <td>3.518711</td>\n",
       "      <td>1.518889</td>\n",
       "      <td>2.661672</td>\n",
       "      <td>1.988182</td>\n",
       "      <td>1.415845</td>\n",
       "      <td>2.395732</td>\n",
       "      <td>652500</td>\n",
       "      <td>4230000</td>\n",
       "      <td>1.068867</td>\n",
       "    </tr>\n",
       "    <tr>\n",
       "      <th>2019-07-01</th>\n",
       "      <td>887500.0</td>\n",
       "      <td>1.749382</td>\n",
       "      <td>1.665823</td>\n",
       "      <td>4.093548</td>\n",
       "      <td>3.783262</td>\n",
       "      <td>0.723881</td>\n",
       "      <td>0.308232</td>\n",
       "      <td>0.962099</td>\n",
       "      <td>1.192267</td>\n",
       "      <td>1.737127</td>\n",
       "      <td>...</td>\n",
       "      <td>2.594428</td>\n",
       "      <td>4.080042</td>\n",
       "      <td>2.448821</td>\n",
       "      <td>1.123068</td>\n",
       "      <td>0.941953</td>\n",
       "      <td>1.364744</td>\n",
       "      <td>1.375822</td>\n",
       "      <td>652500</td>\n",
       "      <td>4450000</td>\n",
       "      <td>0.909181</td>\n",
       "    </tr>\n",
       "  </tbody>\n",
       "</table>\n",
       "<p>10 rows × 4262 columns</p>\n",
       "</div>"
      ],
      "text/plain": [
       "            E01000001  E01000002  E01000003  E01032739  E01032740  E01000006  \\\n",
       "2017-04-01   907500.0   1.732894   2.551899   1.660557   3.303693   1.483416   \n",
       "2017-07-01   950000.0   1.650453   2.556962   1.579912   3.325007   1.470149   \n",
       "2017-10-01   935000.0   1.650289   2.602532   1.596041   3.277051   1.509950   \n",
       "2018-01-01   920000.0   1.600989   2.551899   1.638563   3.330336   1.271144   \n",
       "2018-04-01   920000.0   1.518549   2.450633   3.552053   3.453958   1.387231   \n",
       "2018-07-01   850000.0   1.510305   2.250633   3.691349   3.767276   1.337479   \n",
       "2018-10-01   834750.0   1.584501   2.050633   3.771466   5.197988   1.204809   \n",
       "2019-01-01   815000.0   1.600989   1.789873   3.908358   5.316548   0.654229   \n",
       "2019-04-01   847500.0   1.675185   1.787342   3.771466   5.645586   0.143449   \n",
       "2019-07-01   887500.0   1.749382   1.665823   4.093548   3.783262   0.723881   \n",
       "\n",
       "            E01000009  E01000010  E01000012  E01000013  ...  E01004765  \\\n",
       "2017-04-01   0.449406   1.067055   1.002272   1.615176  ...   2.583973   \n",
       "2017-07-01   1.484688   1.115067   0.920845   1.593496  ...   1.844628   \n",
       "2017-10-01   1.484688   1.120216   1.029414   1.593496  ...   2.583973   \n",
       "2018-01-01   2.190562   1.125364   0.920845   1.701897  ...   1.911841   \n",
       "2018-04-01   1.359893   1.137026   0.920845   1.701897  ...   3.076869   \n",
       "2018-07-01   0.519994   1.107872   1.070127   1.756098  ...   3.778873   \n",
       "2018-10-01   0.355290   1.122449   1.002272   1.756098  ...   3.196359   \n",
       "2019-01-01   0.308232   1.093294   1.178696   1.658537  ...   3.614574   \n",
       "2019-04-01   0.308232   1.055394   1.192267   1.647696  ...   1.949182   \n",
       "2019-07-01   0.308232   0.962099   1.192267   1.737127  ...   2.594428   \n",
       "\n",
       "            E01033594  E01033595  E01033596  E01033600  E01033601  E01033603  \\\n",
       "2017-04-01   3.102911   2.221505   6.551231   0.775113   1.825771   2.371341   \n",
       "2017-07-01   4.246362   6.587020   6.944305   0.789016   1.774671   3.493293   \n",
       "2017-10-01   3.778586   7.312945   5.194190   0.775113   1.723009   2.920122   \n",
       "2018-01-01   3.290021   7.181143   4.024328   1.042753   1.671347   2.005488   \n",
       "2018-04-01   3.622661   7.341422   1.722038   1.042753   1.620808   1.493293   \n",
       "2018-07-01   3.456341   7.341422   2.807670   1.421620   1.569707   1.688415   \n",
       "2018-10-01   3.290021   4.184695   2.807670   1.421620   1.518045   1.298171   \n",
       "2019-01-01   4.080042   3.719729   2.661672   1.393813   1.466383   2.395732   \n",
       "2019-04-01   3.518711   1.518889   2.661672   1.988182   1.415845   2.395732   \n",
       "2019-07-01   4.080042   2.448821   1.123068   0.941953   1.364744   1.375822   \n",
       "\n",
       "            E01033606  E01033607  E01033608  \n",
       "2017-04-01    1075000     720000   1.554342  \n",
       "2017-07-01    1010138     735000   1.901737  \n",
       "2017-10-01     975000     750000   2.040695  \n",
       "2018-01-01    1010138    1627500   2.040695  \n",
       "2018-04-01     755000     732500   2.040695  \n",
       "2018-07-01     696000     670000   2.656079  \n",
       "2018-10-01     610000     712500   2.417866  \n",
       "2019-01-01     652500     637500   1.226799  \n",
       "2019-04-01     652500    4230000   1.068867  \n",
       "2019-07-01     652500    4450000   0.909181  \n",
       "\n",
       "[10 rows x 4262 columns]"
      ]
     },
     "execution_count": 447,
     "metadata": {},
     "output_type": "execute_result"
    }
   ],
   "source": [
    "df_med_int.tail(10)"
   ]
  },
  {
   "cell_type": "code",
   "execution_count": null,
   "metadata": {},
   "outputs": [],
   "source": []
  },
  {
   "cell_type": "code",
   "execution_count": null,
   "metadata": {},
   "outputs": [],
   "source": []
  },
  {
   "cell_type": "code",
   "execution_count": 199,
   "metadata": {
    "ExecuteTime": {
     "end_time": "2020-06-09T19:00:29.476222Z",
     "start_time": "2020-06-09T19:00:29.473784Z"
    }
   },
   "outputs": [],
   "source": [
    "from sklearn.preprocessing import MinMaxScaler"
   ]
  },
  {
   "cell_type": "code",
   "execution_count": 200,
   "metadata": {
    "ExecuteTime": {
     "end_time": "2020-06-09T19:00:29.962209Z",
     "start_time": "2020-06-09T19:00:29.954852Z"
    }
   },
   "outputs": [],
   "source": [
    "\n",
    "# convert series to supervised learning\n",
    "def series_to_supervised(data, n_in=1, n_out=1, dropnan=True):\n",
    "    n_vars = 1 if type(data) is list else data.shape[1]\n",
    "    df = pd.DataFrame(data)\n",
    "    cols, names = list(), list()\n",
    "    # input sequence (t-n, ... t-1)\n",
    "    for i in range(n_in, 0, -1):\n",
    "        cols.append(df.shift(i))\n",
    "        names += [('var%d(t-%d)' % (j+1, i)) for j in range(n_vars)]\n",
    "    # forecast sequence (t, t+1, ... t+n)\n",
    "    for i in range(0, n_out):\n",
    "        cols.append(df.shift(-i))\n",
    "        if i == 0:\n",
    "            names += [('var%d(t)' % (j+1)) for j in range(n_vars)]\n",
    "        else:\n",
    "            names += [('var%d(t+%d)' % (j+1, i)) for j in range(n_vars)]\n",
    "    # put it all together\n",
    "    agg = pd.concat(cols, axis=1)\n",
    "    agg.columns = names\n",
    "    # drop rows with NaN values\n",
    "    if dropnan:\n",
    "        agg.dropna(inplace=True)\n",
    "    return agg\n",
    " \n"
   ]
  },
  {
   "cell_type": "code",
   "execution_count": 264,
   "metadata": {
    "ExecuteTime": {
     "end_time": "2020-06-09T19:16:06.978075Z",
     "start_time": "2020-06-09T19:16:06.967782Z"
    }
   },
   "outputs": [],
   "source": [
    "values = df_med_int.values\n",
    "\n",
    "values = values.astype('float32')\n",
    "\n",
    "scaler = MinMaxScaler(feature_range=(0, 1))\n",
    "scaled = scaler.fit_transform(values)"
   ]
  },
  {
   "cell_type": "code",
   "execution_count": 265,
   "metadata": {
    "ExecuteTime": {
     "end_time": "2020-06-09T19:16:07.184076Z",
     "start_time": "2020-06-09T19:16:07.133150Z"
    }
   },
   "outputs": [
    {
     "name": "stdout",
     "output_type": "stream",
     "text": [
      "(92, 21310)\n"
     ]
    }
   ],
   "source": [
    "n_quarters = 4\n",
    "n_features = 4262\n",
    "\n",
    "reframed = series_to_supervised(scaled, n_quarters, 1)\n",
    "print(reframed.shape)"
   ]
  },
  {
   "cell_type": "code",
   "execution_count": 266,
   "metadata": {
    "ExecuteTime": {
     "end_time": "2020-06-09T19:16:07.294915Z",
     "start_time": "2020-06-09T19:16:07.290421Z"
    }
   },
   "outputs": [
    {
     "name": "stdout",
     "output_type": "stream",
     "text": [
      "86 6\n"
     ]
    }
   ],
   "source": [
    "values = reframed.values\n",
    "\n",
    "train_size = int(len(df_med_int) * 0.9)\n",
    "test_size = len(df_med_int) - train_size\n",
    "\n",
    "train = values[:train_size, :]\n",
    "test = values[train_size:, :]\n",
    "print(len(train), len(test))"
   ]
  },
  {
   "cell_type": "code",
   "execution_count": 267,
   "metadata": {
    "ExecuteTime": {
     "end_time": "2020-06-09T19:16:07.441075Z",
     "start_time": "2020-06-09T19:16:07.438043Z"
    }
   },
   "outputs": [],
   "source": [
    "# split into input and outputs\n",
    "n_obs = n_quarters * n_features\n",
    "X_train, y_train = train[:, :n_obs], train[:, -n_features]\n",
    "X_test, y_test = test[:, :n_obs], test[:, -n_features]\n"
   ]
  },
  {
   "cell_type": "code",
   "execution_count": 268,
   "metadata": {
    "ExecuteTime": {
     "end_time": "2020-06-09T19:16:07.630220Z",
     "start_time": "2020-06-09T19:16:07.627269Z"
    }
   },
   "outputs": [],
   "source": [
    "# reshape input to be 3D [samples, timesteps, features]\n",
    "X_train = X_train.reshape((X_train.shape[0], n_quarters, n_features))\n",
    "X_test = X_test.reshape((X_test.shape[0], n_quarters, n_features))"
   ]
  },
  {
   "cell_type": "code",
   "execution_count": 269,
   "metadata": {
    "ExecuteTime": {
     "end_time": "2020-06-09T19:16:08.400225Z",
     "start_time": "2020-06-09T19:16:08.396722Z"
    },
    "scrolled": true
   },
   "outputs": [
    {
     "name": "stdout",
     "output_type": "stream",
     "text": [
      "(86, 4, 4262) (6, 4, 4262) (86,) (6,)\n"
     ]
    }
   ],
   "source": [
    "print(X_train.shape, X_test.shape, y_train.shape, y_test.shape)"
   ]
  },
  {
   "cell_type": "code",
   "execution_count": 270,
   "metadata": {
    "ExecuteTime": {
     "end_time": "2020-06-09T19:16:08.596365Z",
     "start_time": "2020-06-09T19:16:08.592548Z"
    }
   },
   "outputs": [
    {
     "data": {
      "text/plain": [
       "4262"
      ]
     },
     "execution_count": 270,
     "metadata": {},
     "output_type": "execute_result"
    }
   ],
   "source": [
    "X_train.shape[2]"
   ]
  },
  {
   "cell_type": "code",
   "execution_count": 271,
   "metadata": {
    "ExecuteTime": {
     "end_time": "2020-06-09T19:16:08.951219Z",
     "start_time": "2020-06-09T19:16:08.948834Z"
    }
   },
   "outputs": [],
   "source": [
    "import keras"
   ]
  },
  {
   "cell_type": "code",
   "execution_count": 272,
   "metadata": {
    "ExecuteTime": {
     "end_time": "2020-06-09T19:16:09.269865Z",
     "start_time": "2020-06-09T19:16:09.261472Z"
    }
   },
   "outputs": [],
   "source": [
    "model = keras.Sequential()\n",
    "model.add(\n",
    "  keras.layers.Bidirectional(\n",
    "    keras.layers.LSTM(\n",
    "      units=128,\n",
    "      input_shape=(X_train.shape[1], X_train.shape[2])\n",
    "    )\n",
    "  )\n",
    ")\n",
    "model.add(keras.layers.Dropout(rate=0.2))\n",
    "model.add(keras.layers.Dense(units=1))\n",
    "model.compile(loss='mean_squared_error', optimizer='adam')"
   ]
  },
  {
   "cell_type": "code",
   "execution_count": 273,
   "metadata": {
    "ExecuteTime": {
     "end_time": "2020-06-09T19:16:16.888321Z",
     "start_time": "2020-06-09T19:16:09.645574Z"
    },
    "scrolled": true
   },
   "outputs": [
    {
     "name": "stdout",
     "output_type": "stream",
     "text": [
      "Train on 86 samples, validate on 6 samples\n",
      "Epoch 1/5\n",
      "86/86 [==============================] - 2s 21ms/step - loss: 0.4952 - val_loss: 0.0214\n",
      "Epoch 2/5\n",
      "86/86 [==============================] - 1s 12ms/step - loss: 0.1589 - val_loss: 0.0670\n",
      "Epoch 3/5\n",
      "86/86 [==============================] - 1s 12ms/step - loss: 0.0807 - val_loss: 0.1432\n",
      "Epoch 4/5\n",
      "86/86 [==============================] - 1s 12ms/step - loss: 0.0696 - val_loss: 0.1775\n",
      "Epoch 5/5\n",
      "86/86 [==============================] - 1s 13ms/step - loss: 0.0589 - val_loss: 0.1521\n"
     ]
    }
   ],
   "source": [
    "history = model.fit(\n",
    "    X_train, y_train,\n",
    "    epochs=5,\n",
    "    batch_size=6,\n",
    "    validation_split=0.1,\n",
    "    validation_data=(X_test, y_test),\n",
    "    shuffle=False\n",
    ")"
   ]
  },
  {
   "cell_type": "code",
   "execution_count": 274,
   "metadata": {
    "ExecuteTime": {
     "end_time": "2020-06-09T19:16:17.053850Z",
     "start_time": "2020-06-09T19:16:16.891244Z"
    }
   },
   "outputs": [
    {
     "data": {
      "image/png": "[encoded data removed]",
      "text/plain": [
       "<Figure size 432x288 with 1 Axes>"
      ]
     },
     "metadata": {
      "image/png": {
       "height": 248,
       "width": 372
      },
      "needs_background": "light"
     },
     "output_type": "display_data"
    }
   ],
   "source": [
    "from matplotlib import pyplot\n",
    "pyplot.plot(history.history['loss'], label='train')\n",
    "pyplot.plot(history.history['val_loss'], label='test')\n",
    "pyplot.legend()\n",
    "pyplot.show()"
   ]
  },
  {
   "cell_type": "code",
   "execution_count": 275,
   "metadata": {
    "ExecuteTime": {
     "end_time": "2020-06-09T19:16:17.290984Z",
     "start_time": "2020-06-09T19:16:17.055808Z"
    }
   },
   "outputs": [
    {
     "ename": "ValueError",
     "evalue": "operands could not be broadcast together with shapes (6,8) (4262,) (6,8) ",
     "output_type": "error",
     "traceback": [
      "\u001b[0;31m---------------------------------------------------------------------------\u001b[0m",
      "\u001b[0;31mValueError\u001b[0m                                Traceback (most recent call last)",
      "\u001b[0;32m<ipython-input-275-9a51e7ead910>\u001b[0m in \u001b[0;36m<module>\u001b[0;34m\u001b[0m\n\u001b[1;32m      4\u001b[0m \u001b[0;31m# invert scaling for forecast\u001b[0m\u001b[0;34m\u001b[0m\u001b[0;34m\u001b[0m\u001b[0;34m\u001b[0m\u001b[0m\n\u001b[1;32m      5\u001b[0m \u001b[0minv_yhat\u001b[0m \u001b[0;34m=\u001b[0m \u001b[0mnp\u001b[0m\u001b[0;34m.\u001b[0m\u001b[0mconcatenate\u001b[0m\u001b[0;34m(\u001b[0m\u001b[0;34m(\u001b[0m\u001b[0myhat\u001b[0m\u001b[0;34m,\u001b[0m \u001b[0mX_test\u001b[0m\u001b[0;34m[\u001b[0m\u001b[0;34m:\u001b[0m\u001b[0;34m,\u001b[0m \u001b[0;34m-\u001b[0m\u001b[0;36m7\u001b[0m\u001b[0;34m:\u001b[0m\u001b[0;34m]\u001b[0m\u001b[0;34m)\u001b[0m\u001b[0;34m,\u001b[0m \u001b[0maxis\u001b[0m\u001b[0;34m=\u001b[0m\u001b[0;36m1\u001b[0m\u001b[0;34m)\u001b[0m\u001b[0;34m\u001b[0m\u001b[0;34m\u001b[0m\u001b[0m\n\u001b[0;32m----> 6\u001b[0;31m \u001b[0minv_yhat\u001b[0m \u001b[0;34m=\u001b[0m \u001b[0mscaler\u001b[0m\u001b[0;34m.\u001b[0m\u001b[0minverse_transform\u001b[0m\u001b[0;34m(\u001b[0m\u001b[0minv_yhat\u001b[0m\u001b[0;34m)\u001b[0m\u001b[0;34m\u001b[0m\u001b[0;34m\u001b[0m\u001b[0m\n\u001b[0m\u001b[1;32m      7\u001b[0m \u001b[0minv_yhat\u001b[0m \u001b[0;34m=\u001b[0m \u001b[0minv_yhat\u001b[0m\u001b[0;34m[\u001b[0m\u001b[0;34m:\u001b[0m\u001b[0;34m,\u001b[0m\u001b[0;36m0\u001b[0m\u001b[0;34m]\u001b[0m\u001b[0;34m\u001b[0m\u001b[0;34m\u001b[0m\u001b[0m\n\u001b[1;32m      8\u001b[0m \u001b[0;34m\u001b[0m\u001b[0m\n",
      "\u001b[0;32m~/opt/anaconda3/envs/tensorflow_env/lib/python3.7/site-packages/sklearn/preprocessing/_data.py\u001b[0m in \u001b[0;36minverse_transform\u001b[0;34m(self, X)\u001b[0m\n\u001b[1;32m    430\u001b[0m                         force_all_finite=\"allow-nan\")\n\u001b[1;32m    431\u001b[0m \u001b[0;34m\u001b[0m\u001b[0m\n\u001b[0;32m--> 432\u001b[0;31m         \u001b[0mX\u001b[0m \u001b[0;34m-=\u001b[0m \u001b[0mself\u001b[0m\u001b[0;34m.\u001b[0m\u001b[0mmin_\u001b[0m\u001b[0;34m\u001b[0m\u001b[0;34m\u001b[0m\u001b[0m\n\u001b[0m\u001b[1;32m    433\u001b[0m         \u001b[0mX\u001b[0m \u001b[0;34m/=\u001b[0m \u001b[0mself\u001b[0m\u001b[0;34m.\u001b[0m\u001b[0mscale_\u001b[0m\u001b[0;34m\u001b[0m\u001b[0;34m\u001b[0m\u001b[0m\n\u001b[1;32m    434\u001b[0m         \u001b[0;32mreturn\u001b[0m \u001b[0mX\u001b[0m\u001b[0;34m\u001b[0m\u001b[0;34m\u001b[0m\u001b[0m\n",
      "\u001b[0;31mValueError\u001b[0m: operands could not be broadcast together with shapes (6,8) (4262,) (6,8) "
     ]
    }
   ],
   "source": [
    "yhat = model.predict(X_test)\n",
    "X_test = X_test.reshape((X_test.shape[0], n_quarters*n_features))\n",
    "\n",
    "# invert scaling for forecast\n",
    "inv_yhat = np.concatenate((yhat, X_test[:, -7:]), axis=1)\n",
    "inv_yhat = scaler.inverse_transform(inv_yhat)\n",
    "inv_yhat = inv_yhat[:,0]\n",
    "\n",
    "# invert scaling for actual\n",
    "y_test = y_test.reshape((len(y_test), 1))\n",
    "inv_y = concatenate((test_y, X_test[:, -7:]), axis=1)\n",
    "inv_y = scaler.inverse_transform(inv_y)\n",
    "inv_y = inv_y[:,0]"
   ]
  },
  {
   "cell_type": "code",
   "execution_count": 213,
   "metadata": {
    "ExecuteTime": {
     "end_time": "2020-06-09T19:00:38.597473Z",
     "start_time": "2020-06-09T19:00:38.323349Z"
    }
   },
   "outputs": [
    {
     "ename": "NameError",
     "evalue": "name 'sqrt' is not defined",
     "output_type": "error",
     "traceback": [
      "\u001b[0;31m---------------------------------------------------------------------------\u001b[0m",
      "\u001b[0;31mNameError\u001b[0m                                 Traceback (most recent call last)",
      "\u001b[0;32m<ipython-input-213-fe9d962e2370>\u001b[0m in \u001b[0;36m<module>\u001b[0;34m\u001b[0m\n\u001b[1;32m     16\u001b[0m \u001b[0;32mfrom\u001b[0m \u001b[0msklearn\u001b[0m\u001b[0;34m.\u001b[0m\u001b[0mmetrics\u001b[0m \u001b[0;32mimport\u001b[0m \u001b[0mmean_squared_error\u001b[0m\u001b[0;34m\u001b[0m\u001b[0;34m\u001b[0m\u001b[0m\n\u001b[1;32m     17\u001b[0m \u001b[0;31m# calculate RMSE\u001b[0m\u001b[0;34m\u001b[0m\u001b[0;34m\u001b[0m\u001b[0;34m\u001b[0m\u001b[0m\n\u001b[0;32m---> 18\u001b[0;31m \u001b[0mrmse\u001b[0m \u001b[0;34m=\u001b[0m \u001b[0msqrt\u001b[0m\u001b[0;34m(\u001b[0m\u001b[0mmean_squared_error\u001b[0m\u001b[0;34m(\u001b[0m\u001b[0minv_y\u001b[0m\u001b[0;34m,\u001b[0m \u001b[0minv_yhat\u001b[0m\u001b[0;34m)\u001b[0m\u001b[0;34m)\u001b[0m\u001b[0;34m\u001b[0m\u001b[0;34m\u001b[0m\u001b[0m\n\u001b[0m\u001b[1;32m     19\u001b[0m \u001b[0mprint\u001b[0m\u001b[0;34m(\u001b[0m\u001b[0;34m'Test RMSE: %.3f'\u001b[0m \u001b[0;34m%\u001b[0m \u001b[0mrmse\u001b[0m\u001b[0;34m)\u001b[0m\u001b[0;34m\u001b[0m\u001b[0;34m\u001b[0m\u001b[0m\n",
      "\u001b[0;31mNameError\u001b[0m: name 'sqrt' is not defined"
     ]
    }
   ],
   "source": [
    "# make a prediction\n",
    "yhat = model.predict(X_test)\n",
    "X_test = X_test.reshape((X_test.shape[0], X_test.shape[2]))\n",
    "\n",
    "# invert scaling for forecast\n",
    "inv_yhat = np.concatenate((yhat, X_test[:, 1:]), axis=1)\n",
    "inv_yhat = scaler.inverse_transform(inv_yhat)\n",
    "inv_yhat = inv_yhat[:,0]\n",
    "\n",
    "# invert scaling for actual\n",
    "y_test = y_test.reshape((len(y_test), 1))\n",
    "inv_y = np.concatenate((y_test, X_test[:, 1:]), axis=1)\n",
    "inv_y = scaler.inverse_transform(inv_y)\n",
    "inv_y = inv_y[:,0]"
   ]
  },
  {
   "cell_type": "code",
   "execution_count": 214,
   "metadata": {
    "ExecuteTime": {
     "end_time": "2020-06-09T19:01:36.503666Z",
     "start_time": "2020-06-09T19:01:36.499915Z"
    }
   },
   "outputs": [
    {
     "name": "stdout",
     "output_type": "stream",
     "text": [
      "Test RMSE: 1.474\n"
     ]
    }
   ],
   "source": [
    "from math import sqrt\n",
    "from sklearn.metrics import mean_squared_error\n",
    "# calculate RMSE\n",
    "rmse = sqrt(mean_squared_error(inv_y, inv_yhat))\n",
    "print('Test RMSE: %.3f' % rmse)"
   ]
  },
  {
   "cell_type": "code",
   "execution_count": null,
   "metadata": {
    "ExecuteTime": {
     "end_time": "2020-06-09T19:00:38.599633Z",
     "start_time": "2020-06-09T19:00:35.140Z"
    }
   },
   "outputs": [],
   "source": [
    "y_train_inv = f_transformer.inverse_transform(y_train.reshape(1, -1))\n",
    "y_test_inv = f_transformer.inverse_transform(y_test.reshape(1, -1))\n",
    "y_pred_inv = f_transformer.inverse_transform(y_pred)"
   ]
  },
  {
   "cell_type": "code",
   "execution_count": null,
   "metadata": {},
   "outputs": [],
   "source": [
    "plt.plot(np.arange(0, len(y_train)), y_train_inv.flatten(), 'g', label=\"history\")\n",
    "plt.plot(np.arange(len(y_train), len(y_train) + len(y_test)), y_test_inv.flatten(), marker='.', label=\"true\")\n",
    "plt.plot(np.arange(len(y_train), len(y_train) + len(y_test)), y_pred_inv.flatten(), 'r', label=\"prediction\")\n",
    "plt.ylabel('Bike Count')\n",
    "plt.xlabel('Time Step')\n",
    "plt.legend()\n",
    "plt.show();"
   ]
  },
  {
   "cell_type": "code",
   "execution_count": null,
   "metadata": {},
   "outputs": [],
   "source": [
    "plt.plot(y_test_inv.flatten(), marker='.', label=\"true\")\n",
    "plt.plot(y_pred_inv.flatten(), 'r', label=\"prediction\")\n",
    "plt.ylabel('Bike Count')\n",
    "plt.xlabel('Time Step')\n",
    "plt.legend()\n",
    "plt.show();"
   ]
  },
  {
   "cell_type": "code",
   "execution_count": null,
   "metadata": {},
   "outputs": [],
   "source": []
  },
  {
   "cell_type": "code",
   "execution_count": null,
   "metadata": {},
   "outputs": [],
   "source": []
  },
  {
   "cell_type": "code",
   "execution_count": null,
   "metadata": {},
   "outputs": [],
   "source": []
  },
  {
   "cell_type": "code",
   "execution_count": null,
   "metadata": {
    "ExecuteTime": {
     "end_time": "2020-06-09T12:47:46.709335Z",
     "start_time": "2020-06-09T12:47:46.637701Z"
    },
    "scrolled": true
   },
   "outputs": [],
   "source": [
    "pred_list = []\n",
    "\n",
    "batch = X_train[-time_steps:].reshape((10, time_steps, n_features))\n",
    "print(batch.shape)\n",
    "print(batch[0])\n",
    "\n",
    "for i in range(time_steps):\n",
    "    pred_list.append(model.predict(batch)[0])\n",
    "    print(pred_list[i])\n",
    "    print(len(batch[:, :, :]))\n",
    "    batch = np.append(batch[:, 1:, :], [[pred_list[i]]], axis=1)\n",
    "    \n",
    "    \n",
    "    "
   ]
  },
  {
   "cell_type": "code",
   "execution_count": null,
   "metadata": {},
   "outputs": [],
   "source": [
    "df_predict = pd.DataFrame(scaler.inverse_transform(pred_list), \n",
    "                          index=df[-n_input:].index,\n",
    "                         columns=['predictions'])\n",
    "\n",
    "df_test = pd.concat([df, df_predict], axis=1)"
   ]
  }
 ],
 "metadata": {
  "kernelspec": {
   "display_name": "tensorflow_env",
   "language": "python",
   "name": "tensorflow_env"
  },
  "language_info": {
   "codemirror_mode": {
    "name": "ipython",
    "version": 3
   },
   "file_extension": ".py",
   "mimetype": "text/x-python",
   "name": "python",
   "nbconvert_exporter": "python",
   "pygments_lexer": "ipython3",
   "version": "3.7.4"
  },
  "toc": {
   "base_numbering": 1,
   "nav_menu": {},
   "number_sections": true,
   "sideBar": true,
   "skip_h1_title": false,
   "title_cell": "Table of Contents",
   "title_sidebar": "Contents",
   "toc_cell": false,
   "toc_position": {},
   "toc_section_display": true,
   "toc_window_display": false
  }
 },
 "nbformat": 4,
 "nbformat_minor": 2
}
